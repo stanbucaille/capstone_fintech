{
 "cells": [
  {
   "cell_type": "markdown",
   "metadata": {},
   "source": [
    "# Signal from Hidden Markov Models (regime detection)"
   ]
  },
  {
   "cell_type": "markdown",
   "metadata": {},
   "source": [
    "### Import"
   ]
  },
  {
   "cell_type": "code",
   "execution_count": 1,
   "metadata": {},
   "outputs": [
    {
     "name": "stderr",
     "output_type": "stream",
     "text": [
      "/opt/anaconda3/lib/python3.7/site-packages/statsmodels/tools/_testing.py:19: FutureWarning: pandas.util.testing is deprecated. Use the functions in the public API at pandas.testing instead.\n",
      "  import pandas.util.testing as tm\n"
     ]
    }
   ],
   "source": [
    "from __future__ import print_function\n",
    "\n",
    "import datetime\n",
    "import warnings\n",
    "\n",
    "from pathlib import Path \n",
    "\n",
    "from hmmlearn.hmm import GaussianHMM\n",
    "from matplotlib import cm, pyplot as plt\n",
    "from matplotlib.dates import YearLocator, MonthLocator\n",
    "import numpy as np\n",
    "import pandas as pd\n",
    "import seaborn as sns"
   ]
  },
  {
   "cell_type": "markdown",
   "metadata": {},
   "source": [
    "### Get data"
   ]
  },
  {
   "cell_type": "code",
   "execution_count": 2,
   "metadata": {},
   "outputs": [],
   "source": [
    "filepath = Path('../../data/csv/Binance_BTCUSDT_1h.csv')"
   ]
  },
  {
   "cell_type": "code",
   "execution_count": 3,
   "metadata": {},
   "outputs": [],
   "source": [
    "def format_datetime(date):\n",
    "    if date[-2:] == 'AM':\n",
    "        hour = int(date[-5:-3])\n",
    "        year, month, day = date[:-6].split('-')\n",
    "        date = pd.Timestamp(int(year), int(month), int(day), hour)\n",
    "    elif date[-2:] == 'PM':\n",
    "        hour = (int(date[-5:-3])+12)%24\n",
    "        year, month, day = date[:-6].split('-')\n",
    "        date = pd.Timestamp(int(year), int(month), int(day), hour)\n",
    "    return date\n",
    "\n",
    "\n",
    "\n",
    "def obtain_prices_df(csv_filepath, crop, nb_days):\n",
    "    \"\"\"\n",
    "    Obtain the prices DataFrame from the CSV file, filter by the end date and calculate the REALIZED VOLATILITY.\n",
    "    \"\"\"\n",
    "    df = pd.read_csv(csv_filepath)\n",
    "    \n",
    "    if crop:\n",
    "        df = df[-nb_days*24:]\n",
    "    \n",
    "    df = df[::-1].reset_index().drop(columns=['index', 'unix', 'tradecount', 'symbol', 'open', \n",
    "                                              'high', 'low', 'Volume BTC', 'Volume USDT'])\n",
    "\n",
    "    df[\"Realized_Vol\"] = (((df[\"close\"].pct_change())**2).rolling(24).sum())\n",
    "    df = df.dropna().reset_index().drop(columns=['index']).set_index('date')\n",
    "\n",
    "    # Scaling\n",
    "    df[\"Realized_Vol\"] = df[\"Realized_Vol\"] / df[\"Realized_Vol\"][0]\n",
    "    \n",
    "    # Reformat index - datetime\n",
    "    df['date'] = df.apply(lambda row: format_datetime(row.name),axis=1)\n",
    "    df = df.set_index('date')\n",
    "    \n",
    "    return df"
   ]
  },
  {
   "cell_type": "code",
   "execution_count": 4,
   "metadata": {},
   "outputs": [
    {
     "name": "stderr",
     "output_type": "stream",
     "text": [
      "/opt/anaconda3/lib/python3.7/site-packages/ipykernel_launcher.py:33: FutureWarning: Inferring datetime64[ns] from data containing strings is deprecated and will be removed in a future version. To retain the old behavior explicitly pass Series(data, dtype={value.dtype})\n"
     ]
    }
   ],
   "source": [
    "BTC = obtain_prices_df(filepath, False, 10) # last two parameters are not important (just when I did some tests)"
   ]
  },
  {
   "cell_type": "code",
   "execution_count": 5,
   "metadata": {},
   "outputs": [
    {
     "data": {
      "text/html": [
       "<div>\n",
       "<style scoped>\n",
       "    .dataframe tbody tr th:only-of-type {\n",
       "        vertical-align: middle;\n",
       "    }\n",
       "\n",
       "    .dataframe tbody tr th {\n",
       "        vertical-align: top;\n",
       "    }\n",
       "\n",
       "    .dataframe thead th {\n",
       "        text-align: right;\n",
       "    }\n",
       "</style>\n",
       "<table border=\"1\" class=\"dataframe\">\n",
       "  <thead>\n",
       "    <tr style=\"text-align: right;\">\n",
       "      <th></th>\n",
       "      <th>close</th>\n",
       "      <th>Realized_Vol</th>\n",
       "    </tr>\n",
       "    <tr>\n",
       "      <th>date</th>\n",
       "      <th></th>\n",
       "      <th></th>\n",
       "    </tr>\n",
       "  </thead>\n",
       "  <tbody>\n",
       "    <tr>\n",
       "      <th>2022-04-16 22:00:00</th>\n",
       "      <td>40405.86</td>\n",
       "      <td>0.080685</td>\n",
       "    </tr>\n",
       "    <tr>\n",
       "      <th>2022-04-16 23:00:00</th>\n",
       "      <td>40378.71</td>\n",
       "      <td>0.079054</td>\n",
       "    </tr>\n",
       "    <tr>\n",
       "      <th>2022-04-17 00:00:00</th>\n",
       "      <td>40376.49</td>\n",
       "      <td>0.079038</td>\n",
       "    </tr>\n",
       "  </tbody>\n",
       "</table>\n",
       "</div>"
      ],
      "text/plain": [
       "                        close  Realized_Vol\n",
       "date                                       \n",
       "2022-04-16 22:00:00  40405.86      0.080685\n",
       "2022-04-16 23:00:00  40378.71      0.079054\n",
       "2022-04-17 00:00:00  40376.49      0.079038"
      ]
     },
     "metadata": {},
     "output_type": "display_data"
    },
    {
     "data": {
      "text/html": [
       "<div>\n",
       "<style scoped>\n",
       "    .dataframe tbody tr th:only-of-type {\n",
       "        vertical-align: middle;\n",
       "    }\n",
       "\n",
       "    .dataframe tbody tr th {\n",
       "        vertical-align: top;\n",
       "    }\n",
       "\n",
       "    .dataframe thead th {\n",
       "        text-align: right;\n",
       "    }\n",
       "</style>\n",
       "<table border=\"1\" class=\"dataframe\">\n",
       "  <thead>\n",
       "    <tr style=\"text-align: right;\">\n",
       "      <th></th>\n",
       "      <th>close</th>\n",
       "      <th>Realized_Vol</th>\n",
       "    </tr>\n",
       "    <tr>\n",
       "      <th>date</th>\n",
       "      <th></th>\n",
       "      <th></th>\n",
       "    </tr>\n",
       "  </thead>\n",
       "  <tbody>\n",
       "    <tr>\n",
       "      <th>2017-08-18 04:00:00</th>\n",
       "      <td>4287.92</td>\n",
       "      <td>1.000000</td>\n",
       "    </tr>\n",
       "    <tr>\n",
       "      <th>2017-08-18 05:00:00</th>\n",
       "      <td>4313.56</td>\n",
       "      <td>1.014009</td>\n",
       "    </tr>\n",
       "    <tr>\n",
       "      <th>2017-08-18 06:00:00</th>\n",
       "      <td>4279.46</td>\n",
       "      <td>1.038321</td>\n",
       "    </tr>\n",
       "  </tbody>\n",
       "</table>\n",
       "</div>"
      ],
      "text/plain": [
       "                       close  Realized_Vol\n",
       "date                                      \n",
       "2017-08-18 04:00:00  4287.92      1.000000\n",
       "2017-08-18 05:00:00  4313.56      1.014009\n",
       "2017-08-18 06:00:00  4279.46      1.038321"
      ]
     },
     "metadata": {},
     "output_type": "display_data"
    }
   ],
   "source": [
    "display(BTC.tail(3))\n",
    "display(BTC.head(3))"
   ]
  },
  {
   "cell_type": "code",
   "execution_count": 6,
   "metadata": {},
   "outputs": [
    {
     "data": {
      "text/plain": [
       "22960"
      ]
     },
     "metadata": {},
     "output_type": "display_data"
    },
    {
     "data": {
      "text/plain": [
       "17888"
      ]
     },
     "metadata": {},
     "output_type": "display_data"
    }
   ],
   "source": [
    "df_train = BTC[BTC.index < '20200401']\n",
    "df_output = BTC[BTC.index >= '20200401']\n",
    "\n",
    "display(df_train.shape[0])\n",
    "display(df_output.shape[0])"
   ]
  },
  {
   "cell_type": "markdown",
   "metadata": {},
   "source": [
    "### Train model\n",
    "\n",
    "Create the Gaussian Hidden markov Model and fit it to the BTC realized_volatility data"
   ]
  },
  {
   "cell_type": "code",
   "execution_count": 7,
   "metadata": {},
   "outputs": [],
   "source": [
    "Realized_Vol = np.column_stack([df_train[\"Realized_Vol\"]])"
   ]
  },
  {
   "cell_type": "code",
   "execution_count": 8,
   "metadata": {},
   "outputs": [
    {
     "name": "stdout",
     "output_type": "stream",
     "text": [
      "Model Score: -18647.39\n"
     ]
    }
   ],
   "source": [
    "hmm_model = GaussianHMM(n_components=2, covariance_type=\"full\", n_iter=1000).fit(Realized_Vol)\n",
    "print(\"Model Score:\", round(hmm_model.score(Realized_Vol),2))"
   ]
  },
  {
   "cell_type": "markdown",
   "metadata": {},
   "source": [
    "Create a visualizer to plot the detected regimes on the train set"
   ]
  },
  {
   "cell_type": "code",
   "execution_count": 9,
   "metadata": {},
   "outputs": [],
   "source": [
    "def plot_in_sample_hidden_states(hmm_model, df):\n",
    "    \"\"\"\n",
    "    Plot the adjusted closing prices masked by the in-sample hidden states as a mechanism to understand the market regimes.\n",
    "    \"\"\"\n",
    "    #df = df.reset_index().drop(columns = ['date'])\n",
    "    \n",
    "    # Predict the hidden states array with the already trained HMM\n",
    "    hidden_states = hmm_model.predict(Realized_Vol)\n",
    "    \n",
    "    # Plot the sub-regimes\n",
    "    fig, axs = plt.subplots(hmm_model.n_components, sharex=True, sharey=True)\n",
    "    colours = cm.rainbow(np.linspace(0, 1, hmm_model.n_components))\n",
    "    \n",
    "    for i, (ax, colour) in enumerate(zip(axs, colours)):\n",
    "        mask = hidden_states == i\n",
    "        ax.plot_date(\n",
    "            df.index[mask], \n",
    "            df[\"Realized_Vol\"][mask], \n",
    "            \".\", linestyle='none', \n",
    "            c=colour\n",
    "        )\n",
    "        ax.set_title(\"Hidden State #%s\" % i)\n",
    "        ax.grid(True)\n",
    "        \n",
    "    plt.show()"
   ]
  },
  {
   "cell_type": "code",
   "execution_count": 10,
   "metadata": {},
   "outputs": [
    {
     "name": "stderr",
     "output_type": "stream",
     "text": [
      "/opt/anaconda3/lib/python3.7/site-packages/matplotlib/cbook/__init__.py:1402: FutureWarning: Support for multi-dimensional indexing (e.g. `obj[:, None]`) is deprecated and will be removed in a future version.  Convert to a numpy array before indexing instead.\n",
      "  x[:, None]\n",
      "/opt/anaconda3/lib/python3.7/site-packages/matplotlib/cbook/__init__.py:1402: FutureWarning: Support for multi-dimensional indexing (e.g. `obj[:, None]`) is deprecated and will be removed in a future version.  Convert to a numpy array before indexing instead.\n",
      "  x[:, None]\n",
      "/opt/anaconda3/lib/python3.7/site-packages/matplotlib/axes/_base.py:276: FutureWarning: Support for multi-dimensional indexing (e.g. `obj[:, None]`) is deprecated and will be removed in a future version.  Convert to a numpy array before indexing instead.\n",
      "  x = x[:, np.newaxis]\n",
      "/opt/anaconda3/lib/python3.7/site-packages/matplotlib/axes/_base.py:278: FutureWarning: Support for multi-dimensional indexing (e.g. `obj[:, None]`) is deprecated and will be removed in a future version.  Convert to a numpy array before indexing instead.\n",
      "  y = y[:, np.newaxis]\n",
      "/opt/anaconda3/lib/python3.7/site-packages/matplotlib/cbook/__init__.py:1402: FutureWarning: Support for multi-dimensional indexing (e.g. `obj[:, None]`) is deprecated and will be removed in a future version.  Convert to a numpy array before indexing instead.\n",
      "  x[:, None]\n",
      "/opt/anaconda3/lib/python3.7/site-packages/matplotlib/axes/_base.py:276: FutureWarning: Support for multi-dimensional indexing (e.g. `obj[:, None]`) is deprecated and will be removed in a future version.  Convert to a numpy array before indexing instead.\n",
      "  x = x[:, np.newaxis]\n",
      "/opt/anaconda3/lib/python3.7/site-packages/matplotlib/axes/_base.py:278: FutureWarning: Support for multi-dimensional indexing (e.g. `obj[:, None]`) is deprecated and will be removed in a future version.  Convert to a numpy array before indexing instead.\n",
      "  y = y[:, np.newaxis]\n"
     ]
    },
    {
     "data": {
      "image/png": "[encoded data removed]",
      "text/plain": [
       "<Figure size 432x288 with 2 Axes>"
      ]
     },
     "metadata": {
      "needs_background": "light"
     },
     "output_type": "display_data"
    }
   ],
   "source": [
    "plot_in_sample_hidden_states(hmm_model, df_train)"
   ]
  },
  {
   "cell_type": "markdown",
   "metadata": {},
   "source": [
    "### Predict signal"
   ]
  },
  {
   "cell_type": "code",
   "execution_count": 11,
   "metadata": {},
   "outputs": [],
   "source": [
    "Realized_Vol_test = np.column_stack([df_output[\"Realized_Vol\"]])\n",
    "\n",
    "predicted_regimes = hmm_model.predict(Realized_Vol_test)"
   ]
  },
  {
   "cell_type": "code",
   "execution_count": 12,
   "metadata": {},
   "outputs": [
    {
     "data": {
      "text/plain": [
       "0    13842\n",
       "1     4046\n",
       "dtype: int64"
      ]
     },
     "execution_count": 12,
     "metadata": {},
     "output_type": "execute_result"
    }
   ],
   "source": [
    "pd.Series(predicted_regimes).value_counts()"
   ]
  },
  {
   "cell_type": "code",
   "execution_count": 13,
   "metadata": {},
   "outputs": [
    {
     "data": {
      "text/html": [
       "<div>\n",
       "<style scoped>\n",
       "    .dataframe tbody tr th:only-of-type {\n",
       "        vertical-align: middle;\n",
       "    }\n",
       "\n",
       "    .dataframe tbody tr th {\n",
       "        vertical-align: top;\n",
       "    }\n",
       "\n",
       "    .dataframe thead th {\n",
       "        text-align: right;\n",
       "    }\n",
       "</style>\n",
       "<table border=\"1\" class=\"dataframe\">\n",
       "  <thead>\n",
       "    <tr style=\"text-align: right;\">\n",
       "      <th></th>\n",
       "      <th>HMM_detected_regime</th>\n",
       "    </tr>\n",
       "    <tr>\n",
       "      <th>date</th>\n",
       "      <th></th>\n",
       "    </tr>\n",
       "  </thead>\n",
       "  <tbody>\n",
       "    <tr>\n",
       "      <th>2020-04-01 12:00:00</th>\n",
       "      <td>1</td>\n",
       "    </tr>\n",
       "    <tr>\n",
       "      <th>2020-04-01 01:00:00</th>\n",
       "      <td>0</td>\n",
       "    </tr>\n",
       "    <tr>\n",
       "      <th>2020-04-01 02:00:00</th>\n",
       "      <td>0</td>\n",
       "    </tr>\n",
       "  </tbody>\n",
       "</table>\n",
       "</div>"
      ],
      "text/plain": [
       "                     HMM_detected_regime\n",
       "date                                    \n",
       "2020-04-01 12:00:00                    1\n",
       "2020-04-01 01:00:00                    0\n",
       "2020-04-01 02:00:00                    0"
      ]
     },
     "execution_count": 13,
     "metadata": {},
     "output_type": "execute_result"
    }
   ],
   "source": [
    "df_signal = pd.DataFrame(predicted_regimes, index=df_output.index, columns=['HMM_detected_regime'])\n",
    "df_signal.head(3)"
   ]
  },
  {
   "cell_type": "markdown",
   "metadata": {},
   "source": [
    "### Save signal"
   ]
  },
  {
   "cell_type": "code",
   "execution_count": 14,
   "metadata": {},
   "outputs": [],
   "source": [
    "filepath = Path('../csv/signals_HMM_regime_detection.csv')"
   ]
  },
  {
   "cell_type": "code",
   "execution_count": 15,
   "metadata": {},
   "outputs": [],
   "source": [
    "df_signal.to_csv(filepath)"
   ]
  },
  {
   "cell_type": "markdown",
   "metadata": {},
   "source": [
    "## What to do next:\n",
    "- see what we can do to optimize the HMM training"
   ]
  },
  {
   "cell_type": "code",
   "execution_count": null,
   "metadata": {},
   "outputs": [],
   "source": []
  }
 ],
 "metadata": {
  "kernelspec": {
   "display_name": "Python 3",
   "language": "python",
   "name": "python3"
  },
  "language_info": {
   "codemirror_mode": {
    "name": "ipython",
    "version": 3
   },
   "file_extension": ".py",
   "mimetype": "text/x-python",
   "name": "python",
   "nbconvert_exporter": "python",
   "pygments_lexer": "ipython3",
   "version": "3.7.4"
  }
 },
 "nbformat": 4,
 "nbformat_minor": 5
}
