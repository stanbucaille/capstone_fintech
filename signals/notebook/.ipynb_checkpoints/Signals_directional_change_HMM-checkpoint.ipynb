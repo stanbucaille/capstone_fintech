{
 "cells": [
  {
   "cell_type": "markdown",
   "id": "a7ddaa3b",
   "metadata": {},
   "source": [
    "# Directional change indicator"
   ]
  },
  {
   "cell_type": "markdown",
   "id": "affe7db0",
   "metadata": {},
   "source": [
    "### Import"
   ]
  },
  {
   "cell_type": "code",
   "execution_count": 1,
   "id": "e7b8fd5a",
   "metadata": {},
   "outputs": [
    {
     "data": {
      "text/html": [
       "<style type='text/css'>\n",
       ".datatable table.frame { margin-bottom: 0; }\n",
       ".datatable table.frame thead { border-bottom: none; }\n",
       ".datatable table.frame tr.coltypes td {  color: #FFFFFF;  line-height: 6px;  padding: 0 0.5em;}\n",
       ".datatable .bool    { background: #DDDD99; }\n",
       ".datatable .object  { background: #565656; }\n",
       ".datatable .int     { background: #5D9E5D; }\n",
       ".datatable .float   { background: #4040CC; }\n",
       ".datatable .str     { background: #CC4040; }\n",
       ".datatable .time    { background: #40CC40; }\n",
       ".datatable .row_index {  background: var(--jp-border-color3);  border-right: 1px solid var(--jp-border-color0);  color: var(--jp-ui-font-color3);  font-size: 9px;}\n",
       ".datatable .frame tbody td { text-align: left; }\n",
       ".datatable .frame tr.coltypes .row_index {  background: var(--jp-border-color0);}\n",
       ".datatable th:nth-child(2) { padding-left: 12px; }\n",
       ".datatable .hellipsis {  color: var(--jp-cell-editor-border-color);}\n",
       ".datatable .vellipsis {  background: var(--jp-layout-color0);  color: var(--jp-cell-editor-border-color);}\n",
       ".datatable .na {  color: var(--jp-cell-editor-border-color);  font-size: 80%;}\n",
       ".datatable .sp {  opacity: 0.25;}\n",
       ".datatable .footer { font-size: 9px; }\n",
       ".datatable .frame_dimensions {  background: var(--jp-border-color3);  border-top: 1px solid var(--jp-border-color0);  color: var(--jp-ui-font-color3);  display: inline-block;  opacity: 0.6;  padding: 1px 10px 1px 5px;}\n",
       "</style>\n"
      ],
      "text/plain": [
       "<IPython.core.display.HTML object>"
      ]
     },
     "metadata": {},
     "output_type": "display_data"
    }
   ],
   "source": [
    "import numpy as np\n",
    "import pandas as pd\n",
    "from pathlib import Path\n",
    "import datatable as dt\n",
    "\n",
    "from matplotlib import pyplot as plt\n",
    "from collections import defaultdict\n",
    "\n",
    "from matplotlib import cm, pyplot as plt\n",
    "from hmmlearn.hmm import GaussianHMM"
   ]
  },
  {
   "cell_type": "code",
   "execution_count": 2,
   "id": "4198fd6c",
   "metadata": {},
   "outputs": [],
   "source": [
    "filepath = Path('../../data/csv/Binance_BTCUSDT_1h.csv')"
   ]
  },
  {
   "cell_type": "markdown",
   "id": "cb7a2f15",
   "metadata": {},
   "source": [
    "### Get data"
   ]
  },
  {
   "cell_type": "code",
   "execution_count": 3,
   "id": "40ab8e0f",
   "metadata": {},
   "outputs": [],
   "source": [
    "def format_datetime(date):\n",
    "    if date[-2:] == 'AM':\n",
    "        hour = int(date[-5:-3])\n",
    "        year, month, day = date[:-6].split('-')\n",
    "        date = pd.Timestamp(int(year), int(month), int(day), hour)\n",
    "    elif date[-2:] == 'PM':\n",
    "        hour = (int(date[-5:-3])+12)%24\n",
    "        year, month, day = date[:-6].split('-')\n",
    "        date = pd.Timestamp(int(year), int(month), int(day), hour)\n",
    "    return date\n",
    "\n",
    "def obtain_prices_df(csv_filepath):\n",
    "    \"\"\"\n",
    "    Obtain the prices DataFrame from the CSV file, filter by the end date and calculate the REALIZED VOLATILITY.\n",
    "    \"\"\"\n",
    "    df = pd.read_csv(csv_filepath)\n",
    "    \n",
    "    df = df[::-1].reset_index().drop(columns=['index', 'unix', 'tradecount', 'symbol', 'open', \n",
    "                                              'high', 'low', 'Volume BTC', 'Volume USDT'])\n",
    "    \n",
    "    df = df.dropna().reset_index().drop(columns=['index']).set_index('date')\n",
    "    \n",
    "    # Reformat index - datetime\n",
    "    df['date'] = df.apply(lambda row: format_datetime(row.name),axis=1)\n",
    "    df = df.set_index('date')\n",
    "    \n",
    "    return df"
   ]
  },
  {
   "cell_type": "code",
   "execution_count": 4,
   "id": "10e317b1",
   "metadata": {},
   "outputs": [],
   "source": [
    "df_btc = obtain_prices_df(filepath)"
   ]
  },
  {
   "cell_type": "code",
   "execution_count": 5,
   "id": "601f5080",
   "metadata": {},
   "outputs": [
    {
     "data": {
      "text/html": [
       "<div>\n",
       "<style scoped>\n",
       "    .dataframe tbody tr th:only-of-type {\n",
       "        vertical-align: middle;\n",
       "    }\n",
       "\n",
       "    .dataframe tbody tr th {\n",
       "        vertical-align: top;\n",
       "    }\n",
       "\n",
       "    .dataframe thead th {\n",
       "        text-align: right;\n",
       "    }\n",
       "</style>\n",
       "<table border=\"1\" class=\"dataframe\">\n",
       "  <thead>\n",
       "    <tr style=\"text-align: right;\">\n",
       "      <th></th>\n",
       "      <th>close</th>\n",
       "    </tr>\n",
       "    <tr>\n",
       "      <th>date</th>\n",
       "      <th></th>\n",
       "    </tr>\n",
       "  </thead>\n",
       "  <tbody>\n",
       "    <tr>\n",
       "      <th>2017-08-17 04:00:00</th>\n",
       "      <td>4308.83</td>\n",
       "    </tr>\n",
       "    <tr>\n",
       "      <th>2017-08-17 05:00:00</th>\n",
       "      <td>4315.32</td>\n",
       "    </tr>\n",
       "    <tr>\n",
       "      <th>2017-08-17 06:00:00</th>\n",
       "      <td>4324.35</td>\n",
       "    </tr>\n",
       "  </tbody>\n",
       "</table>\n",
       "</div>"
      ],
      "text/plain": [
       "                       close\n",
       "date                        \n",
       "2017-08-17 04:00:00  4308.83\n",
       "2017-08-17 05:00:00  4315.32\n",
       "2017-08-17 06:00:00  4324.35"
      ]
     },
     "execution_count": 5,
     "metadata": {},
     "output_type": "execute_result"
    }
   ],
   "source": [
    "df_btc.head(3)"
   ]
  },
  {
   "cell_type": "code",
   "execution_count": 6,
   "id": "deb8f8bc",
   "metadata": {},
   "outputs": [
    {
     "name": "stdout",
     "output_type": "stream",
     "text": [
      "22984\n",
      "17888\n"
     ]
    }
   ],
   "source": [
    "df_train = df_btc[df_btc.index < '20200401']\n",
    "df_output = df_btc[df_btc.index >= '20200401']\n",
    "\n",
    "print(df_train.shape[0])\n",
    "print(df_output.shape[0])"
   ]
  },
  {
   "cell_type": "markdown",
   "id": "6648ebf7",
   "metadata": {},
   "source": [
    "## Class DC_transform\n",
    "\n",
    "Goal : have everything inside a well designed class\n",
    "- load the data in the __init__() method\n",
    "- define a method transform() that returns a new dataframe with the detected events\n",
    "    - need more work for the moment --> I wanna be sure that my detected events are ok\n",
    "- define a method hmm() that learns how to detect regimes based on the Time Adjusted Return (as defined in the reference book)"
   ]
  },
  {
   "cell_type": "code",
   "execution_count": 7,
   "id": "513d8e91",
   "metadata": {},
   "outputs": [],
   "source": [
    "init_date, init_price = df_train.index[0], df_train.close[0]"
   ]
  },
  {
   "cell_type": "code",
   "execution_count": 8,
   "id": "3a921535",
   "metadata": {},
   "outputs": [],
   "source": [
    "alpha = 0.1"
   ]
  },
  {
   "cell_type": "code",
   "execution_count": 9,
   "id": "e17eb65d",
   "metadata": {},
   "outputs": [],
   "source": [
    "state_market = {\n",
    "    'ext_price': init_price,\n",
    "    'ext_date': init_date\n",
    "}\n",
    "\n",
    "state_event = { \n",
    "    'event': ['down'],\n",
    "    'price_event': [init_price],\n",
    "    'date_event': [init_date]\n",
    "}\n",
    "\n",
    "for (date, price) in df_train.itertuples():\n",
    "    if state_event['event'][-1] == 'up':\n",
    "        if price > state_market['ext_price']:\n",
    "            state_market['ext_price'] = price\n",
    "            state_market['ext_date'] = date\n",
    "        \n",
    "        r = (price - state_market['ext_price'])/state_market['ext_price']\n",
    "        if r < alpha:\n",
    "            state_event['event'].append('down')\n",
    "            state_event['price_event'].append(state_market['ext_price'])\n",
    "            state_event['date_event'].append(state_market['ext_date'])\n",
    "            \n",
    "            state_market['ext_price'] = price\n",
    "            state_market['ext_date'] = date\n",
    "            \n",
    "            #print(date, price)\n",
    "            #print({'event':'down','price_event':state_market['ext_price'],'date_event':state_market['ext_date']})\n",
    "            \n",
    "    else:\n",
    "        if price < state_market['ext_price']:\n",
    "            state_market['ext_price'] = price\n",
    "            state_market['ext_date'] = date\n",
    "        \n",
    "        r = (price - state_market['ext_price'])/state_market['ext_price']\n",
    "        if r > alpha:\n",
    "            state_event['event'].append('up')\n",
    "            state_event['price_event'].append(state_market['ext_price'])\n",
    "            state_event['date_event'].append(state_market['ext_date'])\n",
    "            \n",
    "            state_market['ext_price'] = price\n",
    "            state_market['ext_date'] = date\n",
    "            \n",
    "            #print(date, price)\n",
    "            #print({'event':'up','price_event':state_market['ext_price'],'date_event':state_market['ext_date']})"
   ]
  },
  {
   "cell_type": "code",
   "execution_count": 10,
   "id": "ecdfd75f",
   "metadata": {},
   "outputs": [],
   "source": [
    "up_trend = np.array(state_event['event']) == 'up'\n",
    "down_trend = np.array(state_event['event']) == 'down'\n",
    "\n",
    "up_price = np.array(state_event['price_event'])[up_trend]\n",
    "down_price = np.array(state_event['price_event'])[down_trend]\n",
    "\n",
    "up_date = np.array(state_event['date_event'])[up_trend]\n",
    "down_date = np.array(state_event['date_event'])[down_trend]\n",
    "\n",
    "#plt.plot(df_btc.index, df_btc.values)\n",
    "#plt.scatter(up_date, up_price, c='r', marker='+')\n",
    "#plt.scatter(down_date, down_price, c='y', marker='x')"
   ]
  },
  {
   "cell_type": "code",
   "execution_count": 11,
   "id": "ff084cd0",
   "metadata": {},
   "outputs": [],
   "source": [
    "df = pd.DataFrame(data=state_event)"
   ]
  },
  {
   "cell_type": "code",
   "execution_count": 12,
   "id": "9e275759",
   "metadata": {},
   "outputs": [],
   "source": [
    "df = df.sort_values(by = 'date_event')"
   ]
  },
  {
   "cell_type": "code",
   "execution_count": 13,
   "id": "349d1e6a",
   "metadata": {},
   "outputs": [],
   "source": [
    "df['date_event'] = pd.to_datetime(df['date_event'])"
   ]
  },
  {
   "cell_type": "code",
   "execution_count": 14,
   "id": "f34855c6",
   "metadata": {},
   "outputs": [],
   "source": [
    "df['R'] = ( df.price_event.shift(-1) - df.price_event ) / ( (df.date_event.shift(-1) - df.date_event)/np.timedelta64(1,'D') )"
   ]
  },
  {
   "cell_type": "code",
   "execution_count": 15,
   "id": "a3bebbfc",
   "metadata": {},
   "outputs": [],
   "source": [
    "df = df.set_index(\"date_event\")"
   ]
  },
  {
   "cell_type": "code",
   "execution_count": 16,
   "id": "d78711cc",
   "metadata": {},
   "outputs": [],
   "source": [
    "df.dropna(inplace=True)"
   ]
  },
  {
   "cell_type": "code",
   "execution_count": 17,
   "id": "491b10da",
   "metadata": {},
   "outputs": [
    {
     "data": {
      "text/html": [
       "<div>\n",
       "<style scoped>\n",
       "    .dataframe tbody tr th:only-of-type {\n",
       "        vertical-align: middle;\n",
       "    }\n",
       "\n",
       "    .dataframe tbody tr th {\n",
       "        vertical-align: top;\n",
       "    }\n",
       "\n",
       "    .dataframe thead th {\n",
       "        text-align: right;\n",
       "    }\n",
       "</style>\n",
       "<table border=\"1\" class=\"dataframe\">\n",
       "  <thead>\n",
       "    <tr style=\"text-align: right;\">\n",
       "      <th></th>\n",
       "      <th>event</th>\n",
       "      <th>price_event</th>\n",
       "      <th>R</th>\n",
       "    </tr>\n",
       "    <tr>\n",
       "      <th>date_event</th>\n",
       "      <th></th>\n",
       "      <th></th>\n",
       "      <th></th>\n",
       "    </tr>\n",
       "  </thead>\n",
       "  <tbody>\n",
       "    <tr>\n",
       "      <th>2017-08-17 04:00:00</th>\n",
       "      <td>down</td>\n",
       "      <td>4308.83</td>\n",
       "      <td>-161.6060</td>\n",
       "    </tr>\n",
       "    <tr>\n",
       "      <th>2017-08-22 04:00:00</th>\n",
       "      <td>up</td>\n",
       "      <td>3500.80</td>\n",
       "      <td>1938.0480</td>\n",
       "    </tr>\n",
       "    <tr>\n",
       "      <th>2017-08-22 09:00:00</th>\n",
       "      <td>down</td>\n",
       "      <td>3904.56</td>\n",
       "      <td>-1451.5200</td>\n",
       "    </tr>\n",
       "    <tr>\n",
       "      <th>2017-08-22 10:00:00</th>\n",
       "      <td>up</td>\n",
       "      <td>3844.08</td>\n",
       "      <td>378.1536</td>\n",
       "    </tr>\n",
       "    <tr>\n",
       "      <th>2017-08-23 11:00:00</th>\n",
       "      <td>down</td>\n",
       "      <td>4237.99</td>\n",
       "      <td>-355.1760</td>\n",
       "    </tr>\n",
       "  </tbody>\n",
       "</table>\n",
       "</div>"
      ],
      "text/plain": [
       "                    event  price_event          R\n",
       "date_event                                       \n",
       "2017-08-17 04:00:00  down      4308.83  -161.6060\n",
       "2017-08-22 04:00:00    up      3500.80  1938.0480\n",
       "2017-08-22 09:00:00  down      3904.56 -1451.5200\n",
       "2017-08-22 10:00:00    up      3844.08   378.1536\n",
       "2017-08-23 11:00:00  down      4237.99  -355.1760"
      ]
     },
     "execution_count": 17,
     "metadata": {},
     "output_type": "execute_result"
    }
   ],
   "source": [
    "df.head()"
   ]
  },
  {
   "cell_type": "markdown",
   "id": "6c3c847a",
   "metadata": {},
   "source": [
    "## Train HMM on modified data"
   ]
  },
  {
   "cell_type": "code",
   "execution_count": 18,
   "id": "0621c3c9",
   "metadata": {},
   "outputs": [],
   "source": [
    "y = np.column_stack([df['R']])"
   ]
  },
  {
   "cell_type": "code",
   "execution_count": 19,
   "id": "d1c8cff2",
   "metadata": {},
   "outputs": [
    {
     "name": "stdout",
     "output_type": "stream",
     "text": [
      "Model Score: -2779.8318967339324\n"
     ]
    }
   ],
   "source": [
    "hmm_model = GaussianHMM(n_components=2, covariance_type=\"full\", n_iter=1000).fit(y)\n",
    "print(\"Model Score:\", hmm_model.score(y))"
   ]
  },
  {
   "cell_type": "markdown",
   "id": "1f5fb2ea",
   "metadata": {},
   "source": [
    "## Plot regimes"
   ]
  },
  {
   "cell_type": "code",
   "execution_count": 20,
   "id": "33cb8d58",
   "metadata": {},
   "outputs": [],
   "source": [
    "def plot_in_sample_hidden_states(hmm_model, df):\n",
    "    \n",
    "    df = df.reset_index().drop(columns = ['date_event'])\n",
    "    \n",
    "    # Predict the hidden states array with the already trained HMM\n",
    "    hidden_states = hmm_model.predict(y)\n",
    "    \n",
    "    # Plot the sub-regimes\n",
    "    fig, axs = plt.subplots(hmm_model.n_components, sharex=True, sharey=True)\n",
    "    colours = cm.rainbow(np.linspace(0, 1, hmm_model.n_components))\n",
    "    \n",
    "    for i, (ax, colour) in enumerate(zip(axs, colours)):\n",
    "        mask = hidden_states == i\n",
    "        ax.plot_date(\n",
    "            df.index[mask], \n",
    "            df[\"R\"][mask], \n",
    "            \".\", linestyle='none', \n",
    "            c=colour\n",
    "        )\n",
    "        ax.set_title(\"Hidden State #%s\" % i)\n",
    "        ax.grid(True)\n",
    "        \n",
    "    plt.show()"
   ]
  },
  {
   "cell_type": "code",
   "execution_count": 21,
   "id": "f376e776",
   "metadata": {},
   "outputs": [
    {
     "data": {
      "image/png": "[encoded data removed]",
      "text/plain": [
       "<Figure size 432x288 with 2 Axes>"
      ]
     },
     "metadata": {
      "needs_background": "light"
     },
     "output_type": "display_data"
    }
   ],
   "source": [
    "plot_in_sample_hidden_states(hmm_model, df)"
   ]
  },
  {
   "cell_type": "markdown",
   "id": "263f35d0",
   "metadata": {},
   "source": [
    "## Prepare output data to apply HMM"
   ]
  },
  {
   "cell_type": "code",
   "execution_count": 22,
   "id": "f0900465",
   "metadata": {},
   "outputs": [
    {
     "data": {
      "text/html": [
       "<div>\n",
       "<style scoped>\n",
       "    .dataframe tbody tr th:only-of-type {\n",
       "        vertical-align: middle;\n",
       "    }\n",
       "\n",
       "    .dataframe tbody tr th {\n",
       "        vertical-align: top;\n",
       "    }\n",
       "\n",
       "    .dataframe thead th {\n",
       "        text-align: right;\n",
       "    }\n",
       "</style>\n",
       "<table border=\"1\" class=\"dataframe\">\n",
       "  <thead>\n",
       "    <tr style=\"text-align: right;\">\n",
       "      <th></th>\n",
       "      <th>close</th>\n",
       "    </tr>\n",
       "    <tr>\n",
       "      <th>date</th>\n",
       "      <th></th>\n",
       "    </tr>\n",
       "  </thead>\n",
       "  <tbody>\n",
       "    <tr>\n",
       "      <th>2020-04-01 12:00:00</th>\n",
       "      <td>6305.12</td>\n",
       "    </tr>\n",
       "    <tr>\n",
       "      <th>2020-04-01 01:00:00</th>\n",
       "      <td>6293.64</td>\n",
       "    </tr>\n",
       "    <tr>\n",
       "      <th>2020-04-01 02:00:00</th>\n",
       "      <td>6317.40</td>\n",
       "    </tr>\n",
       "    <tr>\n",
       "      <th>2020-04-01 03:00:00</th>\n",
       "      <td>6368.68</td>\n",
       "    </tr>\n",
       "    <tr>\n",
       "      <th>2020-04-01 04:00:00</th>\n",
       "      <td>6342.00</td>\n",
       "    </tr>\n",
       "  </tbody>\n",
       "</table>\n",
       "</div>"
      ],
      "text/plain": [
       "                       close\n",
       "date                        \n",
       "2020-04-01 12:00:00  6305.12\n",
       "2020-04-01 01:00:00  6293.64\n",
       "2020-04-01 02:00:00  6317.40\n",
       "2020-04-01 03:00:00  6368.68\n",
       "2020-04-01 04:00:00  6342.00"
      ]
     },
     "execution_count": 22,
     "metadata": {},
     "output_type": "execute_result"
    }
   ],
   "source": [
    "df_output.head()"
   ]
  },
  {
   "cell_type": "code",
   "execution_count": 23,
   "id": "a90ac7bb",
   "metadata": {},
   "outputs": [],
   "source": [
    "init_date, init_price = df_output.index[0], df_output.close[0]"
   ]
  },
  {
   "cell_type": "code",
   "execution_count": 24,
   "id": "2c0a15d1",
   "metadata": {},
   "outputs": [],
   "source": [
    "state_market = {\n",
    "    'ext_price': init_price,\n",
    "    'ext_date': init_date\n",
    "}\n",
    "\n",
    "state_event = { \n",
    "    'event': ['down'],\n",
    "    'price_event': [init_price],\n",
    "    'date': [init_date]\n",
    "}\n",
    "\n",
    "for (date, price) in df_output.itertuples():\n",
    "    if state_event['event'][-1] == 'up':\n",
    "        if price > state_market['ext_price']:\n",
    "            state_market['ext_price'] = price\n",
    "            state_market['ext_date'] = date\n",
    "        \n",
    "        r = (price - state_market['ext_price'])/state_market['ext_price']\n",
    "        if r < alpha:\n",
    "            state_event['event'].append('down')\n",
    "            state_event['price_event'].append(state_market['ext_price'])\n",
    "            state_event['date'].append(state_market['ext_date'])\n",
    "            \n",
    "            state_market['ext_price'] = price\n",
    "            state_market['ext_date'] = date\n",
    "            \n",
    "            #print(date, price)\n",
    "            #print({'event':'down','price_event':state_market['ext_price'],'date_event':state_market['ext_date']})\n",
    "            \n",
    "    else:\n",
    "        if price < state_market['ext_price']:\n",
    "            state_market['ext_price'] = price\n",
    "            state_market['ext_date'] = date\n",
    "        \n",
    "        r = (price - state_market['ext_price'])/state_market['ext_price']\n",
    "        if r > alpha:\n",
    "            state_event['event'].append('up')\n",
    "            state_event['price_event'].append(state_market['ext_price'])\n",
    "            state_event['date'].append(state_market['ext_date'])\n",
    "            \n",
    "            state_market['ext_price'] = price\n",
    "            state_market['ext_date'] = date\n",
    "            \n",
    "            #print(date, price)\n",
    "            #print({'event':'up','price_event':state_market['ext_price'],'date_event':state_market['ext_date']})"
   ]
  },
  {
   "cell_type": "code",
   "execution_count": 25,
   "id": "1378b643",
   "metadata": {},
   "outputs": [],
   "source": [
    "df = pd.DataFrame(data=state_event)"
   ]
  },
  {
   "cell_type": "code",
   "execution_count": 26,
   "id": "f59c18f5",
   "metadata": {},
   "outputs": [],
   "source": [
    "df = df.sort_values(by = 'date')"
   ]
  },
  {
   "cell_type": "code",
   "execution_count": 27,
   "id": "739a56f9",
   "metadata": {},
   "outputs": [],
   "source": [
    "df['date'] = pd.to_datetime(df['date'])"
   ]
  },
  {
   "cell_type": "code",
   "execution_count": 28,
   "id": "f9095eb5",
   "metadata": {},
   "outputs": [],
   "source": [
    "df = df.set_index(\"date\")"
   ]
  },
  {
   "cell_type": "code",
   "execution_count": 29,
   "id": "3275d717",
   "metadata": {},
   "outputs": [],
   "source": [
    "df_output = df_output.join(df, on = 'date' )"
   ]
  },
  {
   "cell_type": "code",
   "execution_count": 30,
   "id": "a105f6c4",
   "metadata": {},
   "outputs": [],
   "source": [
    "# df_output['R'] = ???"
   ]
  },
  {
   "cell_type": "markdown",
   "id": "2beda39d",
   "metadata": {},
   "source": [
    "### Save features"
   ]
  },
  {
   "cell_type": "code",
   "execution_count": 31,
   "id": "c2f6caab",
   "metadata": {},
   "outputs": [],
   "source": [
    "filepath = Path('../csv/Signals_directional_change_HMM.csv')"
   ]
  },
  {
   "cell_type": "code",
   "execution_count": 32,
   "id": "5a1cca50",
   "metadata": {},
   "outputs": [],
   "source": [
    "#df_btc_ta.to_csv(filepath)"
   ]
  }
 ],
 "metadata": {
  "kernelspec": {
   "display_name": "Python 3",
   "language": "python",
   "name": "python3"
  },
  "language_info": {
   "codemirror_mode": {
    "name": "ipython",
    "version": 3
   },
   "file_extension": ".py",
   "mimetype": "text/x-python",
   "name": "python",
   "nbconvert_exporter": "python",
   "pygments_lexer": "ipython3",
   "version": "3.8.8"
  }
 },
 "nbformat": 4,
 "nbformat_minor": 5
}
