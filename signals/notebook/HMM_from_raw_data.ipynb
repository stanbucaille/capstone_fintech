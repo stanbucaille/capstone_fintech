{
 "cells": [
  {
   "cell_type": "markdown",
   "id": "922683c6",
   "metadata": {},
   "source": [
    "# Signal from Hidden Markov Models (regime detection)"
   ]
  },
  {
   "cell_type": "markdown",
   "id": "2772230d",
   "metadata": {},
   "source": [
    "### Import"
   ]
  },
  {
   "cell_type": "code",
   "execution_count": 1,
   "id": "72675365",
   "metadata": {},
   "outputs": [],
   "source": [
    "from __future__ import print_function\n",
    "\n",
    "import datetime\n",
    "import warnings\n",
    "\n",
    "from pathlib import Path \n",
    "\n",
    "from hmmlearn.hmm import GaussianHMM\n",
    "from matplotlib import cm, pyplot as plt\n",
    "from matplotlib.dates import YearLocator, MonthLocator\n",
    "import numpy as np\n",
    "import pandas as pd\n",
    "import seaborn as sns"
   ]
  },
  {
   "cell_type": "markdown",
   "id": "72af0288",
   "metadata": {},
   "source": [
    "### Get data"
   ]
  },
  {
   "cell_type": "code",
   "execution_count": 2,
   "id": "19c27877",
   "metadata": {},
   "outputs": [],
   "source": [
    "filepath = Path('../../data/csv/Binance_BTCUSDT_1h.csv')"
   ]
  },
  {
   "cell_type": "code",
   "execution_count": 3,
   "id": "7a0f793a",
   "metadata": {},
   "outputs": [],
   "source": [
    "def obtain_prices_df(csv_filepath, crop, nb_days):\n",
    "    \"\"\"\n",
    "    Obtain the prices DataFrame from the CSV file, filter by the end date and calculate the REALIZED VOLATILITY.\n",
    "    \"\"\"\n",
    "    df = pd.read_csv(csv_filepath)\n",
    "    \n",
    "    if crop:\n",
    "        df = df[-nb_days*24:]\n",
    "    \n",
    "    df = df[::-1].reset_index().drop(columns=['index', 'unix', 'tradecount', 'symbol', 'open', \n",
    "                                              'high', 'low', 'Volume BTC', 'Volume USDT'])\n",
    "\n",
    "    df[\"Realized_Vol\"] = (((df[\"close\"].pct_change())**2).rolling(24).sum())\n",
    "    df = df.dropna().reset_index().drop(columns=['index']).set_index('date')\n",
    "\n",
    "    # Scaling\n",
    "    df[\"Realized_Vol\"] = df[\"Realized_Vol\"] / df[\"Realized_Vol\"][0]\n",
    "\n",
    "    return df"
   ]
  },
  {
   "cell_type": "code",
   "execution_count": 4,
   "id": "68e7abc4",
   "metadata": {},
   "outputs": [],
   "source": [
    "BTC = obtain_prices_df(filepath, False, 10) # last two parameters are not important (just when I did some tests)"
   ]
  },
  {
   "cell_type": "code",
   "execution_count": 5,
   "id": "d51fc379",
   "metadata": {},
   "outputs": [
    {
     "data": {
      "text/html": [
       "<div>\n",
       "<style scoped>\n",
       "    .dataframe tbody tr th:only-of-type {\n",
       "        vertical-align: middle;\n",
       "    }\n",
       "\n",
       "    .dataframe tbody tr th {\n",
       "        vertical-align: top;\n",
       "    }\n",
       "\n",
       "    .dataframe thead th {\n",
       "        text-align: right;\n",
       "    }\n",
       "</style>\n",
       "<table border=\"1\" class=\"dataframe\">\n",
       "  <thead>\n",
       "    <tr style=\"text-align: right;\">\n",
       "      <th></th>\n",
       "      <th>close</th>\n",
       "      <th>Realized_Vol</th>\n",
       "    </tr>\n",
       "    <tr>\n",
       "      <th>date</th>\n",
       "      <th></th>\n",
       "      <th></th>\n",
       "    </tr>\n",
       "  </thead>\n",
       "  <tbody>\n",
       "    <tr>\n",
       "      <th>2017-08-18 04-AM</th>\n",
       "      <td>4287.92</td>\n",
       "      <td>1.000000</td>\n",
       "    </tr>\n",
       "    <tr>\n",
       "      <th>2017-08-18 05-AM</th>\n",
       "      <td>4313.56</td>\n",
       "      <td>1.014009</td>\n",
       "    </tr>\n",
       "    <tr>\n",
       "      <th>2017-08-18 06-AM</th>\n",
       "      <td>4279.46</td>\n",
       "      <td>1.038321</td>\n",
       "    </tr>\n",
       "    <tr>\n",
       "      <th>2017-08-18 07-AM</th>\n",
       "      <td>4300.25</td>\n",
       "      <td>1.033487</td>\n",
       "    </tr>\n",
       "    <tr>\n",
       "      <th>2017-08-18 08-AM</th>\n",
       "      <td>4282.73</td>\n",
       "      <td>1.037900</td>\n",
       "    </tr>\n",
       "    <tr>\n",
       "      <th>...</th>\n",
       "      <td>...</td>\n",
       "      <td>...</td>\n",
       "    </tr>\n",
       "    <tr>\n",
       "      <th>2022-04-16 20:00:00</th>\n",
       "      <td>40280.00</td>\n",
       "      <td>0.068871</td>\n",
       "    </tr>\n",
       "    <tr>\n",
       "      <th>2022-04-16 21:00:00</th>\n",
       "      <td>40485.28</td>\n",
       "      <td>0.079516</td>\n",
       "    </tr>\n",
       "    <tr>\n",
       "      <th>2022-04-16 22:00:00</th>\n",
       "      <td>40405.86</td>\n",
       "      <td>0.080685</td>\n",
       "    </tr>\n",
       "    <tr>\n",
       "      <th>2022-04-16 23:00:00</th>\n",
       "      <td>40378.71</td>\n",
       "      <td>0.079054</td>\n",
       "    </tr>\n",
       "    <tr>\n",
       "      <th>2022-04-17 00:00:00</th>\n",
       "      <td>40376.49</td>\n",
       "      <td>0.079038</td>\n",
       "    </tr>\n",
       "  </tbody>\n",
       "</table>\n",
       "<p>40848 rows × 2 columns</p>\n",
       "</div>"
      ],
      "text/plain": [
       "                        close  Realized_Vol\n",
       "date                                       \n",
       "2017-08-18 04-AM      4287.92      1.000000\n",
       "2017-08-18 05-AM      4313.56      1.014009\n",
       "2017-08-18 06-AM      4279.46      1.038321\n",
       "2017-08-18 07-AM      4300.25      1.033487\n",
       "2017-08-18 08-AM      4282.73      1.037900\n",
       "...                       ...           ...\n",
       "2022-04-16 20:00:00  40280.00      0.068871\n",
       "2022-04-16 21:00:00  40485.28      0.079516\n",
       "2022-04-16 22:00:00  40405.86      0.080685\n",
       "2022-04-16 23:00:00  40378.71      0.079054\n",
       "2022-04-17 00:00:00  40376.49      0.079038\n",
       "\n",
       "[40848 rows x 2 columns]"
      ]
     },
     "execution_count": 5,
     "metadata": {},
     "output_type": "execute_result"
    }
   ],
   "source": [
    "BTC"
   ]
  },
  {
   "cell_type": "code",
   "execution_count": 6,
   "id": "5ce92f95",
   "metadata": {},
   "outputs": [],
   "source": [
    "df_train = BTC[BTC.index < '2020']\n",
    "df_output = BTC[BTC.index >= '2020']"
   ]
  },
  {
   "cell_type": "markdown",
   "id": "a15372c7",
   "metadata": {},
   "source": [
    "### Train model\n",
    "\n",
    "Create the Gaussian Hidden markov Model and fit it to the BTC realized_volatility data"
   ]
  },
  {
   "cell_type": "code",
   "execution_count": 7,
   "id": "e9c14131",
   "metadata": {},
   "outputs": [],
   "source": [
    "Realized_Vol = np.column_stack([df_train[\"Realized_Vol\"]])"
   ]
  },
  {
   "cell_type": "code",
   "execution_count": 8,
   "id": "f1293ea0",
   "metadata": {},
   "outputs": [
    {
     "name": "stdout",
     "output_type": "stream",
     "text": [
      "Model Score: -15566.180483774073\n"
     ]
    }
   ],
   "source": [
    "hmm_model = GaussianHMM(n_components=2, covariance_type=\"full\", n_iter=1000).fit(Realized_Vol)\n",
    "print(\"Model Score:\", hmm_model.score(Realized_Vol))"
   ]
  },
  {
   "cell_type": "markdown",
   "id": "c14571b6",
   "metadata": {},
   "source": [
    "Create a visualizer to plot the detected regimes on the train set"
   ]
  },
  {
   "cell_type": "code",
   "execution_count": 9,
   "id": "90e4d753",
   "metadata": {},
   "outputs": [],
   "source": [
    "def plot_in_sample_hidden_states(hmm_model, df):\n",
    "    \"\"\"\n",
    "    Plot the adjusted closing prices masked by the in-sample hidden states as a mechanism to understand the market regimes.\n",
    "    \"\"\"\n",
    "    df = df.reset_index().drop(columns = ['date'])\n",
    "    \n",
    "    # Predict the hidden states array with the already trained HMM\n",
    "    hidden_states = hmm_model.predict(Realized_Vol)\n",
    "    \n",
    "    # Plot the sub-regimes\n",
    "    fig, axs = plt.subplots(hmm_model.n_components, sharex=True, sharey=True)\n",
    "    colours = cm.rainbow(np.linspace(0, 1, hmm_model.n_components))\n",
    "    \n",
    "    for i, (ax, colour) in enumerate(zip(axs, colours)):\n",
    "        mask = hidden_states == i\n",
    "        ax.plot_date(\n",
    "            df.index[mask], \n",
    "            df[\"Realized_Vol\"][mask], \n",
    "            \".\", linestyle='none', \n",
    "            c=colour\n",
    "        )\n",
    "        ax.set_title(\"Hidden State #%s\" % i)\n",
    "        ax.grid(True)\n",
    "        \n",
    "    plt.show()"
   ]
  },
  {
   "cell_type": "code",
   "execution_count": 10,
   "id": "7651b3f0",
   "metadata": {},
   "outputs": [
    {
     "data": {
      "image/png": "[encoded data removed]",
      "text/plain": [
       "<Figure size 432x288 with 2 Axes>"
      ]
     },
     "metadata": {
      "needs_background": "light"
     },
     "output_type": "display_data"
    }
   ],
   "source": [
    "plot_in_sample_hidden_states(hmm_model, df_train)"
   ]
  },
  {
   "cell_type": "markdown",
   "id": "dc2306da",
   "metadata": {},
   "source": [
    "### Predict signal"
   ]
  },
  {
   "cell_type": "code",
   "execution_count": 11,
   "id": "68b6bb4a",
   "metadata": {},
   "outputs": [],
   "source": [
    "Realized_Vol_test = np.column_stack([df_output[\"Realized_Vol\"]])\n",
    "\n",
    "predicted_regimes = hmm_model.predict(Realized_Vol_test)"
   ]
  },
  {
   "cell_type": "code",
   "execution_count": 12,
   "id": "81a918d5",
   "metadata": {},
   "outputs": [
    {
     "data": {
      "text/plain": [
       "0    14408\n",
       "1     5664\n",
       "dtype: int64"
      ]
     },
     "execution_count": 12,
     "metadata": {},
     "output_type": "execute_result"
    }
   ],
   "source": [
    "pd.Series(predicted_regimes).value_counts()"
   ]
  },
  {
   "cell_type": "code",
   "execution_count": 13,
   "id": "78d3fb48",
   "metadata": {},
   "outputs": [
    {
     "data": {
      "text/html": [
       "<div>\n",
       "<style scoped>\n",
       "    .dataframe tbody tr th:only-of-type {\n",
       "        vertical-align: middle;\n",
       "    }\n",
       "\n",
       "    .dataframe tbody tr th {\n",
       "        vertical-align: top;\n",
       "    }\n",
       "\n",
       "    .dataframe thead th {\n",
       "        text-align: right;\n",
       "    }\n",
       "</style>\n",
       "<table border=\"1\" class=\"dataframe\">\n",
       "  <thead>\n",
       "    <tr style=\"text-align: right;\">\n",
       "      <th></th>\n",
       "      <th>HMM_detected_regime</th>\n",
       "    </tr>\n",
       "    <tr>\n",
       "      <th>date</th>\n",
       "      <th></th>\n",
       "    </tr>\n",
       "  </thead>\n",
       "  <tbody>\n",
       "    <tr>\n",
       "      <th>2020-01-01 12-AM</th>\n",
       "      <td>1</td>\n",
       "    </tr>\n",
       "    <tr>\n",
       "      <th>2020-01-01 01-AM</th>\n",
       "      <td>0</td>\n",
       "    </tr>\n",
       "    <tr>\n",
       "      <th>2020-01-01 02-AM</th>\n",
       "      <td>0</td>\n",
       "    </tr>\n",
       "  </tbody>\n",
       "</table>\n",
       "</div>"
      ],
      "text/plain": [
       "                  HMM_detected_regime\n",
       "date                                 \n",
       "2020-01-01 12-AM                    1\n",
       "2020-01-01 01-AM                    0\n",
       "2020-01-01 02-AM                    0"
      ]
     },
     "execution_count": 13,
     "metadata": {},
     "output_type": "execute_result"
    }
   ],
   "source": [
    "df_signal = pd.DataFrame(predicted_regimes, index=df_output.index, columns=['HMM_detected_regime'])\n",
    "df_signal.head(3)"
   ]
  },
  {
   "cell_type": "markdown",
   "id": "826f8e66",
   "metadata": {},
   "source": [
    "### Save signal"
   ]
  },
  {
   "cell_type": "code",
   "execution_count": 14,
   "id": "964161b5",
   "metadata": {},
   "outputs": [],
   "source": [
    "filepath = Path('../csv/signals_HMM_regime_detection.csv')"
   ]
  },
  {
   "cell_type": "code",
   "execution_count": 15,
   "id": "92512118",
   "metadata": {},
   "outputs": [],
   "source": [
    "df_signal.to_csv(filepath)"
   ]
  },
  {
   "cell_type": "markdown",
   "id": "3bb542db",
   "metadata": {},
   "source": [
    "## What to do next:\n",
    "- see what we can do to optimize the HMM training"
   ]
  },
  {
   "cell_type": "code",
   "execution_count": null,
   "id": "7a8d1bbc",
   "metadata": {},
   "outputs": [],
   "source": []
  }
 ],
 "metadata": {
  "kernelspec": {
   "display_name": "Python 3",
   "language": "python",
   "name": "python3"
  },
  "language_info": {
   "codemirror_mode": {
    "name": "ipython",
    "version": 3
   },
   "file_extension": ".py",
   "mimetype": "text/x-python",
   "name": "python",
   "nbconvert_exporter": "python",
   "pygments_lexer": "ipython3",
   "version": "3.8.8"
  }
 },
 "nbformat": 4,
 "nbformat_minor": 5
}
