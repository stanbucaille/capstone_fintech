{
 "cells": [
  {
   "cell_type": "markdown",
   "metadata": {},
   "source": [
    "# Strategies using technical indicators"
   ]
  },
  {
   "cell_type": "markdown",
   "metadata": {},
   "source": [
    "### Import"
   ]
  },
  {
   "cell_type": "code",
   "execution_count": 1,
   "metadata": {},
   "outputs": [
    {
     "data": {
      "text/html": [
       "<style type='text/css'>\n",
       ".datatable table.frame { margin-bottom: 0; }\n",
       ".datatable table.frame thead { border-bottom: none; }\n",
       ".datatable table.frame tr.coltypes td {  color: #FFFFFF;  line-height: 6px;  padding: 0 0.5em;}\n",
       ".datatable .bool    { background: #DDDD99; }\n",
       ".datatable .object  { background: #565656; }\n",
       ".datatable .int     { background: #5D9E5D; }\n",
       ".datatable .float   { background: #4040CC; }\n",
       ".datatable .str     { background: #CC4040; }\n",
       ".datatable .time    { background: #40CC40; }\n",
       ".datatable .row_index {  background: var(--jp-border-color3);  border-right: 1px solid var(--jp-border-color0);  color: var(--jp-ui-font-color3);  font-size: 9px;}\n",
       ".datatable .frame tbody td { text-align: left; }\n",
       ".datatable .frame tr.coltypes .row_index {  background: var(--jp-border-color0);}\n",
       ".datatable th:nth-child(2) { padding-left: 12px; }\n",
       ".datatable .hellipsis {  color: var(--jp-cell-editor-border-color);}\n",
       ".datatable .vellipsis {  background: var(--jp-layout-color0);  color: var(--jp-cell-editor-border-color);}\n",
       ".datatable .na {  color: var(--jp-cell-editor-border-color);  font-size: 80%;}\n",
       ".datatable .sp {  opacity: 0.25;}\n",
       ".datatable .footer { font-size: 9px; }\n",
       ".datatable .frame_dimensions {  background: var(--jp-border-color3);  border-top: 1px solid var(--jp-border-color0);  color: var(--jp-ui-font-color3);  display: inline-block;  opacity: 0.6;  padding: 1px 10px 1px 5px;}\n",
       "</style>\n"
      ],
      "text/plain": [
       "<IPython.core.display.HTML object>"
      ]
     },
     "metadata": {},
     "output_type": "display_data"
    }
   ],
   "source": [
    "import numpy as np\n",
    "import pandas as pd\n",
    "from pathlib import Path \n",
    "import datatable as dt\n",
    "\n",
    "from ta.volatility import BollingerBands\n",
    "from ta.trend import EMAIndicator\n",
    "from ta.momentum import AwesomeOscillatorIndicator"
   ]
  },
  {
   "cell_type": "markdown",
   "metadata": {},
   "source": [
    "### Get data"
   ]
  },
  {
   "cell_type": "code",
   "execution_count": 2,
   "metadata": {},
   "outputs": [],
   "source": [
    "filepath = Path('../../data/csv/crypto_market_data.csv')"
   ]
  },
  {
   "cell_type": "code",
   "execution_count": 3,
   "metadata": {},
   "outputs": [
    {
     "data": {
      "text/html": [
       "<div>\n",
       "<style scoped>\n",
       "    .dataframe tbody tr th:only-of-type {\n",
       "        vertical-align: middle;\n",
       "    }\n",
       "\n",
       "    .dataframe tbody tr th {\n",
       "        vertical-align: top;\n",
       "    }\n",
       "\n",
       "    .dataframe thead th {\n",
       "        text-align: right;\n",
       "    }\n",
       "</style>\n",
       "<table border=\"1\" class=\"dataframe\">\n",
       "  <thead>\n",
       "    <tr style=\"text-align: right;\">\n",
       "      <th>1</th>\n",
       "      <th>Adj Close</th>\n",
       "      <th>Close</th>\n",
       "      <th>High</th>\n",
       "      <th>Low</th>\n",
       "      <th>Open</th>\n",
       "      <th>Volume</th>\n",
       "    </tr>\n",
       "    <tr>\n",
       "      <th>date</th>\n",
       "      <th></th>\n",
       "      <th></th>\n",
       "      <th></th>\n",
       "      <th></th>\n",
       "      <th></th>\n",
       "      <th></th>\n",
       "    </tr>\n",
       "  </thead>\n",
       "  <tbody>\n",
       "    <tr>\n",
       "      <th>2020-04-07 00:00:00+00:00</th>\n",
       "      <td>7366.915527</td>\n",
       "      <td>7366.915527</td>\n",
       "      <td>7407.448730</td>\n",
       "      <td>7268.242188</td>\n",
       "      <td>7273.327637</td>\n",
       "      <td>0.000000e+00</td>\n",
       "    </tr>\n",
       "    <tr>\n",
       "      <th>2020-04-07 01:00:00+00:00</th>\n",
       "      <td>7355.732910</td>\n",
       "      <td>7355.732910</td>\n",
       "      <td>7383.069824</td>\n",
       "      <td>7350.611816</td>\n",
       "      <td>7361.706055</td>\n",
       "      <td>0.000000e+00</td>\n",
       "    </tr>\n",
       "    <tr>\n",
       "      <th>2020-04-07 02:00:00+00:00</th>\n",
       "      <td>7311.450195</td>\n",
       "      <td>7311.450195</td>\n",
       "      <td>7355.026367</td>\n",
       "      <td>7290.237793</td>\n",
       "      <td>7355.026367</td>\n",
       "      <td>1.082130e+09</td>\n",
       "    </tr>\n",
       "  </tbody>\n",
       "</table>\n",
       "</div>"
      ],
      "text/plain": [
       "1                            Adj Close        Close         High          Low  \\\n",
       "date                                                                            \n",
       "2020-04-07 00:00:00+00:00  7366.915527  7366.915527  7407.448730  7268.242188   \n",
       "2020-04-07 01:00:00+00:00  7355.732910  7355.732910  7383.069824  7350.611816   \n",
       "2020-04-07 02:00:00+00:00  7311.450195  7311.450195  7355.026367  7290.237793   \n",
       "\n",
       "1                                 Open        Volume  \n",
       "date                                                  \n",
       "2020-04-07 00:00:00+00:00  7273.327637  0.000000e+00  \n",
       "2020-04-07 01:00:00+00:00  7361.706055  0.000000e+00  \n",
       "2020-04-07 02:00:00+00:00  7355.026367  1.082130e+09  "
      ]
     },
     "execution_count": 3,
     "metadata": {},
     "output_type": "execute_result"
    }
   ],
   "source": [
    "df_crypto = dt.fread(filepath).to_pandas() \n",
    "df_crypto = df_crypto.T.set_index([0, 1]).T\n",
    "df_crypto = df_crypto.set_index('')\n",
    "df_crypto = df_crypto.astype(float)\n",
    "df_crypto.index.names = ['date']\n",
    "\n",
    "df_btc = df_crypto['BTC-USD']\n",
    "df_btc.head(3)"
   ]
  },
  {
   "cell_type": "markdown",
   "metadata": {},
   "source": [
    "### Get features"
   ]
  },
  {
   "cell_type": "code",
   "execution_count": 4,
   "metadata": {},
   "outputs": [],
   "source": [
    "filepath = Path('../../features/csv/features_btc_ta.csv')"
   ]
  },
  {
   "cell_type": "code",
   "execution_count": 5,
   "metadata": {},
   "outputs": [
    {
     "data": {
      "text/html": [
       "<div>\n",
       "<style scoped>\n",
       "    .dataframe tbody tr th:only-of-type {\n",
       "        vertical-align: middle;\n",
       "    }\n",
       "\n",
       "    .dataframe tbody tr th {\n",
       "        vertical-align: top;\n",
       "    }\n",
       "\n",
       "    .dataframe thead th {\n",
       "        text-align: right;\n",
       "    }\n",
       "</style>\n",
       "<table border=\"1\" class=\"dataframe\">\n",
       "  <thead>\n",
       "    <tr style=\"text-align: right;\">\n",
       "      <th></th>\n",
       "      <th>BB_high</th>\n",
       "      <th>BB_low</th>\n",
       "      <th>BB_width</th>\n",
       "      <th>SMA_BBW</th>\n",
       "      <th>SMA_Vol</th>\n",
       "      <th>EMA_fast</th>\n",
       "      <th>EMA_slow</th>\n",
       "      <th>MACD</th>\n",
       "      <th>EMA_MACD</th>\n",
       "      <th>HH</th>\n",
       "      <th>LL</th>\n",
       "    </tr>\n",
       "    <tr>\n",
       "      <th>date</th>\n",
       "      <th></th>\n",
       "      <th></th>\n",
       "      <th></th>\n",
       "      <th></th>\n",
       "      <th></th>\n",
       "      <th></th>\n",
       "      <th></th>\n",
       "      <th></th>\n",
       "      <th></th>\n",
       "      <th></th>\n",
       "      <th></th>\n",
       "    </tr>\n",
       "  </thead>\n",
       "  <tbody>\n",
       "    <tr>\n",
       "      <th>2020-04-09 20:00:00+00:00</th>\n",
       "      <td>7329.607505</td>\n",
       "      <td>7251.915152</td>\n",
       "      <td>1.065627</td>\n",
       "      <td>-1.480833</td>\n",
       "      <td>2.109254e+08</td>\n",
       "      <td>7280.083462</td>\n",
       "      <td>7287.614550</td>\n",
       "      <td>7.531088</td>\n",
       "      <td>3.132471</td>\n",
       "      <td>7337.893066</td>\n",
       "      <td>7179.094238</td>\n",
       "    </tr>\n",
       "    <tr>\n",
       "      <th>2020-04-09 21:00:00+00:00</th>\n",
       "      <td>7327.833311</td>\n",
       "      <td>7250.361709</td>\n",
       "      <td>1.062842</td>\n",
       "      <td>-1.457221</td>\n",
       "      <td>2.290828e+08</td>\n",
       "      <td>7279.137478</td>\n",
       "      <td>7286.601218</td>\n",
       "      <td>7.463740</td>\n",
       "      <td>3.998724</td>\n",
       "      <td>7327.550781</td>\n",
       "      <td>7179.094238</td>\n",
       "    </tr>\n",
       "    <tr>\n",
       "      <th>2020-04-09 22:00:00+00:00</th>\n",
       "      <td>7325.640758</td>\n",
       "      <td>7249.332240</td>\n",
       "      <td>1.047117</td>\n",
       "      <td>-1.424009</td>\n",
       "      <td>4.009165e+07</td>\n",
       "      <td>7278.601154</td>\n",
       "      <td>7285.790118</td>\n",
       "      <td>7.188964</td>\n",
       "      <td>4.636772</td>\n",
       "      <td>7327.550781</td>\n",
       "      <td>7179.094238</td>\n",
       "    </tr>\n",
       "  </tbody>\n",
       "</table>\n",
       "</div>"
      ],
      "text/plain": [
       "                               BB_high       BB_low  BB_width   SMA_BBW  \\\n",
       "date                                                                      \n",
       "2020-04-09 20:00:00+00:00  7329.607505  7251.915152  1.065627 -1.480833   \n",
       "2020-04-09 21:00:00+00:00  7327.833311  7250.361709  1.062842 -1.457221   \n",
       "2020-04-09 22:00:00+00:00  7325.640758  7249.332240  1.047117 -1.424009   \n",
       "\n",
       "                                SMA_Vol     EMA_fast     EMA_slow      MACD  \\\n",
       "date                                                                          \n",
       "2020-04-09 20:00:00+00:00  2.109254e+08  7280.083462  7287.614550  7.531088   \n",
       "2020-04-09 21:00:00+00:00  2.290828e+08  7279.137478  7286.601218  7.463740   \n",
       "2020-04-09 22:00:00+00:00  4.009165e+07  7278.601154  7285.790118  7.188964   \n",
       "\n",
       "                           EMA_MACD           HH           LL  \n",
       "date                                                           \n",
       "2020-04-09 20:00:00+00:00  3.132471  7337.893066  7179.094238  \n",
       "2020-04-09 21:00:00+00:00  3.998724  7327.550781  7179.094238  \n",
       "2020-04-09 22:00:00+00:00  4.636772  7327.550781  7179.094238  "
      ]
     },
     "execution_count": 5,
     "metadata": {},
     "output_type": "execute_result"
    }
   ],
   "source": [
    "df = dt.fread(filepath).to_pandas() \n",
    "df = df.set_index('date')\n",
    "df.head(3)"
   ]
  },
  {
   "cell_type": "code",
   "execution_count": 6,
   "metadata": {},
   "outputs": [
    {
     "data": {
      "text/html": [
       "<div>\n",
       "<style scoped>\n",
       "    .dataframe tbody tr th:only-of-type {\n",
       "        vertical-align: middle;\n",
       "    }\n",
       "\n",
       "    .dataframe tbody tr th {\n",
       "        vertical-align: top;\n",
       "    }\n",
       "\n",
       "    .dataframe thead th {\n",
       "        text-align: right;\n",
       "    }\n",
       "</style>\n",
       "<table border=\"1\" class=\"dataframe\">\n",
       "  <thead>\n",
       "    <tr style=\"text-align: right;\">\n",
       "      <th></th>\n",
       "      <th>BB_high</th>\n",
       "      <th>BB_low</th>\n",
       "      <th>BB_width</th>\n",
       "      <th>SMA_BBW</th>\n",
       "      <th>SMA_Vol</th>\n",
       "      <th>EMA_fast</th>\n",
       "      <th>EMA_slow</th>\n",
       "      <th>MACD</th>\n",
       "      <th>EMA_MACD</th>\n",
       "      <th>HH</th>\n",
       "      <th>LL</th>\n",
       "      <th>Adj Close</th>\n",
       "      <th>Close</th>\n",
       "      <th>High</th>\n",
       "      <th>Low</th>\n",
       "      <th>Open</th>\n",
       "      <th>Volume</th>\n",
       "    </tr>\n",
       "    <tr>\n",
       "      <th>date</th>\n",
       "      <th></th>\n",
       "      <th></th>\n",
       "      <th></th>\n",
       "      <th></th>\n",
       "      <th></th>\n",
       "      <th></th>\n",
       "      <th></th>\n",
       "      <th></th>\n",
       "      <th></th>\n",
       "      <th></th>\n",
       "      <th></th>\n",
       "      <th></th>\n",
       "      <th></th>\n",
       "      <th></th>\n",
       "      <th></th>\n",
       "      <th></th>\n",
       "      <th></th>\n",
       "    </tr>\n",
       "  </thead>\n",
       "  <tbody>\n",
       "    <tr>\n",
       "      <th>2020-04-09 20:00:00+00:00</th>\n",
       "      <td>7329.607505</td>\n",
       "      <td>7251.915152</td>\n",
       "      <td>1.065627</td>\n",
       "      <td>-1.480833</td>\n",
       "      <td>2.109254e+08</td>\n",
       "      <td>7280.083462</td>\n",
       "      <td>7287.614550</td>\n",
       "      <td>7.531088</td>\n",
       "      <td>3.132471</td>\n",
       "      <td>7337.893066</td>\n",
       "      <td>7179.094238</td>\n",
       "      <td>7254.513672</td>\n",
       "      <td>7254.513672</td>\n",
       "      <td>7273.875488</td>\n",
       "      <td>7235.329590</td>\n",
       "      <td>7271.894531</td>\n",
       "      <td>0.0</td>\n",
       "    </tr>\n",
       "    <tr>\n",
       "      <th>2020-04-09 21:00:00+00:00</th>\n",
       "      <td>7327.833311</td>\n",
       "      <td>7250.361709</td>\n",
       "      <td>1.062842</td>\n",
       "      <td>-1.457221</td>\n",
       "      <td>2.290828e+08</td>\n",
       "      <td>7279.137478</td>\n",
       "      <td>7286.601218</td>\n",
       "      <td>7.463740</td>\n",
       "      <td>3.998724</td>\n",
       "      <td>7327.550781</td>\n",
       "      <td>7179.094238</td>\n",
       "      <td>7273.934570</td>\n",
       "      <td>7273.934570</td>\n",
       "      <td>7276.812500</td>\n",
       "      <td>7259.898926</td>\n",
       "      <td>7261.062988</td>\n",
       "      <td>226967552.0</td>\n",
       "    </tr>\n",
       "    <tr>\n",
       "      <th>2020-04-09 22:00:00+00:00</th>\n",
       "      <td>7325.640758</td>\n",
       "      <td>7249.332240</td>\n",
       "      <td>1.047117</td>\n",
       "      <td>-1.424009</td>\n",
       "      <td>4.009165e+07</td>\n",
       "      <td>7278.601154</td>\n",
       "      <td>7285.790118</td>\n",
       "      <td>7.188964</td>\n",
       "      <td>4.636772</td>\n",
       "      <td>7327.550781</td>\n",
       "      <td>7179.094238</td>\n",
       "      <td>7275.651367</td>\n",
       "      <td>7275.651367</td>\n",
       "      <td>7284.396484</td>\n",
       "      <td>7268.491211</td>\n",
       "      <td>7275.088867</td>\n",
       "      <td>0.0</td>\n",
       "    </tr>\n",
       "  </tbody>\n",
       "</table>\n",
       "</div>"
      ],
      "text/plain": [
       "                               BB_high       BB_low  BB_width   SMA_BBW  \\\n",
       "date                                                                      \n",
       "2020-04-09 20:00:00+00:00  7329.607505  7251.915152  1.065627 -1.480833   \n",
       "2020-04-09 21:00:00+00:00  7327.833311  7250.361709  1.062842 -1.457221   \n",
       "2020-04-09 22:00:00+00:00  7325.640758  7249.332240  1.047117 -1.424009   \n",
       "\n",
       "                                SMA_Vol     EMA_fast     EMA_slow      MACD  \\\n",
       "date                                                                          \n",
       "2020-04-09 20:00:00+00:00  2.109254e+08  7280.083462  7287.614550  7.531088   \n",
       "2020-04-09 21:00:00+00:00  2.290828e+08  7279.137478  7286.601218  7.463740   \n",
       "2020-04-09 22:00:00+00:00  4.009165e+07  7278.601154  7285.790118  7.188964   \n",
       "\n",
       "                           EMA_MACD           HH           LL    Adj Close  \\\n",
       "date                                                                         \n",
       "2020-04-09 20:00:00+00:00  3.132471  7337.893066  7179.094238  7254.513672   \n",
       "2020-04-09 21:00:00+00:00  3.998724  7327.550781  7179.094238  7273.934570   \n",
       "2020-04-09 22:00:00+00:00  4.636772  7327.550781  7179.094238  7275.651367   \n",
       "\n",
       "                                 Close         High          Low         Open  \\\n",
       "date                                                                            \n",
       "2020-04-09 20:00:00+00:00  7254.513672  7273.875488  7235.329590  7271.894531   \n",
       "2020-04-09 21:00:00+00:00  7273.934570  7276.812500  7259.898926  7261.062988   \n",
       "2020-04-09 22:00:00+00:00  7275.651367  7284.396484  7268.491211  7275.088867   \n",
       "\n",
       "                                Volume  \n",
       "date                                    \n",
       "2020-04-09 20:00:00+00:00          0.0  \n",
       "2020-04-09 21:00:00+00:00  226967552.0  \n",
       "2020-04-09 22:00:00+00:00          0.0  "
      ]
     },
     "execution_count": 6,
     "metadata": {},
     "output_type": "execute_result"
    }
   ],
   "source": [
    "df = df.join(df_btc, lsuffix='_ta', rsuffix='_btc')\n",
    "df.head(3)"
   ]
  },
  {
   "cell_type": "markdown",
   "metadata": {},
   "source": [
    "### Compute signals"
   ]
  },
  {
   "cell_type": "code",
   "execution_count": 7,
   "metadata": {},
   "outputs": [],
   "source": [
    "df_signals = pd.DataFrame([])"
   ]
  },
  {
   "cell_type": "markdown",
   "metadata": {},
   "source": [
    "#### 1. Conditions"
   ]
  },
  {
   "cell_type": "code",
   "execution_count": 8,
   "metadata": {},
   "outputs": [],
   "source": [
    "def condition_BBW(df):\n",
    "    return (df.SMA_BBW > 0)*1\n",
    "\n",
    "def condition_Vol(df):\n",
    "    return (df.SMA_Vol > 0)*1"
   ]
  },
  {
   "cell_type": "code",
   "execution_count": 9,
   "metadata": {},
   "outputs": [],
   "source": [
    "df_signals['condition_BBW'] = condition_BBW(df)\n",
    "df_signals['condition_Vol'] = condition_Vol(df)"
   ]
  },
  {
   "cell_type": "markdown",
   "metadata": {},
   "source": [
    "#### 2. Strategies"
   ]
  },
  {
   "cell_type": "code",
   "execution_count": 10,
   "metadata": {},
   "outputs": [],
   "source": [
    "def strat_BB(df, alpha):\n",
    "    buy = (df['Close'] - df['BB_high'] > abs(df['Close'])*alpha)*1\n",
    "    sell = (df['Close'] - df['BB_low'] < -abs(df['Close'])*alpha)*(-1)\n",
    "    return buy + sell\n",
    "\n",
    "def strat_MACD(df, alpha):\n",
    "    buy = (df['MACD'] - df['EMA_MACD'] < -abs(df['MACD'])*alpha)*1\n",
    "    sell = (df['MACD'] - df['EMA_MACD'] > abs(df['MACD'])*alpha)*(-1)\n",
    "    return buy + sell\n",
    "\n",
    "def strat_HH_LL(df):\n",
    "    buy = (df['High'] - df['HH'] > 0)*1\n",
    "    sell = (df['Low'] - df['LL'] < 0)*(-1)\n",
    "    return buy + sell"
   ]
  },
  {
   "cell_type": "code",
   "execution_count": 11,
   "metadata": {},
   "outputs": [],
   "source": [
    "df_signals['strat_BB'] = strat_BB(df, alpha=0.001)\n",
    "df_signals['strat_MACD'] = strat_MACD(df, alpha=0.1)\n",
    "df_signals['strat_HH_LL'] = strat_HH_LL(df)"
   ]
  },
  {
   "cell_type": "markdown",
   "metadata": {},
   "source": [
    "### 3. Combined startegies"
   ]
  },
  {
   "cell_type": "code",
   "execution_count": 12,
   "metadata": {},
   "outputs": [],
   "source": [
    "def new_label(value):\n",
    "    if value == 1:\n",
    "        return 1\n",
    "    elif value == -1:\n",
    "        return -1\n",
    "    else:\n",
    "        return 0\n",
    "\n",
    "def combine_strat(df, strats, conditions):\n",
    "    df_combine_strat = df[strats].mean(axis=1).apply(lambda value: new_label(value))\n",
    "    for condition in conditions:\n",
    "        df_combine_strat = df_combine_strat*df[condition]\n",
    "    return df_combine_strat"
   ]
  },
  {
   "cell_type": "code",
   "execution_count": 13,
   "metadata": {},
   "outputs": [],
   "source": [
    "conditions = ['condition_BBW','condition_Vol']\n",
    "strats = ['strat_BB','strat_MACD','strat_HH_LL']\n",
    "\n",
    "df_signals['combine_strat_cond'] = combine_strat(df_signals, strats, conditions)"
   ]
  },
  {
   "cell_type": "code",
   "execution_count": 14,
   "metadata": {},
   "outputs": [
    {
     "data": {
      "text/html": [
       "<div>\n",
       "<style scoped>\n",
       "    .dataframe tbody tr th:only-of-type {\n",
       "        vertical-align: middle;\n",
       "    }\n",
       "\n",
       "    .dataframe tbody tr th {\n",
       "        vertical-align: top;\n",
       "    }\n",
       "\n",
       "    .dataframe thead th {\n",
       "        text-align: right;\n",
       "    }\n",
       "</style>\n",
       "<table border=\"1\" class=\"dataframe\">\n",
       "  <thead>\n",
       "    <tr style=\"text-align: right;\">\n",
       "      <th></th>\n",
       "      <th>condition_BBW</th>\n",
       "      <th>condition_Vol</th>\n",
       "      <th>strat_BB</th>\n",
       "      <th>strat_MACD</th>\n",
       "      <th>strat_HH_LL</th>\n",
       "      <th>combine_strat_cond</th>\n",
       "    </tr>\n",
       "    <tr>\n",
       "      <th>date</th>\n",
       "      <th></th>\n",
       "      <th></th>\n",
       "      <th></th>\n",
       "      <th></th>\n",
       "      <th></th>\n",
       "      <th></th>\n",
       "    </tr>\n",
       "  </thead>\n",
       "  <tbody>\n",
       "    <tr>\n",
       "      <th>2020-04-09 20:00:00+00:00</th>\n",
       "      <td>0</td>\n",
       "      <td>1</td>\n",
       "      <td>0</td>\n",
       "      <td>-1</td>\n",
       "      <td>0</td>\n",
       "      <td>0</td>\n",
       "    </tr>\n",
       "    <tr>\n",
       "      <th>2020-04-09 21:00:00+00:00</th>\n",
       "      <td>0</td>\n",
       "      <td>1</td>\n",
       "      <td>0</td>\n",
       "      <td>-1</td>\n",
       "      <td>0</td>\n",
       "      <td>0</td>\n",
       "    </tr>\n",
       "    <tr>\n",
       "      <th>2020-04-09 22:00:00+00:00</th>\n",
       "      <td>0</td>\n",
       "      <td>1</td>\n",
       "      <td>0</td>\n",
       "      <td>-1</td>\n",
       "      <td>0</td>\n",
       "      <td>0</td>\n",
       "    </tr>\n",
       "  </tbody>\n",
       "</table>\n",
       "</div>"
      ],
      "text/plain": [
       "                           condition_BBW  condition_Vol  strat_BB  strat_MACD  \\\n",
       "date                                                                            \n",
       "2020-04-09 20:00:00+00:00              0              1         0          -1   \n",
       "2020-04-09 21:00:00+00:00              0              1         0          -1   \n",
       "2020-04-09 22:00:00+00:00              0              1         0          -1   \n",
       "\n",
       "                           strat_HH_LL  combine_strat_cond  \n",
       "date                                                        \n",
       "2020-04-09 20:00:00+00:00            0                   0  \n",
       "2020-04-09 21:00:00+00:00            0                   0  \n",
       "2020-04-09 22:00:00+00:00            0                   0  "
      ]
     },
     "execution_count": 14,
     "metadata": {},
     "output_type": "execute_result"
    }
   ],
   "source": [
    "df_signals.head(3)"
   ]
  },
  {
   "cell_type": "markdown",
   "metadata": {},
   "source": [
    "### Save features"
   ]
  },
  {
   "cell_type": "code",
   "execution_count": 15,
   "metadata": {},
   "outputs": [],
   "source": [
    "filepath = Path('../csv/signals_btc_strat.csv')"
   ]
  },
  {
   "cell_type": "code",
   "execution_count": 16,
   "metadata": {},
   "outputs": [],
   "source": [
    "df_signals.to_csv(filepath)"
   ]
  },
  {
   "cell_type": "code",
   "execution_count": null,
   "metadata": {},
   "outputs": [],
   "source": []
  }
 ],
 "metadata": {
  "kernelspec": {
   "display_name": "Python 3",
   "language": "python",
   "name": "python3"
  },
  "language_info": {
   "codemirror_mode": {
    "name": "ipython",
    "version": 3
   },
   "file_extension": ".py",
   "mimetype": "text/x-python",
   "name": "python",
   "nbconvert_exporter": "python",
   "pygments_lexer": "ipython3",
   "version": "3.8.8"
  }
 },
 "nbformat": 4,
 "nbformat_minor": 2
}
