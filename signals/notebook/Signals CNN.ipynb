{
 "cells": [
  {
   "cell_type": "markdown",
   "source": [
    "# Import"
   ],
   "metadata": {
    "collapsed": false,
    "pycharm": {
     "name": "#%% md\n"
    }
   }
  },
  {
   "cell_type": "code",
   "execution_count": null,
   "outputs": [],
   "source": [
    "!pip3 install pickle5\n",
    "import pickle5 as pickle\n",
    "import numpy as np\n",
    "import cv2\n",
    "import os\n",
    "import pandas as pd\n",
    "import tensorflow as tf\n",
    "from keras.layers.core import Dense, Activation, Dropout, Flatten\n",
    "from keras.layers.convolutional import Convolution2D, MaxPooling2D\n",
    "from tensorflow.keras.optimizers import Adam\n",
    "from keras.utils import np_utils\n",
    "from sklearn.tree import DecisionTreeClassifier # Import Decision Tree Classifier\n",
    "from sklearn import metrics\n",
    "from sklearn.utils import shuffle\n",
    "from tensorflow.keras.layers import BatchNormalization\n",
    "from sklearn.model_selection import train_test_split\n",
    "import random\n",
    "from keras.utils import np_utils"
   ],
   "metadata": {
    "collapsed": false,
    "pycharm": {
     "name": "#%%\n"
    }
   }
  },
  {
   "cell_type": "markdown",
   "source": [
    "## CNN Parameters"
   ],
   "metadata": {
    "collapsed": false,
    "pycharm": {
     "name": "#%% md\n"
    }
   }
  },
  {
   "cell_type": "code",
   "execution_count": null,
   "outputs": [],
   "source": [
    "IMG_SIZE = 800\n",
    "batch_size = 64\n",
    "nb_classes =2\n",
    "nb_epochs = 40\n",
    "img_rows, img_columns = 12, 100\n",
    "nb_filters = 32\n",
    "nb_pool = 2\n",
    "nb_conv = 3\n",
    "learning_rate = 0.0001"
   ],
   "metadata": {
    "collapsed": false,
    "pycharm": {
     "name": "#%%\n"
    }
   }
  },
  {
   "cell_type": "code",
   "execution_count": null,
   "outputs": [],
   "source": [
    "model = tf.keras.Sequential([\n",
    "    tf.keras.layers.Normalization(),\n",
    "    tf.keras.layers.Conv2D(32, (2,2), padding='same', activation=tf.keras.layers.LeakyReLU(alpha=0.01),\n",
    "                           input_shape=(100, 12,1)),\n",
    "    #tf.keras.layers.Conv2D(64, (2,2), padding='same', activation=tf.keras.layers.LeakyReLU(alpha=0.01)),\n",
    "    tf.keras.layers.MaxPooling2D((2, 1), strides=2),\n",
    "    tf.keras.layers.Normalization(),\n",
    "    #tf.keras.layers.MaxPooling2D((2, 1), strides=2),\n",
    "    tf.keras.layers.Conv2D(16, (5,3), padding='same', activation=tf.nn.relu),\n",
    "    tf.keras.layers.MaxPooling2D((2, 1), strides=3),\n",
    "    tf.keras.layers.Normalization(),\n",
    "    tf.keras.layers.Dropout(0.1),\n",
    "    tf.keras.layers.MaxPooling2D((2, 2), strides=3),\n",
    "    tf.keras.layers.Normalization(),\n",
    "    tf.keras.layers.Flatten(),\n",
    "    tf.keras.layers.Dense(64, activation=tf.nn.relu),\n",
    "\n",
    "    tf.keras.layers.Dense(2,  activation=tf.nn.softmax)\n",
    "])"
   ],
   "metadata": {
    "collapsed": false,
    "pycharm": {
     "name": "#%%\n"
    }
   }
  },
  {
   "cell_type": "code",
   "execution_count": null,
   "outputs": [],
   "source": [
    "import gc\n",
    "gc.collect()"
   ],
   "metadata": {
    "collapsed": false,
    "pycharm": {
     "name": "#%%\n"
    }
   }
  },
  {
   "cell_type": "code",
   "execution_count": null,
   "outputs": [],
   "source": [
    "optimizer = tf.keras.optimizers.Adam(lr=learning_rate)\n",
    "model.compile(optimizer=optimizer,loss='categorical_crossentropy',metrics=['accuracy'])"
   ],
   "metadata": {
    "collapsed": false,
    "pycharm": {
     "name": "#%%\n"
    }
   }
  },
  {
   "cell_type": "markdown",
   "source": [
    "## Load Data from Pickles And Train"
   ],
   "metadata": {
    "collapsed": false,
    "pycharm": {
     "name": "#%% md\n"
    }
   }
  },
  {
   "cell_type": "code",
   "execution_count": null,
   "outputs": [],
   "source": [
    "files = os.listdir(\"../../data/csv/pickles\")\n",
    "for i in range(0,len(files),2):\n",
    "\n",
    "    with open(\"../../data/csv/pickles\" + files[i], 'rb') as pickleFile:\n",
    "        test = pickle.load(pickleFile)\n",
    "    with open(\"../../data/csv/pickles\" + files[i+1], 'rb') as pickleFile:\n",
    "        test_1 = pickle.load(pickleFile)\n",
    "    training = []\n",
    "    for k in range(len(test)):\n",
    "        new_array = cv2.resize(test[i][0], (IMG_SIZE, IMG_SIZE))\n",
    "        training.append([new_array, test[k][1]])\n",
    "    for k in range(len(test_1)):\n",
    "        new_array = cv2.resize(test_1[i][0], (IMG_SIZE, IMG_SIZE))\n",
    "        training.append([new_array, test_1[k][1]])\n",
    "    X = []\n",
    "    y = []\n",
    "    random.shuffle(training)\n",
    "    for features, label in training:\n",
    "        X.append(features)\n",
    "        y.append(label)\n",
    "\n",
    "    X_reshaped = np.array(X).reshape(-1, 100, 12,1)\n",
    "    category = np_utils.to_categorical(y, 2)\n",
    "    X_train, X_test, y_train, y_test = train_test_split(X_reshaped, category, test_size = 0.1, random_state = 42,stratify=category)\n",
    "\n",
    "\n",
    "    model.fit(X_train, y_train, batch_size = batch_size, epochs = nb_epochs, verbose = 1, validation_data = (X_test, y_test))\n",
    "    print ( 10 * \"-\" , \"file = \", i , 10*\"-\")\n",
    "    import sklearn.metrics as metrics\n",
    "\n",
    "    y_pred_ohe = model.predict(X_test)  # shape=(n_samples, 12)\n",
    "    y_pred_labels = np.argmax(y_pred_ohe, axis=1)\n",
    "\n",
    "    # shape=(n_samples, 12)\n",
    "    y_test_true =  np.argmax(y_test, axis=1) # only necessary if output has one-hot-encoding, shape=(n_samples)\n",
    "\n",
    "    confusion_matrix = metrics.confusion_matrix(y_true=y_test_true, y_pred=y_pred_labels)\n",
    "    print(confusion_matrix)\n",
    "    print ( 15 * \"-\" , \"file = \", i , 15*\"-\")\n",
    "\n",
    "    gc.collect()"
   ],
   "metadata": {
    "collapsed": false,
    "pycharm": {
     "name": "#%%\n"
    }
   }
  }
 ],
 "metadata": {
  "kernelspec": {
   "display_name": "Python 3",
   "language": "python",
   "name": "python3"
  },
  "language_info": {
   "codemirror_mode": {
    "name": "ipython",
    "version": 2
   },
   "file_extension": ".py",
   "mimetype": "text/x-python",
   "name": "python",
   "nbconvert_exporter": "python",
   "pygments_lexer": "ipython2",
   "version": "2.7.6"
  }
 },
 "nbformat": 4,
 "nbformat_minor": 0
}