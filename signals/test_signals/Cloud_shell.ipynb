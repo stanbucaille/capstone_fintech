{
  "nbformat": 4,
  "nbformat_minor": 0,
  "metadata": {
    "colab": {
      "name": "Cloud shell",
      "provenance": [],
      "collapsed_sections": []
    },
    "kernelspec": {
      "name": "python3",
      "display_name": "Python 3"
    },
    "language_info": {
      "name": "python"
    }
  },
  "cells": [
    {
      "cell_type": "markdown",
      "source": [
        "Please run the following in GCP platform\n",
        "\n",
        "1. U have to enter the csv file of all the tweets for the requested duration\n",
        "2. If you dont have tweets - Use this code to generate the tweets - https://colab.research.google.com/github/ric-clemente/Crypto_Sentiment_vs_Price/blob/master/Crypto_Sentiment.ipynb\n",
        "\n",
        "3. Once you have the tweets replace the path in the file below \n"
      ],
      "metadata": {
        "id": "LmDzcDsXojT8"
      }
    },
    {
      "cell_type": "code",
      "source": [
        "import sys\n",
        "\n",
        "from google.api_core.client_options import ClientOptions\n",
        "from google.cloud import automl_v1\n",
        "\n",
        "def inline_text_payload(file_path):\n",
        "    with open(file_path, 'rb') as ff:\n",
        "        content = ff.read()\n",
        "    return {'text_snippet': {'content': content, 'mime_type': 'text/plain'} }\n",
        "\n",
        "def pdf_payload(file_path):\n",
        "    return {'document': {'input_config': {'gcs_source': {'input_uris': [file_path] } } } }\n",
        "\n",
        "def get_prediction(file_path, model_name):\n",
        "    options = ClientOptions(api_endpoint='automl.googleapis.com')\n",
        "    prediction_client = automl_v1.PredictionServiceClient(client_options=options)\n",
        "\n",
        "    payload = inline_text_payload(file_path)\n",
        "    # Uncomment the following line (and comment the above line) if want to predict on PDFs.\n",
        "    # payload = pdf_payload(file_path)\n",
        "\n",
        "    params = {}\n",
        "\n",
        "    request = prediction_client.predict(name=model_name, payload=payload)\n",
        "\n",
        "    return request  # waits until request is returned\n",
        "\n",
        "if __name__ == '__main__':\n",
        "    file_path = sys.argv[1]\n",
        "    model_name = sys.argv[2]\n",
        "\n",
        "    print(get_prediction(file_path, model_name))"
      ],
      "metadata": {
        "id": "f3BZCv9cpGFk"
      },
      "execution_count": null,
      "outputs": []
    }
  ]
}