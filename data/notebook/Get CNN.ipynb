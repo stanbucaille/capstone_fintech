{
 "cells": [
  {
   "cell_type": "markdown",
   "source": [
    "## Import"
   ],
   "metadata": {
    "collapsed": false,
    "pycharm": {
     "name": "#%% md\n"
    }
   }
  },
  {
   "cell_type": "code",
   "execution_count": 2,
   "outputs": [],
   "source": [
    "import pandas as pd\n",
    "import matplotlib.pyplot as plt\n",
    "import matplotlib as mlp\n",
    "import mplfinance as ml\n",
    "import cv2\n",
    "from ta.volatility import BollingerBands\n",
    "from ta.momentum import kama\n",
    "import pickle\n",
    "import gc"
   ],
   "metadata": {
    "collapsed": false,
    "pycharm": {
     "name": "#%%\n"
    }
   }
  },
  {
   "cell_type": "markdown",
   "source": [
    "## Configure Data"
   ],
   "metadata": {
    "collapsed": false,
    "pycharm": {
     "name": "#%% md\n"
    }
   }
  },
  {
   "cell_type": "code",
   "execution_count": null,
   "outputs": [],
   "source": [
    "mlp.use('agg')\n",
    "min_data = pd.read_csv(\"../csv/Binance_BTCUSDT_minute.csv\",skiprows=1)\n",
    "min_data[\"date\"] = pd.to_datetime(min_data[\"date\"])\n",
    "min_data.index = min_data[\"date\"]\n",
    "min_data[\"volume\"] = min_data[\"Volume USDT\"]\n",
    "min_data = min_data.drop([\"unix\",\"Volume USDT\",\"Volume BTC\",\"date\"],axis=1)"
   ],
   "metadata": {
    "collapsed": false,
    "pycharm": {
     "name": "#%%\n"
    }
   }
  },
  {
   "cell_type": "markdown",
   "source": [
    "## Add Indicators"
   ],
   "metadata": {
    "collapsed": false,
    "pycharm": {
     "name": "#%% md\n"
    }
   }
  },
  {
   "cell_type": "code",
   "execution_count": null,
   "outputs": [],
   "source": [
    "indicator_bb = BollingerBands(close=min_data[\"close\"], window=20, window_dev=2)\n",
    "min_data[\"kama\"] = kama(min_data[\"close\"], window=10, pow1=2, pow2=30, fillna=False)\n",
    "min_data['bb_bbm'] = indicator_bb.bollinger_mavg()\n",
    "min_data['bb_bbh'] = indicator_bb.bollinger_hband()\n",
    "min_data['bb_bbl'] = indicator_bb.bollinger_lband()\n",
    "min_data['accu'] = ta.volume.acc_dist_index(high=min_data['high'],low=min_data['low'],close = min_data['close'],volume = min_data['volume'])\n",
    "min_data['ema'] = ta.trend.ema_indicator(close = min_data['close'],window = 100)\n",
    "min_data['rsi'] = ta.momentum.rsi(close = min_data[\"close\"],window=100)\n",
    "min_data = min_data.dropna()\n",
    "\n",
    "min_data = min_data.drop([\"symbol\"],axis=1)\n",
    "min_data = min_data.drop([\"tradecount\"],axis=1)\n",
    "min_data = min_data[min_data[\"volume\"]>0] ## Drop inactive minutes"
   ],
   "metadata": {
    "collapsed": false,
    "pycharm": {
     "name": "#%%\n"
    }
   }
  },
  {
   "cell_type": "markdown",
   "source": [
    "## Create Images and PickleFile"
   ],
   "metadata": {
    "collapsed": false,
    "pycharm": {
     "name": "#%% md\n"
    }
   }
  },
  {
   "cell_type": "code",
   "execution_count": null,
   "outputs": [],
   "source": [
    "data = []\n",
    "count=0\n",
    "for i in list(range(len(min_data)-105))[::15]:\n",
    "    textfile = open(\"i_list.txt\", \"w\")\n",
    "    textfile.write(str(i) + \"\\n\")\n",
    "    textfile.close()\n",
    "    try:\n",
    "        apdict = ml.make_addplot(min_data[['bb_bbl','bb_bbh','kama']][i:i+100])\n",
    "        save = dict(fname='../csv/pics/tsave_{}.jpg'.format(i),dpi=200,pad_inches=0,bbox_inches=\"tight\")\n",
    "        ml.plot(min_data[i:i+100],volume=True,addplot=apdict,mav=(10,20),style='classic',update_width_config=dict(ohlc_linewidth=2,ohlc_ticksize=0.5),savefig=save)\n",
    "        image = cv2.imread('../csv/pics/tsave_{}.jpg'.format(i))\n",
    "        gray = cv2.cvtColor(image, cv2.COLOR_BGR2GRAY)\n",
    "        gray =gray [:805, :1100]\n",
    "        change = (min_data[\"close\"][i+115]-min_data[\"close\"][i+100])\n",
    "        if (change > 0):\n",
    "                y=1\n",
    "        elif(change < 0):\n",
    "                y=0\n",
    "        else:\n",
    "                continue\n",
    "\n",
    "        data.append([gray,y])\n",
    "    except:\n",
    "        print(\"passed \", i)\n",
    "        pass\n",
    "    count = count +  1\n",
    "    if(count%1000 == 0):\n",
    "        with open('../csv/pickles/filename_{}.pickle'.format(count), 'wb') as handle:\n",
    "            pickle.dump(data, handle, protocol=pickle.HIGHEST_PROTOCOL)\n",
    "        print(\"saved \", count)\n",
    "        del data\n",
    "        cv2.imwrite('{}.jpg'.format(i), gray)\n",
    "        gc.collect()\n",
    "        data=[]"
   ],
   "metadata": {
    "collapsed": false,
    "pycharm": {
     "name": "#%%\n"
    }
   }
  }
 ],
 "metadata": {
  "kernelspec": {
   "display_name": "Python 3 (ipykernel)",
   "language": "python",
   "name": "python3"
  },
  "language_info": {
   "codemirror_mode": {
    "name": "ipython",
    "version": 3
   },
   "file_extension": ".py",
   "mimetype": "text/x-python",
   "name": "python",
   "nbconvert_exporter": "python",
   "pygments_lexer": "ipython3",
   "version": "3.10.0"
  }
 },
 "nbformat": 4,
 "nbformat_minor": 1
}