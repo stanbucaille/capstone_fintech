{
 "cells": [
  {
   "cell_type": "markdown",
   "metadata": {},
   "source": [
    "# Glassnode Data"
   ]
  },
  {
   "cell_type": "markdown",
   "metadata": {},
   "source": [
    "Source: https://glassnode.com"
   ]
  },
  {
   "cell_type": "markdown",
   "metadata": {},
   "source": [
    "### Import"
   ]
  },
  {
   "cell_type": "code",
   "execution_count": 13,
   "metadata": {},
   "outputs": [],
   "source": [
    "import json\n",
    "import requests\n",
    "import pandas as pd\n",
    "from datetime import date\n",
    "from pathlib import Path "
   ]
  },
  {
   "cell_type": "markdown",
   "metadata": {},
   "source": [
    "### Get data"
   ]
  },
  {
   "cell_type": "markdown",
   "metadata": {},
   "source": [
    "#### Get list of available data"
   ]
  },
  {
   "cell_type": "code",
   "execution_count": 2,
   "metadata": {},
   "outputs": [],
   "source": [
    "# insert your API key here\n",
    "API_KEY = '25cC9ajq5eVNBgT2hsQXRNEUEY4'\n",
    "url = 'https://api.glassnode.com/v2/metrics/endpoints'\n",
    "\n",
    "# make API request\n",
    "res = requests.get(url,\n",
    "    params={'a': 'BTC', 'api_key': API_KEY})\n",
    "\n",
    "# Filter accessible data\n",
    "df_endpoints = pd.read_json(res.text)\n",
    "df_endpoints = df_endpoints[df_endpoints.tier == 1]\n",
    "\n",
    "# Filter on Bitcoin data\n",
    "df_endpoints['BTC'] = df_endpoints.apply(lambda row: row.assets[0]['symbol'] == 'BTC', axis=1)\n",
    "df_endpoints = df_endpoints[df_endpoints.BTC == True]\n",
    "\n",
    "# Get Cathegory/Name\n",
    "df_endpoints['Cathegory'] = df_endpoints.apply(lambda row: row.path.split('/')[-2], axis=1)\n",
    "df_endpoints['Name'] = df_endpoints.apply(lambda row: row.path.split('/')[-1], axis=1)\n",
    "\n",
    "# Filter on cathegories\n",
    "ignor_cathegories = ['institutions','market','supply','mining']\n",
    "df_endpoints = df_endpoints[~df_endpoints.Cathegory.isin(ignor_cathegories)]\n",
    "\n",
    "# Get url\n",
    "df_endpoints['url'] = df_endpoints.apply(lambda row: 'https://api.glassnode.com'+row.path, axis=1)"
   ]
  },
  {
   "cell_type": "markdown",
   "metadata": {},
   "source": [
    "#### Load available data"
   ]
  },
  {
   "cell_type": "code",
   "execution_count": 7,
   "metadata": {},
   "outputs": [
    {
     "name": "stdout",
     "output_type": "stream",
     "text": [
      "Error - NAN: transactions | size_mean\n",
      "Error - NAN: transactions | size_sum\n",
      "Error - OTHER: indicators | difficulty_ribbon\n",
      "Error - OTHER: blockchain | utxo_count\n",
      "Error - OTHER: blockchain | block_count\n",
      "Error - OTHER: blockchain | block_interval_mean\n",
      "Error - OTHER: blockchain | block_interval_median\n",
      "Error - OTHER: blockchain | block_size_mean\n",
      "Error - OTHER: blockchain | block_size_sum\n"
     ]
    }
   ],
   "source": [
    "df_metadata = pd.DataFrame()\n",
    "\n",
    "for i, endpoints in df_endpoints.iterrows():\n",
    "    name = endpoints.Name\n",
    "    cathegory = endpoints.Cathegory\n",
    "    url = endpoints.url\n",
    "    \n",
    "    # make API request\n",
    "    res_endpoint = requests.get(url, params={'a': 'BTC', 'api_key': API_KEY})\n",
    "    \n",
    "    try:\n",
    "        # convert to pandas dataframe\n",
    "        df_endpoint = pd.read_json(res_endpoint.text, convert_dates=['t'])\n",
    "        df_endpoint = df_endpoint.rename(columns={'v': '/'.join([cathegory,name])})\n",
    "        df_endpoint = df_endpoint.set_index(['t'])\n",
    "        \n",
    "        if df_endpoint.isna().sum().values[0] > 0:\n",
    "            print(f'Error - NAN: {cathegory} | {name}')\n",
    "            continue\n",
    "        df_metadata = pd.concat([df_metadata, df_endpoint], join=\"outer\", axis=1)\n",
    "    except:\n",
    "        print(f'Error - OTHER: {cathegory} | {name}')"
   ]
  },
  {
   "cell_type": "markdown",
   "metadata": {},
   "source": [
    "### Data engineering"
   ]
  },
  {
   "cell_type": "code",
   "execution_count": 8,
   "metadata": {},
   "outputs": [],
   "source": [
    "today = date.today()\n",
    "df_metadata = df_metadata[df_metadata.index < str(today)]\n",
    "df_metadata = df_metadata.dropna(axis='columns')"
   ]
  },
  {
   "cell_type": "markdown",
   "metadata": {},
   "source": [
    "### Some info on the dataset"
   ]
  },
  {
   "cell_type": "code",
   "execution_count": 9,
   "metadata": {},
   "outputs": [
    {
     "data": {
      "text/html": [
       "<div>\n",
       "<style scoped>\n",
       "    .dataframe tbody tr th:only-of-type {\n",
       "        vertical-align: middle;\n",
       "    }\n",
       "\n",
       "    .dataframe tbody tr th {\n",
       "        vertical-align: top;\n",
       "    }\n",
       "\n",
       "    .dataframe thead th {\n",
       "        text-align: right;\n",
       "    }\n",
       "</style>\n",
       "<table border=\"1\" class=\"dataframe\">\n",
       "  <thead>\n",
       "    <tr style=\"text-align: right;\">\n",
       "      <th></th>\n",
       "      <th>addresses/count</th>\n",
       "      <th>addresses/sending_count</th>\n",
       "      <th>addresses/receiving_count</th>\n",
       "      <th>addresses/active_count</th>\n",
       "      <th>addresses/new_non_zero_count</th>\n",
       "      <th>transactions/count</th>\n",
       "      <th>transactions/rate</th>\n",
       "      <th>transactions/transfers_volume_sum</th>\n",
       "      <th>transactions/transfers_volume_mean</th>\n",
       "      <th>transactions/transfers_volume_median</th>\n",
       "      <th>...</th>\n",
       "      <th>fees/volume_mean</th>\n",
       "      <th>fees/volume_median</th>\n",
       "      <th>blockchain/utxo_created_count</th>\n",
       "      <th>blockchain/utxo_spent_count</th>\n",
       "      <th>blockchain/utxo_created_value_sum</th>\n",
       "      <th>blockchain/utxo_spent_value_sum</th>\n",
       "      <th>blockchain/utxo_created_value_mean</th>\n",
       "      <th>blockchain/utxo_spent_value_mean</th>\n",
       "      <th>blockchain/utxo_created_value_median</th>\n",
       "      <th>blockchain/utxo_spent_value_median</th>\n",
       "    </tr>\n",
       "    <tr>\n",
       "      <th>t</th>\n",
       "      <th></th>\n",
       "      <th></th>\n",
       "      <th></th>\n",
       "      <th></th>\n",
       "      <th></th>\n",
       "      <th></th>\n",
       "      <th></th>\n",
       "      <th></th>\n",
       "      <th></th>\n",
       "      <th></th>\n",
       "      <th></th>\n",
       "      <th></th>\n",
       "      <th></th>\n",
       "      <th></th>\n",
       "      <th></th>\n",
       "      <th></th>\n",
       "      <th></th>\n",
       "      <th></th>\n",
       "      <th></th>\n",
       "      <th></th>\n",
       "      <th></th>\n",
       "    </tr>\n",
       "  </thead>\n",
       "  <tbody>\n",
       "    <tr>\n",
       "      <th>2009-01-03</th>\n",
       "      <td>1.0</td>\n",
       "      <td>0.0</td>\n",
       "      <td>0.0</td>\n",
       "      <td>0.0</td>\n",
       "      <td>1.0</td>\n",
       "      <td>0.0</td>\n",
       "      <td>0.0</td>\n",
       "      <td>0.0</td>\n",
       "      <td>0.0</td>\n",
       "      <td>0.0</td>\n",
       "      <td>...</td>\n",
       "      <td>0.0</td>\n",
       "      <td>0.0</td>\n",
       "      <td>1.0</td>\n",
       "      <td>0.0</td>\n",
       "      <td>50.0</td>\n",
       "      <td>0.0</td>\n",
       "      <td>50.0</td>\n",
       "      <td>0.0</td>\n",
       "      <td>50.0</td>\n",
       "      <td>0.0</td>\n",
       "    </tr>\n",
       "    <tr>\n",
       "      <th>2009-01-04</th>\n",
       "      <td>1.0</td>\n",
       "      <td>0.0</td>\n",
       "      <td>0.0</td>\n",
       "      <td>0.0</td>\n",
       "      <td>0.0</td>\n",
       "      <td>0.0</td>\n",
       "      <td>0.0</td>\n",
       "      <td>0.0</td>\n",
       "      <td>0.0</td>\n",
       "      <td>0.0</td>\n",
       "      <td>...</td>\n",
       "      <td>0.0</td>\n",
       "      <td>0.0</td>\n",
       "      <td>0.0</td>\n",
       "      <td>0.0</td>\n",
       "      <td>0.0</td>\n",
       "      <td>0.0</td>\n",
       "      <td>0.0</td>\n",
       "      <td>0.0</td>\n",
       "      <td>0.0</td>\n",
       "      <td>0.0</td>\n",
       "    </tr>\n",
       "    <tr>\n",
       "      <th>2009-01-05</th>\n",
       "      <td>1.0</td>\n",
       "      <td>0.0</td>\n",
       "      <td>0.0</td>\n",
       "      <td>0.0</td>\n",
       "      <td>0.0</td>\n",
       "      <td>0.0</td>\n",
       "      <td>0.0</td>\n",
       "      <td>0.0</td>\n",
       "      <td>0.0</td>\n",
       "      <td>0.0</td>\n",
       "      <td>...</td>\n",
       "      <td>0.0</td>\n",
       "      <td>0.0</td>\n",
       "      <td>0.0</td>\n",
       "      <td>0.0</td>\n",
       "      <td>0.0</td>\n",
       "      <td>0.0</td>\n",
       "      <td>0.0</td>\n",
       "      <td>0.0</td>\n",
       "      <td>0.0</td>\n",
       "      <td>0.0</td>\n",
       "    </tr>\n",
       "    <tr>\n",
       "      <th>2009-01-06</th>\n",
       "      <td>1.0</td>\n",
       "      <td>0.0</td>\n",
       "      <td>0.0</td>\n",
       "      <td>0.0</td>\n",
       "      <td>0.0</td>\n",
       "      <td>0.0</td>\n",
       "      <td>0.0</td>\n",
       "      <td>0.0</td>\n",
       "      <td>0.0</td>\n",
       "      <td>0.0</td>\n",
       "      <td>...</td>\n",
       "      <td>0.0</td>\n",
       "      <td>0.0</td>\n",
       "      <td>0.0</td>\n",
       "      <td>0.0</td>\n",
       "      <td>0.0</td>\n",
       "      <td>0.0</td>\n",
       "      <td>0.0</td>\n",
       "      <td>0.0</td>\n",
       "      <td>0.0</td>\n",
       "      <td>0.0</td>\n",
       "    </tr>\n",
       "    <tr>\n",
       "      <th>2009-01-07</th>\n",
       "      <td>1.0</td>\n",
       "      <td>0.0</td>\n",
       "      <td>0.0</td>\n",
       "      <td>0.0</td>\n",
       "      <td>0.0</td>\n",
       "      <td>0.0</td>\n",
       "      <td>0.0</td>\n",
       "      <td>0.0</td>\n",
       "      <td>0.0</td>\n",
       "      <td>0.0</td>\n",
       "      <td>...</td>\n",
       "      <td>0.0</td>\n",
       "      <td>0.0</td>\n",
       "      <td>0.0</td>\n",
       "      <td>0.0</td>\n",
       "      <td>0.0</td>\n",
       "      <td>0.0</td>\n",
       "      <td>0.0</td>\n",
       "      <td>0.0</td>\n",
       "      <td>0.0</td>\n",
       "      <td>0.0</td>\n",
       "    </tr>\n",
       "  </tbody>\n",
       "</table>\n",
       "<p>5 rows × 21 columns</p>\n",
       "</div>"
      ],
      "text/plain": [
       "            addresses/count  addresses/sending_count  \\\n",
       "t                                                      \n",
       "2009-01-03              1.0                      0.0   \n",
       "2009-01-04              1.0                      0.0   \n",
       "2009-01-05              1.0                      0.0   \n",
       "2009-01-06              1.0                      0.0   \n",
       "2009-01-07              1.0                      0.0   \n",
       "\n",
       "            addresses/receiving_count  addresses/active_count  \\\n",
       "t                                                               \n",
       "2009-01-03                        0.0                     0.0   \n",
       "2009-01-04                        0.0                     0.0   \n",
       "2009-01-05                        0.0                     0.0   \n",
       "2009-01-06                        0.0                     0.0   \n",
       "2009-01-07                        0.0                     0.0   \n",
       "\n",
       "            addresses/new_non_zero_count  transactions/count  \\\n",
       "t                                                              \n",
       "2009-01-03                           1.0                 0.0   \n",
       "2009-01-04                           0.0                 0.0   \n",
       "2009-01-05                           0.0                 0.0   \n",
       "2009-01-06                           0.0                 0.0   \n",
       "2009-01-07                           0.0                 0.0   \n",
       "\n",
       "            transactions/rate  transactions/transfers_volume_sum  \\\n",
       "t                                                                  \n",
       "2009-01-03                0.0                                0.0   \n",
       "2009-01-04                0.0                                0.0   \n",
       "2009-01-05                0.0                                0.0   \n",
       "2009-01-06                0.0                                0.0   \n",
       "2009-01-07                0.0                                0.0   \n",
       "\n",
       "            transactions/transfers_volume_mean  \\\n",
       "t                                                \n",
       "2009-01-03                                 0.0   \n",
       "2009-01-04                                 0.0   \n",
       "2009-01-05                                 0.0   \n",
       "2009-01-06                                 0.0   \n",
       "2009-01-07                                 0.0   \n",
       "\n",
       "            transactions/transfers_volume_median  ...  fees/volume_mean  \\\n",
       "t                                                 ...                     \n",
       "2009-01-03                                   0.0  ...               0.0   \n",
       "2009-01-04                                   0.0  ...               0.0   \n",
       "2009-01-05                                   0.0  ...               0.0   \n",
       "2009-01-06                                   0.0  ...               0.0   \n",
       "2009-01-07                                   0.0  ...               0.0   \n",
       "\n",
       "            fees/volume_median  blockchain/utxo_created_count  \\\n",
       "t                                                               \n",
       "2009-01-03                 0.0                            1.0   \n",
       "2009-01-04                 0.0                            0.0   \n",
       "2009-01-05                 0.0                            0.0   \n",
       "2009-01-06                 0.0                            0.0   \n",
       "2009-01-07                 0.0                            0.0   \n",
       "\n",
       "            blockchain/utxo_spent_count  blockchain/utxo_created_value_sum  \\\n",
       "t                                                                            \n",
       "2009-01-03                          0.0                               50.0   \n",
       "2009-01-04                          0.0                                0.0   \n",
       "2009-01-05                          0.0                                0.0   \n",
       "2009-01-06                          0.0                                0.0   \n",
       "2009-01-07                          0.0                                0.0   \n",
       "\n",
       "            blockchain/utxo_spent_value_sum  \\\n",
       "t                                             \n",
       "2009-01-03                              0.0   \n",
       "2009-01-04                              0.0   \n",
       "2009-01-05                              0.0   \n",
       "2009-01-06                              0.0   \n",
       "2009-01-07                              0.0   \n",
       "\n",
       "            blockchain/utxo_created_value_mean  \\\n",
       "t                                                \n",
       "2009-01-03                                50.0   \n",
       "2009-01-04                                 0.0   \n",
       "2009-01-05                                 0.0   \n",
       "2009-01-06                                 0.0   \n",
       "2009-01-07                                 0.0   \n",
       "\n",
       "            blockchain/utxo_spent_value_mean  \\\n",
       "t                                              \n",
       "2009-01-03                               0.0   \n",
       "2009-01-04                               0.0   \n",
       "2009-01-05                               0.0   \n",
       "2009-01-06                               0.0   \n",
       "2009-01-07                               0.0   \n",
       "\n",
       "            blockchain/utxo_created_value_median  \\\n",
       "t                                                  \n",
       "2009-01-03                                  50.0   \n",
       "2009-01-04                                   0.0   \n",
       "2009-01-05                                   0.0   \n",
       "2009-01-06                                   0.0   \n",
       "2009-01-07                                   0.0   \n",
       "\n",
       "            blockchain/utxo_spent_value_median  \n",
       "t                                               \n",
       "2009-01-03                                 0.0  \n",
       "2009-01-04                                 0.0  \n",
       "2009-01-05                                 0.0  \n",
       "2009-01-06                                 0.0  \n",
       "2009-01-07                                 0.0  \n",
       "\n",
       "[5 rows x 21 columns]"
      ]
     },
     "metadata": {},
     "output_type": "display_data"
    },
    {
     "data": {
      "text/plain": [
       "(4841, 21)"
      ]
     },
     "metadata": {},
     "output_type": "display_data"
    }
   ],
   "source": [
    "display(df_metadata.head())\n",
    "display(df_metadata.shape)"
   ]
  },
  {
   "cell_type": "code",
   "execution_count": 10,
   "metadata": {},
   "outputs": [
    {
     "data": {
      "text/plain": [
       "Timestamp('2009-01-03 00:00:00', freq='D')"
      ]
     },
     "metadata": {},
     "output_type": "display_data"
    },
    {
     "data": {
      "text/plain": [
       "Timestamp('2022-04-05 00:00:00', freq='D')"
      ]
     },
     "metadata": {},
     "output_type": "display_data"
    }
   ],
   "source": [
    "display(df_metadata.index.min())\n",
    "display(df_metadata.index.max())"
   ]
  },
  {
   "cell_type": "code",
   "execution_count": 11,
   "metadata": {},
   "outputs": [
    {
     "name": "stdout",
     "output_type": "stream",
     "text": [
      "<class 'pandas.core.frame.DataFrame'>\n",
      "DatetimeIndex: 4841 entries, 2009-01-03 to 2022-04-05\n",
      "Freq: D\n",
      "Data columns (total 21 columns):\n",
      " #   Column                                Non-Null Count  Dtype  \n",
      "---  ------                                --------------  -----  \n",
      " 0   addresses/count                       4841 non-null   float64\n",
      " 1   addresses/sending_count               4841 non-null   float64\n",
      " 2   addresses/receiving_count             4841 non-null   float64\n",
      " 3   addresses/active_count                4841 non-null   float64\n",
      " 4   addresses/new_non_zero_count          4841 non-null   float64\n",
      " 5   transactions/count                    4841 non-null   float64\n",
      " 6   transactions/rate                     4841 non-null   float64\n",
      " 7   transactions/transfers_volume_sum     4841 non-null   float64\n",
      " 8   transactions/transfers_volume_mean    4841 non-null   float64\n",
      " 9   transactions/transfers_volume_median  4841 non-null   float64\n",
      " 10  fees/volume_sum                       4841 non-null   float64\n",
      " 11  fees/volume_mean                      4841 non-null   float64\n",
      " 12  fees/volume_median                    4841 non-null   float64\n",
      " 13  blockchain/utxo_created_count         4841 non-null   float64\n",
      " 14  blockchain/utxo_spent_count           4841 non-null   float64\n",
      " 15  blockchain/utxo_created_value_sum     4841 non-null   float64\n",
      " 16  blockchain/utxo_spent_value_sum       4841 non-null   float64\n",
      " 17  blockchain/utxo_created_value_mean    4841 non-null   float64\n",
      " 18  blockchain/utxo_spent_value_mean      4841 non-null   float64\n",
      " 19  blockchain/utxo_created_value_median  4841 non-null   float64\n",
      " 20  blockchain/utxo_spent_value_median    4841 non-null   float64\n",
      "dtypes: float64(21)\n",
      "memory usage: 832.0 KB\n"
     ]
    }
   ],
   "source": [
    "df_metadata.info()"
   ]
  },
  {
   "cell_type": "markdown",
   "metadata": {},
   "source": [
    "### Save data"
   ]
  },
  {
   "cell_type": "code",
   "execution_count": 12,
   "metadata": {},
   "outputs": [
    {
     "ename": "NameError",
     "evalue": "name 'Path' is not defined",
     "output_type": "error",
     "traceback": [
      "\u001b[0;31m---------------------------------------------------------------------------\u001b[0m",
      "\u001b[0;31mNameError\u001b[0m                                 Traceback (most recent call last)",
      "\u001b[0;32m<ipython-input-12-ed411b230255>\u001b[0m in \u001b[0;36m<module>\u001b[0;34m\u001b[0m\n\u001b[0;32m----> 1\u001b[0;31m \u001b[0mfilepath\u001b[0m \u001b[0;34m=\u001b[0m \u001b[0mPath\u001b[0m\u001b[0;34m(\u001b[0m\u001b[0;34m'../csv/glassnode_onchain_data.csv'\u001b[0m\u001b[0;34m)\u001b[0m\u001b[0;34m\u001b[0m\u001b[0;34m\u001b[0m\u001b[0m\n\u001b[0m",
      "\u001b[0;31mNameError\u001b[0m: name 'Path' is not defined"
     ]
    }
   ],
   "source": [
    "filepath = Path('../csv/glassnode_onchain_data.csv')"
   ]
  },
  {
   "cell_type": "code",
   "execution_count": null,
   "metadata": {},
   "outputs": [],
   "source": [
    "df.to_csv(filepath)"
   ]
  }
 ],
 "metadata": {
  "kernelspec": {
   "display_name": "Python 3",
   "language": "python",
   "name": "python3"
  },
  "language_info": {
   "codemirror_mode": {
    "name": "ipython",
    "version": 3
   },
   "file_extension": ".py",
   "mimetype": "text/x-python",
   "name": "python",
   "nbconvert_exporter": "python",
   "pygments_lexer": "ipython3",
   "version": "3.7.4"
  }
 },
 "nbformat": 4,
 "nbformat_minor": 2
}
