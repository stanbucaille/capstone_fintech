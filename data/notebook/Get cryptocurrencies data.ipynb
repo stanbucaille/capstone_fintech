{
 "cells": [
  {
   "cell_type": "markdown",
   "metadata": {},
   "source": [
    "# Get cryptocurrencies data "
   ]
  },
  {
   "cell_type": "code",
   "execution_count": 17,
   "metadata": {},
   "outputs": [],
   "source": [
    "from yahooquery import Screener\n",
    "import yfinance as yf\n",
    "from pathlib import Path "
   ]
  },
  {
   "cell_type": "markdown",
   "metadata": {},
   "source": [
    "### Get data"
   ]
  },
  {
   "cell_type": "code",
   "execution_count": 18,
   "metadata": {},
   "outputs": [
    {
     "name": "stdout",
     "output_type": "stream",
     "text": [
      "# of cryptocurrencies: 250\n"
     ]
    }
   ],
   "source": [
    "s = Screener()\n",
    "data = s.get_screeners(['all_cryptocurrencies_us'], count=250)\n",
    "\n",
    "dicts = data['all_cryptocurrencies_us']['quotes']\n",
    "symbols = [d['symbol'] for d in dicts]\n",
    "\n",
    "print(f'# of cryptocurrencies: {len(symbols)}')"
   ]
  },
  {
   "cell_type": "code",
   "execution_count": 19,
   "metadata": {},
   "outputs": [
    {
     "name": "stdout",
     "output_type": "stream",
     "text": [
      "[*********************100%***********************]  250 of 250 completed\n"
     ]
    }
   ],
   "source": [
    "df_raw = yf.download(tickers = symbols, period = \"2y\", interval = \"1h\")"
   ]
  },
  {
   "cell_type": "markdown",
   "metadata": {},
   "source": [
    "### Data engineering"
   ]
  },
  {
   "cell_type": "code",
   "execution_count": 41,
   "metadata": {},
   "outputs": [],
   "source": [
    "# Remove nan\n",
    "df = df_raw.ffill(limit=10).dropna(axis=1)\n",
    "\n",
    "# Select top 10 crypto - highest volume\n",
    "tickers_hg_volume = df.Volume.mean().nlargest(n=10).index"
   ]
  },
  {
   "cell_type": "code",
   "execution_count": 42,
   "metadata": {},
   "outputs": [],
   "source": [
    "# Reorder columns names\n",
    "df = df.T.swaplevel(0, 1).T\n",
    "df = df[tickers_hg_volume]"
   ]
  },
  {
   "cell_type": "markdown",
   "metadata": {},
   "source": [
    "### Some info on the dataset"
   ]
  },
  {
   "cell_type": "code",
   "execution_count": 46,
   "metadata": {},
   "outputs": [
    {
     "data": {
      "text/plain": [
       "Index(['USDT-USD', 'BTC-USD', 'XRP-USD', 'TRX-USD', 'ETH-USD', 'ETC-USD',\n",
       "       'BCH-USD', 'EOS-USD', 'ADA-USD', 'BNT-USD'],\n",
       "      dtype='object')"
      ]
     },
     "execution_count": 46,
     "metadata": {},
     "output_type": "execute_result"
    }
   ],
   "source": [
    "tickers_hg_volume"
   ]
  },
  {
   "cell_type": "code",
   "execution_count": 44,
   "metadata": {},
   "outputs": [
    {
     "data": {
      "text/html": [
       "<div>\n",
       "<style scoped>\n",
       "    .dataframe tbody tr th:only-of-type {\n",
       "        vertical-align: middle;\n",
       "    }\n",
       "\n",
       "    .dataframe tbody tr th {\n",
       "        vertical-align: top;\n",
       "    }\n",
       "\n",
       "    .dataframe thead tr th {\n",
       "        text-align: left;\n",
       "    }\n",
       "</style>\n",
       "<table border=\"1\" class=\"dataframe\">\n",
       "  <thead>\n",
       "    <tr>\n",
       "      <th></th>\n",
       "      <th colspan=\"6\" halign=\"left\">USDT-USD</th>\n",
       "      <th colspan=\"4\" halign=\"left\">BTC-USD</th>\n",
       "      <th>...</th>\n",
       "      <th colspan=\"4\" halign=\"left\">ADA-USD</th>\n",
       "      <th colspan=\"6\" halign=\"left\">BNT-USD</th>\n",
       "    </tr>\n",
       "    <tr>\n",
       "      <th></th>\n",
       "      <th>Adj Close</th>\n",
       "      <th>Close</th>\n",
       "      <th>High</th>\n",
       "      <th>Low</th>\n",
       "      <th>Open</th>\n",
       "      <th>Volume</th>\n",
       "      <th>Adj Close</th>\n",
       "      <th>Close</th>\n",
       "      <th>High</th>\n",
       "      <th>Low</th>\n",
       "      <th>...</th>\n",
       "      <th>High</th>\n",
       "      <th>Low</th>\n",
       "      <th>Open</th>\n",
       "      <th>Volume</th>\n",
       "      <th>Adj Close</th>\n",
       "      <th>Close</th>\n",
       "      <th>High</th>\n",
       "      <th>Low</th>\n",
       "      <th>Open</th>\n",
       "      <th>Volume</th>\n",
       "    </tr>\n",
       "  </thead>\n",
       "  <tbody>\n",
       "    <tr>\n",
       "      <th>2020-04-07 00:00:00+00:00</th>\n",
       "      <td>0.998488</td>\n",
       "      <td>0.998488</td>\n",
       "      <td>1.000555</td>\n",
       "      <td>0.990544</td>\n",
       "      <td>0.993490</td>\n",
       "      <td>0.000000e+00</td>\n",
       "      <td>7366.915527</td>\n",
       "      <td>7366.915527</td>\n",
       "      <td>7407.448730</td>\n",
       "      <td>7268.242188</td>\n",
       "      <td>...</td>\n",
       "      <td>0.036678</td>\n",
       "      <td>0.035576</td>\n",
       "      <td>0.035681</td>\n",
       "      <td>0.0</td>\n",
       "      <td>0.198634</td>\n",
       "      <td>0.198634</td>\n",
       "      <td>0.200798</td>\n",
       "      <td>0.196712</td>\n",
       "      <td>0.196712</td>\n",
       "      <td>0.0</td>\n",
       "    </tr>\n",
       "    <tr>\n",
       "      <th>2020-04-07 01:00:00+00:00</th>\n",
       "      <td>0.999708</td>\n",
       "      <td>0.999708</td>\n",
       "      <td>1.000824</td>\n",
       "      <td>0.994457</td>\n",
       "      <td>0.998814</td>\n",
       "      <td>6.818161e+08</td>\n",
       "      <td>7355.732910</td>\n",
       "      <td>7355.732910</td>\n",
       "      <td>7383.069824</td>\n",
       "      <td>7350.611816</td>\n",
       "      <td>...</td>\n",
       "      <td>0.036497</td>\n",
       "      <td>0.036083</td>\n",
       "      <td>0.036118</td>\n",
       "      <td>1867280.0</td>\n",
       "      <td>0.197310</td>\n",
       "      <td>0.197310</td>\n",
       "      <td>0.198583</td>\n",
       "      <td>0.197102</td>\n",
       "      <td>0.198583</td>\n",
       "      <td>5230.0</td>\n",
       "    </tr>\n",
       "    <tr>\n",
       "      <th>2020-04-07 02:00:00+00:00</th>\n",
       "      <td>1.000362</td>\n",
       "      <td>1.000362</td>\n",
       "      <td>1.004532</td>\n",
       "      <td>0.997544</td>\n",
       "      <td>1.000190</td>\n",
       "      <td>1.158300e+09</td>\n",
       "      <td>7311.450195</td>\n",
       "      <td>7311.450195</td>\n",
       "      <td>7355.026367</td>\n",
       "      <td>7290.237793</td>\n",
       "      <td>...</td>\n",
       "      <td>0.036182</td>\n",
       "      <td>0.035433</td>\n",
       "      <td>0.036182</td>\n",
       "      <td>2287464.0</td>\n",
       "      <td>0.195936</td>\n",
       "      <td>0.195936</td>\n",
       "      <td>0.197029</td>\n",
       "      <td>0.195246</td>\n",
       "      <td>0.196872</td>\n",
       "      <td>49303.0</td>\n",
       "    </tr>\n",
       "    <tr>\n",
       "      <th>2020-04-07 03:00:00+00:00</th>\n",
       "      <td>0.999697</td>\n",
       "      <td>0.999697</td>\n",
       "      <td>1.002091</td>\n",
       "      <td>0.998613</td>\n",
       "      <td>1.000571</td>\n",
       "      <td>7.825736e+08</td>\n",
       "      <td>7317.592285</td>\n",
       "      <td>7317.592285</td>\n",
       "      <td>7317.592285</td>\n",
       "      <td>7280.316895</td>\n",
       "      <td>...</td>\n",
       "      <td>0.035941</td>\n",
       "      <td>0.035405</td>\n",
       "      <td>0.035751</td>\n",
       "      <td>1956104.0</td>\n",
       "      <td>0.196226</td>\n",
       "      <td>0.196226</td>\n",
       "      <td>0.196335</td>\n",
       "      <td>0.194484</td>\n",
       "      <td>0.196049</td>\n",
       "      <td>94744.0</td>\n",
       "    </tr>\n",
       "    <tr>\n",
       "      <th>2020-04-07 04:00:00+00:00</th>\n",
       "      <td>1.001208</td>\n",
       "      <td>1.001208</td>\n",
       "      <td>1.003130</td>\n",
       "      <td>0.998775</td>\n",
       "      <td>0.998775</td>\n",
       "      <td>0.000000e+00</td>\n",
       "      <td>7271.876953</td>\n",
       "      <td>7271.876953</td>\n",
       "      <td>7316.812500</td>\n",
       "      <td>7261.082031</td>\n",
       "      <td>...</td>\n",
       "      <td>0.036013</td>\n",
       "      <td>0.035715</td>\n",
       "      <td>0.035956</td>\n",
       "      <td>0.0</td>\n",
       "      <td>0.194846</td>\n",
       "      <td>0.194846</td>\n",
       "      <td>0.196651</td>\n",
       "      <td>0.194554</td>\n",
       "      <td>0.196163</td>\n",
       "      <td>0.0</td>\n",
       "    </tr>\n",
       "  </tbody>\n",
       "</table>\n",
       "<p>5 rows × 60 columns</p>\n",
       "</div>"
      ],
      "text/plain": [
       "                           USDT-USD                                          \\\n",
       "                          Adj Close     Close      High       Low      Open   \n",
       "2020-04-07 00:00:00+00:00  0.998488  0.998488  1.000555  0.990544  0.993490   \n",
       "2020-04-07 01:00:00+00:00  0.999708  0.999708  1.000824  0.994457  0.998814   \n",
       "2020-04-07 02:00:00+00:00  1.000362  1.000362  1.004532  0.997544  1.000190   \n",
       "2020-04-07 03:00:00+00:00  0.999697  0.999697  1.002091  0.998613  1.000571   \n",
       "2020-04-07 04:00:00+00:00  1.001208  1.001208  1.003130  0.998775  0.998775   \n",
       "\n",
       "                                             BTC-USD               \\\n",
       "                                 Volume    Adj Close        Close   \n",
       "2020-04-07 00:00:00+00:00  0.000000e+00  7366.915527  7366.915527   \n",
       "2020-04-07 01:00:00+00:00  6.818161e+08  7355.732910  7355.732910   \n",
       "2020-04-07 02:00:00+00:00  1.158300e+09  7311.450195  7311.450195   \n",
       "2020-04-07 03:00:00+00:00  7.825736e+08  7317.592285  7317.592285   \n",
       "2020-04-07 04:00:00+00:00  0.000000e+00  7271.876953  7271.876953   \n",
       "\n",
       "                                                     ...   ADA-USD            \\\n",
       "                                  High          Low  ...      High       Low   \n",
       "2020-04-07 00:00:00+00:00  7407.448730  7268.242188  ...  0.036678  0.035576   \n",
       "2020-04-07 01:00:00+00:00  7383.069824  7350.611816  ...  0.036497  0.036083   \n",
       "2020-04-07 02:00:00+00:00  7355.026367  7290.237793  ...  0.036182  0.035433   \n",
       "2020-04-07 03:00:00+00:00  7317.592285  7280.316895  ...  0.035941  0.035405   \n",
       "2020-04-07 04:00:00+00:00  7316.812500  7261.082031  ...  0.036013  0.035715   \n",
       "\n",
       "                                                 BNT-USD                      \\\n",
       "                               Open     Volume Adj Close     Close      High   \n",
       "2020-04-07 00:00:00+00:00  0.035681        0.0  0.198634  0.198634  0.200798   \n",
       "2020-04-07 01:00:00+00:00  0.036118  1867280.0  0.197310  0.197310  0.198583   \n",
       "2020-04-07 02:00:00+00:00  0.036182  2287464.0  0.195936  0.195936  0.197029   \n",
       "2020-04-07 03:00:00+00:00  0.035751  1956104.0  0.196226  0.196226  0.196335   \n",
       "2020-04-07 04:00:00+00:00  0.035956        0.0  0.194846  0.194846  0.196651   \n",
       "\n",
       "                                                        \n",
       "                                Low      Open   Volume  \n",
       "2020-04-07 00:00:00+00:00  0.196712  0.196712      0.0  \n",
       "2020-04-07 01:00:00+00:00  0.197102  0.198583   5230.0  \n",
       "2020-04-07 02:00:00+00:00  0.195246  0.196872  49303.0  \n",
       "2020-04-07 03:00:00+00:00  0.194484  0.196049  94744.0  \n",
       "2020-04-07 04:00:00+00:00  0.194554  0.196163      0.0  \n",
       "\n",
       "[5 rows x 60 columns]"
      ]
     },
     "metadata": {},
     "output_type": "display_data"
    },
    {
     "data": {
      "text/plain": [
       "(17200, 60)"
      ]
     },
     "metadata": {},
     "output_type": "display_data"
    }
   ],
   "source": [
    "display(df.head())\n",
    "display(df.shape)"
   ]
  },
  {
   "cell_type": "code",
   "execution_count": 47,
   "metadata": {},
   "outputs": [
    {
     "data": {
      "text/plain": [
       "Timestamp('2020-04-07 00:00:00+0000', tz='UTC')"
      ]
     },
     "metadata": {},
     "output_type": "display_data"
    },
    {
     "data": {
      "text/plain": [
       "Timestamp('2022-04-07 00:34:00+0000', tz='UTC')"
      ]
     },
     "metadata": {},
     "output_type": "display_data"
    }
   ],
   "source": [
    "display(df.index.min())\n",
    "display(df.index.max())"
   ]
  },
  {
   "cell_type": "code",
   "execution_count": 48,
   "metadata": {},
   "outputs": [
    {
     "name": "stdout",
     "output_type": "stream",
     "text": [
      "<class 'pandas.core.frame.DataFrame'>\n",
      "DatetimeIndex: 17200 entries, 2020-04-07 00:00:00+00:00 to 2022-04-07 00:34:00+00:00\n",
      "Data columns (total 60 columns):\n",
      " #   Column                 Non-Null Count  Dtype  \n",
      "---  ------                 --------------  -----  \n",
      " 0   (USDT-USD, Adj Close)  17200 non-null  float64\n",
      " 1   (USDT-USD, Close)      17200 non-null  float64\n",
      " 2   (USDT-USD, High)       17200 non-null  float64\n",
      " 3   (USDT-USD, Low)        17200 non-null  float64\n",
      " 4   (USDT-USD, Open)       17200 non-null  float64\n",
      " 5   (USDT-USD, Volume)     17200 non-null  float64\n",
      " 6   (BTC-USD, Adj Close)   17200 non-null  float64\n",
      " 7   (BTC-USD, Close)       17200 non-null  float64\n",
      " 8   (BTC-USD, High)        17200 non-null  float64\n",
      " 9   (BTC-USD, Low)         17200 non-null  float64\n",
      " 10  (BTC-USD, Open)        17200 non-null  float64\n",
      " 11  (BTC-USD, Volume)      17200 non-null  float64\n",
      " 12  (XRP-USD, Adj Close)   17200 non-null  float64\n",
      " 13  (XRP-USD, Close)       17200 non-null  float64\n",
      " 14  (XRP-USD, High)        17200 non-null  float64\n",
      " 15  (XRP-USD, Low)         17200 non-null  float64\n",
      " 16  (XRP-USD, Open)        17200 non-null  float64\n",
      " 17  (XRP-USD, Volume)      17200 non-null  float64\n",
      " 18  (TRX-USD, Adj Close)   17200 non-null  float64\n",
      " 19  (TRX-USD, Close)       17200 non-null  float64\n",
      " 20  (TRX-USD, High)        17200 non-null  float64\n",
      " 21  (TRX-USD, Low)         17200 non-null  float64\n",
      " 22  (TRX-USD, Open)        17200 non-null  float64\n",
      " 23  (TRX-USD, Volume)      17200 non-null  float64\n",
      " 24  (ETH-USD, Adj Close)   17200 non-null  float64\n",
      " 25  (ETH-USD, Close)       17200 non-null  float64\n",
      " 26  (ETH-USD, High)        17200 non-null  float64\n",
      " 27  (ETH-USD, Low)         17200 non-null  float64\n",
      " 28  (ETH-USD, Open)        17200 non-null  float64\n",
      " 29  (ETH-USD, Volume)      17200 non-null  float64\n",
      " 30  (ETC-USD, Adj Close)   17200 non-null  float64\n",
      " 31  (ETC-USD, Close)       17200 non-null  float64\n",
      " 32  (ETC-USD, High)        17200 non-null  float64\n",
      " 33  (ETC-USD, Low)         17200 non-null  float64\n",
      " 34  (ETC-USD, Open)        17200 non-null  float64\n",
      " 35  (ETC-USD, Volume)      17200 non-null  float64\n",
      " 36  (BCH-USD, Adj Close)   17200 non-null  float64\n",
      " 37  (BCH-USD, Close)       17200 non-null  float64\n",
      " 38  (BCH-USD, High)        17200 non-null  float64\n",
      " 39  (BCH-USD, Low)         17200 non-null  float64\n",
      " 40  (BCH-USD, Open)        17200 non-null  float64\n",
      " 41  (BCH-USD, Volume)      17200 non-null  float64\n",
      " 42  (EOS-USD, Adj Close)   17200 non-null  float64\n",
      " 43  (EOS-USD, Close)       17200 non-null  float64\n",
      " 44  (EOS-USD, High)        17200 non-null  float64\n",
      " 45  (EOS-USD, Low)         17200 non-null  float64\n",
      " 46  (EOS-USD, Open)        17200 non-null  float64\n",
      " 47  (EOS-USD, Volume)      17200 non-null  float64\n",
      " 48  (ADA-USD, Adj Close)   17200 non-null  float64\n",
      " 49  (ADA-USD, Close)       17200 non-null  float64\n",
      " 50  (ADA-USD, High)        17200 non-null  float64\n",
      " 51  (ADA-USD, Low)         17200 non-null  float64\n",
      " 52  (ADA-USD, Open)        17200 non-null  float64\n",
      " 53  (ADA-USD, Volume)      17200 non-null  float64\n",
      " 54  (BNT-USD, Adj Close)   17200 non-null  float64\n",
      " 55  (BNT-USD, Close)       17200 non-null  float64\n",
      " 56  (BNT-USD, High)        17200 non-null  float64\n",
      " 57  (BNT-USD, Low)         17200 non-null  float64\n",
      " 58  (BNT-USD, Open)        17200 non-null  float64\n",
      " 59  (BNT-USD, Volume)      17200 non-null  float64\n",
      "dtypes: float64(60)\n",
      "memory usage: 8.0 MB\n"
     ]
    }
   ],
   "source": [
    "df.info()"
   ]
  },
  {
   "cell_type": "markdown",
   "metadata": {},
   "source": [
    "### Save data"
   ]
  },
  {
   "cell_type": "code",
   "execution_count": 58,
   "metadata": {},
   "outputs": [],
   "source": [
    "filepath = Path('../csv/crypto_market_data.csv')"
   ]
  },
  {
   "cell_type": "code",
   "execution_count": 59,
   "metadata": {},
   "outputs": [],
   "source": [
    "df.to_csv(filepath)"
   ]
  },
  {
   "cell_type": "code",
   "execution_count": null,
   "metadata": {},
   "outputs": [],
   "source": []
  }
 ],
 "metadata": {
  "kernelspec": {
   "display_name": "Python 3",
   "language": "python",
   "name": "python3"
  },
  "language_info": {
   "codemirror_mode": {
    "name": "ipython",
    "version": 3
   },
   "file_extension": ".py",
   "mimetype": "text/x-python",
   "name": "python",
   "nbconvert_exporter": "python",
   "pygments_lexer": "ipython3",
   "version": "3.7.4"
  }
 },
 "nbformat": 4,
 "nbformat_minor": 2
}
