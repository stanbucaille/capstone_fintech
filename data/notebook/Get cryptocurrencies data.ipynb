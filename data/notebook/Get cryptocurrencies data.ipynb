{
 "cells": [
  {
   "cell_type": "markdown",
   "metadata": {},
   "source": [
    "# Get cryptocurrencies data "
   ]
  },
  {
   "cell_type": "code",
   "execution_count": 1,
   "metadata": {},
   "outputs": [],
   "source": [
    "from yahooquery import Screener\n",
    "import yfinance as yf\n",
    "from pathlib import Path "
   ]
  },
  {
   "cell_type": "markdown",
   "metadata": {},
   "source": [
    "### Get data"
   ]
  },
  {
   "cell_type": "code",
   "execution_count": 2,
   "metadata": {},
   "outputs": [
    {
     "name": "stdout",
     "output_type": "stream",
     "text": [
      "# of cryptocurrencies: 250\n"
     ]
    }
   ],
   "source": [
    "s = Screener()\n",
    "data = s.get_screeners(['all_cryptocurrencies_us'], count=250)\n",
    "\n",
    "dicts = data['all_cryptocurrencies_us']['quotes']\n",
    "symbols = [d['symbol'] for d in dicts]\n",
    "\n",
    "print(f'# of cryptocurrencies: {len(symbols)}')"
   ]
  },
  {
   "cell_type": "code",
   "execution_count": 3,
   "metadata": {},
   "outputs": [
    {
     "name": "stdout",
     "output_type": "stream",
     "text": [
      "[*********************100%***********************]  250 of 250 completed\n"
     ]
    }
   ],
   "source": [
    "df_raw = yf.download(tickers = symbols, period = \"2y\", interval = \"1h\")"
   ]
  },
  {
   "cell_type": "markdown",
   "metadata": {},
   "source": [
    "### Data engineering"
   ]
  },
  {
   "cell_type": "code",
   "execution_count": 4,
   "metadata": {},
   "outputs": [],
   "source": [
    "# Remove nan\n",
    "df = df_raw.ffill(limit=10).dropna(axis=1)\n",
    "\n",
    "# Remove duplicated column\n",
    "df = df.drop(columns=['Adj Close'])\n",
    "\n",
    "# Select top 10 crypto - highest volume\n",
    "tickers_hg_volume = df.Volume.mean().nlargest(n=10).index"
   ]
  },
  {
   "cell_type": "code",
   "execution_count": 5,
   "metadata": {},
   "outputs": [],
   "source": [
    "# Reorder columns names\n",
    "df = df.T.swaplevel(0, 1).T\n",
    "df = df[tickers_hg_volume]"
   ]
  },
  {
   "cell_type": "code",
   "execution_count": 6,
   "metadata": {},
   "outputs": [
    {
     "data": {
      "text/html": [
       "<div>\n",
       "<style scoped>\n",
       "    .dataframe tbody tr th:only-of-type {\n",
       "        vertical-align: middle;\n",
       "    }\n",
       "\n",
       "    .dataframe tbody tr th {\n",
       "        vertical-align: top;\n",
       "    }\n",
       "\n",
       "    .dataframe thead tr th {\n",
       "        text-align: left;\n",
       "    }\n",
       "</style>\n",
       "<table border=\"1\" class=\"dataframe\">\n",
       "  <thead>\n",
       "    <tr>\n",
       "      <th></th>\n",
       "      <th colspan=\"5\" halign=\"left\">USDT-USD</th>\n",
       "      <th colspan=\"5\" halign=\"left\">BTC-USD</th>\n",
       "      <th>...</th>\n",
       "      <th colspan=\"5\" halign=\"left\">ADA-USD</th>\n",
       "      <th colspan=\"5\" halign=\"left\">BNT-USD</th>\n",
       "    </tr>\n",
       "    <tr>\n",
       "      <th></th>\n",
       "      <th>Close</th>\n",
       "      <th>High</th>\n",
       "      <th>Low</th>\n",
       "      <th>Open</th>\n",
       "      <th>Volume</th>\n",
       "      <th>Close</th>\n",
       "      <th>High</th>\n",
       "      <th>Low</th>\n",
       "      <th>Open</th>\n",
       "      <th>Volume</th>\n",
       "      <th>...</th>\n",
       "      <th>Close</th>\n",
       "      <th>High</th>\n",
       "      <th>Low</th>\n",
       "      <th>Open</th>\n",
       "      <th>Volume</th>\n",
       "      <th>Close</th>\n",
       "      <th>High</th>\n",
       "      <th>Low</th>\n",
       "      <th>Open</th>\n",
       "      <th>Volume</th>\n",
       "    </tr>\n",
       "  </thead>\n",
       "  <tbody>\n",
       "    <tr>\n",
       "      <th>2020-04-07 09:00:00+00:00</th>\n",
       "      <td>1.000498</td>\n",
       "      <td>1.002541</td>\n",
       "      <td>1.000122</td>\n",
       "      <td>1.001162</td>\n",
       "      <td>0.0</td>\n",
       "      <td>7376.598145</td>\n",
       "      <td>7376.598145</td>\n",
       "      <td>7340.555176</td>\n",
       "      <td>7354.051270</td>\n",
       "      <td>0.0</td>\n",
       "      <td>...</td>\n",
       "      <td>0.036377</td>\n",
       "      <td>0.036377</td>\n",
       "      <td>0.036196</td>\n",
       "      <td>0.036260</td>\n",
       "      <td>0.0</td>\n",
       "      <td>0.198263</td>\n",
       "      <td>0.198263</td>\n",
       "      <td>0.197084</td>\n",
       "      <td>0.197758</td>\n",
       "      <td>0.0</td>\n",
       "    </tr>\n",
       "    <tr>\n",
       "      <th>2020-04-07 10:00:00+00:00</th>\n",
       "      <td>1.001372</td>\n",
       "      <td>1.003510</td>\n",
       "      <td>0.999029</td>\n",
       "      <td>1.000605</td>\n",
       "      <td>574005248.0</td>\n",
       "      <td>7420.056152</td>\n",
       "      <td>7427.939453</td>\n",
       "      <td>7360.825684</td>\n",
       "      <td>7377.067871</td>\n",
       "      <td>268472320.0</td>\n",
       "      <td>...</td>\n",
       "      <td>0.036766</td>\n",
       "      <td>0.036869</td>\n",
       "      <td>0.036326</td>\n",
       "      <td>0.036408</td>\n",
       "      <td>113320.0</td>\n",
       "      <td>0.199927</td>\n",
       "      <td>0.200089</td>\n",
       "      <td>0.198244</td>\n",
       "      <td>0.198244</td>\n",
       "      <td>64615.0</td>\n",
       "    </tr>\n",
       "    <tr>\n",
       "      <th>2020-04-07 11:00:00+00:00</th>\n",
       "      <td>1.001356</td>\n",
       "      <td>1.003241</td>\n",
       "      <td>0.999101</td>\n",
       "      <td>1.001339</td>\n",
       "      <td>35094528.0</td>\n",
       "      <td>7370.503418</td>\n",
       "      <td>7419.238770</td>\n",
       "      <td>7370.503418</td>\n",
       "      <td>7419.238770</td>\n",
       "      <td>0.0</td>\n",
       "      <td>...</td>\n",
       "      <td>0.036246</td>\n",
       "      <td>0.036799</td>\n",
       "      <td>0.036246</td>\n",
       "      <td>0.036799</td>\n",
       "      <td>0.0</td>\n",
       "      <td>0.197452</td>\n",
       "      <td>0.199911</td>\n",
       "      <td>0.197452</td>\n",
       "      <td>0.199911</td>\n",
       "      <td>0.0</td>\n",
       "    </tr>\n",
       "  </tbody>\n",
       "</table>\n",
       "<p>3 rows × 50 columns</p>\n",
       "</div>"
      ],
      "text/plain": [
       "                           USDT-USD                                \\\n",
       "                              Close      High       Low      Open   \n",
       "2020-04-07 09:00:00+00:00  1.000498  1.002541  1.000122  1.001162   \n",
       "2020-04-07 10:00:00+00:00  1.001372  1.003510  0.999029  1.000605   \n",
       "2020-04-07 11:00:00+00:00  1.001356  1.003241  0.999101  1.001339   \n",
       "\n",
       "                                            BTC-USD                            \\\n",
       "                                Volume        Close         High          Low   \n",
       "2020-04-07 09:00:00+00:00          0.0  7376.598145  7376.598145  7340.555176   \n",
       "2020-04-07 10:00:00+00:00  574005248.0  7420.056152  7427.939453  7360.825684   \n",
       "2020-04-07 11:00:00+00:00   35094528.0  7370.503418  7419.238770  7370.503418   \n",
       "\n",
       "                                                     ...   ADA-USD            \\\n",
       "                                  Open       Volume  ...     Close      High   \n",
       "2020-04-07 09:00:00+00:00  7354.051270          0.0  ...  0.036377  0.036377   \n",
       "2020-04-07 10:00:00+00:00  7377.067871  268472320.0  ...  0.036766  0.036869   \n",
       "2020-04-07 11:00:00+00:00  7419.238770          0.0  ...  0.036246  0.036799   \n",
       "\n",
       "                                                          BNT-USD            \\\n",
       "                                Low      Open    Volume     Close      High   \n",
       "2020-04-07 09:00:00+00:00  0.036196  0.036260       0.0  0.198263  0.198263   \n",
       "2020-04-07 10:00:00+00:00  0.036326  0.036408  113320.0  0.199927  0.200089   \n",
       "2020-04-07 11:00:00+00:00  0.036246  0.036799       0.0  0.197452  0.199911   \n",
       "\n",
       "                                                        \n",
       "                                Low      Open   Volume  \n",
       "2020-04-07 09:00:00+00:00  0.197084  0.197758      0.0  \n",
       "2020-04-07 10:00:00+00:00  0.198244  0.198244  64615.0  \n",
       "2020-04-07 11:00:00+00:00  0.197452  0.199911      0.0  \n",
       "\n",
       "[3 rows x 50 columns]"
      ]
     },
     "execution_count": 6,
     "metadata": {},
     "output_type": "execute_result"
    }
   ],
   "source": [
    "df.head(3)"
   ]
  },
  {
   "cell_type": "markdown",
   "metadata": {},
   "source": [
    "### Some info on the dataset"
   ]
  },
  {
   "cell_type": "code",
   "execution_count": 7,
   "metadata": {},
   "outputs": [
    {
     "data": {
      "text/plain": [
       "Index(['USDT-USD', 'BTC-USD', 'XRP-USD', 'TRX-USD', 'ETH-USD', 'ETC-USD',\n",
       "       'BCH-USD', 'EOS-USD', 'ADA-USD', 'BNT-USD'],\n",
       "      dtype='object')"
      ]
     },
     "execution_count": 7,
     "metadata": {},
     "output_type": "execute_result"
    }
   ],
   "source": [
    "tickers_hg_volume"
   ]
  },
  {
   "cell_type": "code",
   "execution_count": 8,
   "metadata": {},
   "outputs": [
    {
     "data": {
      "text/html": [
       "<div>\n",
       "<style scoped>\n",
       "    .dataframe tbody tr th:only-of-type {\n",
       "        vertical-align: middle;\n",
       "    }\n",
       "\n",
       "    .dataframe tbody tr th {\n",
       "        vertical-align: top;\n",
       "    }\n",
       "\n",
       "    .dataframe thead tr th {\n",
       "        text-align: left;\n",
       "    }\n",
       "</style>\n",
       "<table border=\"1\" class=\"dataframe\">\n",
       "  <thead>\n",
       "    <tr>\n",
       "      <th></th>\n",
       "      <th colspan=\"5\" halign=\"left\">USDT-USD</th>\n",
       "      <th colspan=\"5\" halign=\"left\">BTC-USD</th>\n",
       "      <th>...</th>\n",
       "      <th colspan=\"5\" halign=\"left\">ADA-USD</th>\n",
       "      <th colspan=\"5\" halign=\"left\">BNT-USD</th>\n",
       "    </tr>\n",
       "    <tr>\n",
       "      <th></th>\n",
       "      <th>Close</th>\n",
       "      <th>High</th>\n",
       "      <th>Low</th>\n",
       "      <th>Open</th>\n",
       "      <th>Volume</th>\n",
       "      <th>Close</th>\n",
       "      <th>High</th>\n",
       "      <th>Low</th>\n",
       "      <th>Open</th>\n",
       "      <th>Volume</th>\n",
       "      <th>...</th>\n",
       "      <th>Close</th>\n",
       "      <th>High</th>\n",
       "      <th>Low</th>\n",
       "      <th>Open</th>\n",
       "      <th>Volume</th>\n",
       "      <th>Close</th>\n",
       "      <th>High</th>\n",
       "      <th>Low</th>\n",
       "      <th>Open</th>\n",
       "      <th>Volume</th>\n",
       "    </tr>\n",
       "  </thead>\n",
       "  <tbody>\n",
       "    <tr>\n",
       "      <th>2020-04-07 09:00:00+00:00</th>\n",
       "      <td>1.000498</td>\n",
       "      <td>1.002541</td>\n",
       "      <td>1.000122</td>\n",
       "      <td>1.001162</td>\n",
       "      <td>0.0</td>\n",
       "      <td>7376.598145</td>\n",
       "      <td>7376.598145</td>\n",
       "      <td>7340.555176</td>\n",
       "      <td>7354.051270</td>\n",
       "      <td>0.0</td>\n",
       "      <td>...</td>\n",
       "      <td>0.036377</td>\n",
       "      <td>0.036377</td>\n",
       "      <td>0.036196</td>\n",
       "      <td>0.036260</td>\n",
       "      <td>0.0</td>\n",
       "      <td>0.198263</td>\n",
       "      <td>0.198263</td>\n",
       "      <td>0.197084</td>\n",
       "      <td>0.197758</td>\n",
       "      <td>0.0</td>\n",
       "    </tr>\n",
       "    <tr>\n",
       "      <th>2020-04-07 10:00:00+00:00</th>\n",
       "      <td>1.001372</td>\n",
       "      <td>1.003510</td>\n",
       "      <td>0.999029</td>\n",
       "      <td>1.000605</td>\n",
       "      <td>574005248.0</td>\n",
       "      <td>7420.056152</td>\n",
       "      <td>7427.939453</td>\n",
       "      <td>7360.825684</td>\n",
       "      <td>7377.067871</td>\n",
       "      <td>268472320.0</td>\n",
       "      <td>...</td>\n",
       "      <td>0.036766</td>\n",
       "      <td>0.036869</td>\n",
       "      <td>0.036326</td>\n",
       "      <td>0.036408</td>\n",
       "      <td>113320.0</td>\n",
       "      <td>0.199927</td>\n",
       "      <td>0.200089</td>\n",
       "      <td>0.198244</td>\n",
       "      <td>0.198244</td>\n",
       "      <td>64615.0</td>\n",
       "    </tr>\n",
       "    <tr>\n",
       "      <th>2020-04-07 11:00:00+00:00</th>\n",
       "      <td>1.001356</td>\n",
       "      <td>1.003241</td>\n",
       "      <td>0.999101</td>\n",
       "      <td>1.001339</td>\n",
       "      <td>35094528.0</td>\n",
       "      <td>7370.503418</td>\n",
       "      <td>7419.238770</td>\n",
       "      <td>7370.503418</td>\n",
       "      <td>7419.238770</td>\n",
       "      <td>0.0</td>\n",
       "      <td>...</td>\n",
       "      <td>0.036246</td>\n",
       "      <td>0.036799</td>\n",
       "      <td>0.036246</td>\n",
       "      <td>0.036799</td>\n",
       "      <td>0.0</td>\n",
       "      <td>0.197452</td>\n",
       "      <td>0.199911</td>\n",
       "      <td>0.197452</td>\n",
       "      <td>0.199911</td>\n",
       "      <td>0.0</td>\n",
       "    </tr>\n",
       "    <tr>\n",
       "      <th>2020-04-07 12:00:00+00:00</th>\n",
       "      <td>1.003253</td>\n",
       "      <td>1.006415</td>\n",
       "      <td>0.994773</td>\n",
       "      <td>1.000730</td>\n",
       "      <td>801333248.0</td>\n",
       "      <td>7349.172363</td>\n",
       "      <td>7399.154785</td>\n",
       "      <td>7345.446777</td>\n",
       "      <td>7376.987305</td>\n",
       "      <td>632246272.0</td>\n",
       "      <td>...</td>\n",
       "      <td>0.035958</td>\n",
       "      <td>0.036601</td>\n",
       "      <td>0.035958</td>\n",
       "      <td>0.036336</td>\n",
       "      <td>0.0</td>\n",
       "      <td>0.197980</td>\n",
       "      <td>0.199121</td>\n",
       "      <td>0.197759</td>\n",
       "      <td>0.198580</td>\n",
       "      <td>0.0</td>\n",
       "    </tr>\n",
       "    <tr>\n",
       "      <th>2020-04-07 13:00:00+00:00</th>\n",
       "      <td>1.002527</td>\n",
       "      <td>1.003258</td>\n",
       "      <td>0.999762</td>\n",
       "      <td>1.003130</td>\n",
       "      <td>0.0</td>\n",
       "      <td>7358.981445</td>\n",
       "      <td>7375.606445</td>\n",
       "      <td>7345.770996</td>\n",
       "      <td>7346.891602</td>\n",
       "      <td>0.0</td>\n",
       "      <td>...</td>\n",
       "      <td>0.036212</td>\n",
       "      <td>0.036239</td>\n",
       "      <td>0.035875</td>\n",
       "      <td>0.035934</td>\n",
       "      <td>0.0</td>\n",
       "      <td>0.198289</td>\n",
       "      <td>0.199271</td>\n",
       "      <td>0.197580</td>\n",
       "      <td>0.198028</td>\n",
       "      <td>0.0</td>\n",
       "    </tr>\n",
       "  </tbody>\n",
       "</table>\n",
       "<p>5 rows × 50 columns</p>\n",
       "</div>"
      ],
      "text/plain": [
       "                           USDT-USD                                \\\n",
       "                              Close      High       Low      Open   \n",
       "2020-04-07 09:00:00+00:00  1.000498  1.002541  1.000122  1.001162   \n",
       "2020-04-07 10:00:00+00:00  1.001372  1.003510  0.999029  1.000605   \n",
       "2020-04-07 11:00:00+00:00  1.001356  1.003241  0.999101  1.001339   \n",
       "2020-04-07 12:00:00+00:00  1.003253  1.006415  0.994773  1.000730   \n",
       "2020-04-07 13:00:00+00:00  1.002527  1.003258  0.999762  1.003130   \n",
       "\n",
       "                                            BTC-USD                            \\\n",
       "                                Volume        Close         High          Low   \n",
       "2020-04-07 09:00:00+00:00          0.0  7376.598145  7376.598145  7340.555176   \n",
       "2020-04-07 10:00:00+00:00  574005248.0  7420.056152  7427.939453  7360.825684   \n",
       "2020-04-07 11:00:00+00:00   35094528.0  7370.503418  7419.238770  7370.503418   \n",
       "2020-04-07 12:00:00+00:00  801333248.0  7349.172363  7399.154785  7345.446777   \n",
       "2020-04-07 13:00:00+00:00          0.0  7358.981445  7375.606445  7345.770996   \n",
       "\n",
       "                                                     ...   ADA-USD            \\\n",
       "                                  Open       Volume  ...     Close      High   \n",
       "2020-04-07 09:00:00+00:00  7354.051270          0.0  ...  0.036377  0.036377   \n",
       "2020-04-07 10:00:00+00:00  7377.067871  268472320.0  ...  0.036766  0.036869   \n",
       "2020-04-07 11:00:00+00:00  7419.238770          0.0  ...  0.036246  0.036799   \n",
       "2020-04-07 12:00:00+00:00  7376.987305  632246272.0  ...  0.035958  0.036601   \n",
       "2020-04-07 13:00:00+00:00  7346.891602          0.0  ...  0.036212  0.036239   \n",
       "\n",
       "                                                          BNT-USD            \\\n",
       "                                Low      Open    Volume     Close      High   \n",
       "2020-04-07 09:00:00+00:00  0.036196  0.036260       0.0  0.198263  0.198263   \n",
       "2020-04-07 10:00:00+00:00  0.036326  0.036408  113320.0  0.199927  0.200089   \n",
       "2020-04-07 11:00:00+00:00  0.036246  0.036799       0.0  0.197452  0.199911   \n",
       "2020-04-07 12:00:00+00:00  0.035958  0.036336       0.0  0.197980  0.199121   \n",
       "2020-04-07 13:00:00+00:00  0.035875  0.035934       0.0  0.198289  0.199271   \n",
       "\n",
       "                                                        \n",
       "                                Low      Open   Volume  \n",
       "2020-04-07 09:00:00+00:00  0.197084  0.197758      0.0  \n",
       "2020-04-07 10:00:00+00:00  0.198244  0.198244  64615.0  \n",
       "2020-04-07 11:00:00+00:00  0.197452  0.199911      0.0  \n",
       "2020-04-07 12:00:00+00:00  0.197759  0.198580      0.0  \n",
       "2020-04-07 13:00:00+00:00  0.197580  0.198028      0.0  \n",
       "\n",
       "[5 rows x 50 columns]"
      ]
     },
     "metadata": {},
     "output_type": "display_data"
    },
    {
     "data": {
      "text/plain": [
       "(17205, 50)"
      ]
     },
     "metadata": {},
     "output_type": "display_data"
    }
   ],
   "source": [
    "display(df.head())\n",
    "display(df.shape)"
   ]
  },
  {
   "cell_type": "code",
   "execution_count": 9,
   "metadata": {},
   "outputs": [
    {
     "data": {
      "text/plain": [
       "Timestamp('2020-04-07 09:00:00+0000', tz='UTC')"
      ]
     },
     "metadata": {},
     "output_type": "display_data"
    },
    {
     "data": {
      "text/plain": [
       "Timestamp('2022-04-07 09:06:00+0000', tz='UTC')"
      ]
     },
     "metadata": {},
     "output_type": "display_data"
    }
   ],
   "source": [
    "display(df.index.min())\n",
    "display(df.index.max())"
   ]
  },
  {
   "cell_type": "code",
   "execution_count": 10,
   "metadata": {},
   "outputs": [
    {
     "name": "stdout",
     "output_type": "stream",
     "text": [
      "<class 'pandas.core.frame.DataFrame'>\n",
      "DatetimeIndex: 17205 entries, 2020-04-07 09:00:00+00:00 to 2022-04-07 09:06:00+00:00\n",
      "Data columns (total 50 columns):\n",
      " #   Column              Non-Null Count  Dtype  \n",
      "---  ------              --------------  -----  \n",
      " 0   (USDT-USD, Close)   17205 non-null  float64\n",
      " 1   (USDT-USD, High)    17205 non-null  float64\n",
      " 2   (USDT-USD, Low)     17205 non-null  float64\n",
      " 3   (USDT-USD, Open)    17205 non-null  float64\n",
      " 4   (USDT-USD, Volume)  17205 non-null  float64\n",
      " 5   (BTC-USD, Close)    17205 non-null  float64\n",
      " 6   (BTC-USD, High)     17205 non-null  float64\n",
      " 7   (BTC-USD, Low)      17205 non-null  float64\n",
      " 8   (BTC-USD, Open)     17205 non-null  float64\n",
      " 9   (BTC-USD, Volume)   17205 non-null  float64\n",
      " 10  (XRP-USD, Close)    17205 non-null  float64\n",
      " 11  (XRP-USD, High)     17205 non-null  float64\n",
      " 12  (XRP-USD, Low)      17205 non-null  float64\n",
      " 13  (XRP-USD, Open)     17205 non-null  float64\n",
      " 14  (XRP-USD, Volume)   17205 non-null  float64\n",
      " 15  (TRX-USD, Close)    17205 non-null  float64\n",
      " 16  (TRX-USD, High)     17205 non-null  float64\n",
      " 17  (TRX-USD, Low)      17205 non-null  float64\n",
      " 18  (TRX-USD, Open)     17205 non-null  float64\n",
      " 19  (TRX-USD, Volume)   17205 non-null  float64\n",
      " 20  (ETH-USD, Close)    17205 non-null  float64\n",
      " 21  (ETH-USD, High)     17205 non-null  float64\n",
      " 22  (ETH-USD, Low)      17205 non-null  float64\n",
      " 23  (ETH-USD, Open)     17205 non-null  float64\n",
      " 24  (ETH-USD, Volume)   17205 non-null  float64\n",
      " 25  (ETC-USD, Close)    17205 non-null  float64\n",
      " 26  (ETC-USD, High)     17205 non-null  float64\n",
      " 27  (ETC-USD, Low)      17205 non-null  float64\n",
      " 28  (ETC-USD, Open)     17205 non-null  float64\n",
      " 29  (ETC-USD, Volume)   17205 non-null  float64\n",
      " 30  (BCH-USD, Close)    17205 non-null  float64\n",
      " 31  (BCH-USD, High)     17205 non-null  float64\n",
      " 32  (BCH-USD, Low)      17205 non-null  float64\n",
      " 33  (BCH-USD, Open)     17205 non-null  float64\n",
      " 34  (BCH-USD, Volume)   17205 non-null  float64\n",
      " 35  (EOS-USD, Close)    17205 non-null  float64\n",
      " 36  (EOS-USD, High)     17205 non-null  float64\n",
      " 37  (EOS-USD, Low)      17205 non-null  float64\n",
      " 38  (EOS-USD, Open)     17205 non-null  float64\n",
      " 39  (EOS-USD, Volume)   17205 non-null  float64\n",
      " 40  (ADA-USD, Close)    17205 non-null  float64\n",
      " 41  (ADA-USD, High)     17205 non-null  float64\n",
      " 42  (ADA-USD, Low)      17205 non-null  float64\n",
      " 43  (ADA-USD, Open)     17205 non-null  float64\n",
      " 44  (ADA-USD, Volume)   17205 non-null  float64\n",
      " 45  (BNT-USD, Close)    17205 non-null  float64\n",
      " 46  (BNT-USD, High)     17205 non-null  float64\n",
      " 47  (BNT-USD, Low)      17205 non-null  float64\n",
      " 48  (BNT-USD, Open)     17205 non-null  float64\n",
      " 49  (BNT-USD, Volume)   17205 non-null  float64\n",
      "dtypes: float64(50)\n",
      "memory usage: 6.7 MB\n"
     ]
    }
   ],
   "source": [
    "df.info()"
   ]
  },
  {
   "cell_type": "markdown",
   "metadata": {},
   "source": [
    "### Save data"
   ]
  },
  {
   "cell_type": "code",
   "execution_count": 11,
   "metadata": {},
   "outputs": [],
   "source": [
    "filepath = Path('../csv/crypto_market_data.csv')"
   ]
  },
  {
   "cell_type": "code",
   "execution_count": 12,
   "metadata": {},
   "outputs": [],
   "source": [
    "df.to_csv(filepath)"
   ]
  }
 ],
 "metadata": {
  "kernelspec": {
   "display_name": "Python 3",
   "language": "python",
   "name": "python3"
  },
  "language_info": {
   "codemirror_mode": {
    "name": "ipython",
    "version": 3
   },
   "file_extension": ".py",
   "mimetype": "text/x-python",
   "name": "python",
   "nbconvert_exporter": "python",
   "pygments_lexer": "ipython3",
   "version": "3.8.8"
  }
 },
 "nbformat": 4,
 "nbformat_minor": 2
}
