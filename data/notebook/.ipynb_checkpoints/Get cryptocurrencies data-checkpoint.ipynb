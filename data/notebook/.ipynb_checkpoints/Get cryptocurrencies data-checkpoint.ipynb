{
 "cells": [
  {
   "cell_type": "markdown",
   "metadata": {},
   "source": [
    "# Get cryptocurrencies data "
   ]
  },
  {
   "cell_type": "code",
   "execution_count": 1,
   "metadata": {},
   "outputs": [],
   "source": [
    "from yahooquery import Screener\n",
    "import yfinance as yf"
   ]
  },
  {
   "cell_type": "markdown",
   "metadata": {},
   "source": [
    "### Get data"
   ]
  },
  {
   "cell_type": "code",
   "execution_count": 2,
   "metadata": {},
   "outputs": [
    {
     "name": "stdout",
     "output_type": "stream",
     "text": [
      "# of cryptocurrencies: 250\n"
     ]
    }
   ],
   "source": [
    "s = Screener()\n",
    "data = s.get_screeners(['all_cryptocurrencies_us'], count=250)\n",
    "\n",
    "dicts = data['all_cryptocurrencies_us']['quotes']\n",
    "symbols = [d['symbol'] for d in dicts]\n",
    "\n",
    "print(f'# of cryptocurrencies: {len(symbols)}')"
   ]
  },
  {
   "cell_type": "code",
   "execution_count": 3,
   "metadata": {},
   "outputs": [
    {
     "name": "stdout",
     "output_type": "stream",
     "text": [
      "[*********************100%***********************]  250 of 250 completed\n"
     ]
    }
   ],
   "source": [
    "df_raw = yf.download(tickers = symbols, period = \"2y\", interval = \"1h\")"
   ]
  },
  {
   "cell_type": "markdown",
   "metadata": {},
   "source": [
    "### Data engineering"
   ]
  },
  {
   "cell_type": "code",
   "execution_count": 4,
   "metadata": {},
   "outputs": [],
   "source": [
    "# Remove nan\n",
    "df = df_raw.ffill(limit=5).dropna(axis=1)\n",
    "\n",
    "# Select top 10 crypto - highest volume\n",
    "tickers_hg_volume = df.Volume.mean().nlargest(n=10).index\n",
    "df = df.Close[tickers_hg_volume]"
   ]
  },
  {
   "cell_type": "markdown",
   "metadata": {},
   "source": [
    "### Some info on the dataset"
   ]
  },
  {
   "cell_type": "code",
   "execution_count": 5,
   "metadata": {},
   "outputs": [
    {
     "data": {
      "text/html": [
       "<div>\n",
       "<style scoped>\n",
       "    .dataframe tbody tr th:only-of-type {\n",
       "        vertical-align: middle;\n",
       "    }\n",
       "\n",
       "    .dataframe tbody tr th {\n",
       "        vertical-align: top;\n",
       "    }\n",
       "\n",
       "    .dataframe thead th {\n",
       "        text-align: right;\n",
       "    }\n",
       "</style>\n",
       "<table border=\"1\" class=\"dataframe\">\n",
       "  <thead>\n",
       "    <tr style=\"text-align: right;\">\n",
       "      <th></th>\n",
       "      <th>XRP-USD</th>\n",
       "      <th>TRX-USD</th>\n",
       "      <th>ETC-USD</th>\n",
       "      <th>BCH-USD</th>\n",
       "      <th>EOS-USD</th>\n",
       "      <th>ADA-USD</th>\n",
       "      <th>BNT-USD</th>\n",
       "      <th>LTC-USD</th>\n",
       "      <th>DOGE-USD</th>\n",
       "      <th>BAT-USD</th>\n",
       "    </tr>\n",
       "  </thead>\n",
       "  <tbody>\n",
       "    <tr>\n",
       "      <th>2020-04-06 23:00:00+00:00</th>\n",
       "      <td>0.195506</td>\n",
       "      <td>0.013658</td>\n",
       "      <td>5.566810</td>\n",
       "      <td>255.919510</td>\n",
       "      <td>2.731257</td>\n",
       "      <td>0.035616</td>\n",
       "      <td>0.196221</td>\n",
       "      <td>44.391121</td>\n",
       "      <td>0.001980</td>\n",
       "      <td>0.160199</td>\n",
       "    </tr>\n",
       "    <tr>\n",
       "      <th>2020-04-07 00:00:00+00:00</th>\n",
       "      <td>0.200237</td>\n",
       "      <td>0.013799</td>\n",
       "      <td>5.660561</td>\n",
       "      <td>256.643097</td>\n",
       "      <td>2.756998</td>\n",
       "      <td>0.036091</td>\n",
       "      <td>0.198634</td>\n",
       "      <td>45.314709</td>\n",
       "      <td>0.001996</td>\n",
       "      <td>0.163322</td>\n",
       "    </tr>\n",
       "    <tr>\n",
       "      <th>2020-04-07 01:00:00+00:00</th>\n",
       "      <td>0.199604</td>\n",
       "      <td>0.013750</td>\n",
       "      <td>5.659618</td>\n",
       "      <td>256.708099</td>\n",
       "      <td>2.749161</td>\n",
       "      <td>0.036236</td>\n",
       "      <td>0.197310</td>\n",
       "      <td>45.576633</td>\n",
       "      <td>0.002013</td>\n",
       "      <td>0.162904</td>\n",
       "    </tr>\n",
       "    <tr>\n",
       "      <th>2020-04-07 02:00:00+00:00</th>\n",
       "      <td>0.197019</td>\n",
       "      <td>0.013551</td>\n",
       "      <td>5.561947</td>\n",
       "      <td>254.985825</td>\n",
       "      <td>2.712875</td>\n",
       "      <td>0.035746</td>\n",
       "      <td>0.195936</td>\n",
       "      <td>45.076130</td>\n",
       "      <td>0.001987</td>\n",
       "      <td>0.162139</td>\n",
       "    </tr>\n",
       "    <tr>\n",
       "      <th>2020-04-07 03:00:00+00:00</th>\n",
       "      <td>0.197864</td>\n",
       "      <td>0.013596</td>\n",
       "      <td>5.555479</td>\n",
       "      <td>256.180786</td>\n",
       "      <td>2.722860</td>\n",
       "      <td>0.035925</td>\n",
       "      <td>0.196226</td>\n",
       "      <td>45.455006</td>\n",
       "      <td>0.001980</td>\n",
       "      <td>0.164334</td>\n",
       "    </tr>\n",
       "  </tbody>\n",
       "</table>\n",
       "</div>"
      ],
      "text/plain": [
       "                            XRP-USD   TRX-USD   ETC-USD     BCH-USD   EOS-USD  \\\n",
       "2020-04-06 23:00:00+00:00  0.195506  0.013658  5.566810  255.919510  2.731257   \n",
       "2020-04-07 00:00:00+00:00  0.200237  0.013799  5.660561  256.643097  2.756998   \n",
       "2020-04-07 01:00:00+00:00  0.199604  0.013750  5.659618  256.708099  2.749161   \n",
       "2020-04-07 02:00:00+00:00  0.197019  0.013551  5.561947  254.985825  2.712875   \n",
       "2020-04-07 03:00:00+00:00  0.197864  0.013596  5.555479  256.180786  2.722860   \n",
       "\n",
       "                            ADA-USD   BNT-USD    LTC-USD  DOGE-USD   BAT-USD  \n",
       "2020-04-06 23:00:00+00:00  0.035616  0.196221  44.391121  0.001980  0.160199  \n",
       "2020-04-07 00:00:00+00:00  0.036091  0.198634  45.314709  0.001996  0.163322  \n",
       "2020-04-07 01:00:00+00:00  0.036236  0.197310  45.576633  0.002013  0.162904  \n",
       "2020-04-07 02:00:00+00:00  0.035746  0.195936  45.076130  0.001987  0.162139  \n",
       "2020-04-07 03:00:00+00:00  0.035925  0.196226  45.455006  0.001980  0.164334  "
      ]
     },
     "metadata": {},
     "output_type": "display_data"
    },
    {
     "data": {
      "text/plain": [
       "(17204, 10)"
      ]
     },
     "metadata": {},
     "output_type": "display_data"
    }
   ],
   "source": [
    "display(df.head())\n",
    "display(df.shape)"
   ]
  },
  {
   "cell_type": "code",
   "execution_count": 6,
   "metadata": {},
   "outputs": [
    {
     "data": {
      "text/plain": [
       "Timestamp('2020-04-06 23:00:00+0000', tz='UTC')"
      ]
     },
     "metadata": {},
     "output_type": "display_data"
    },
    {
     "data": {
      "text/plain": [
       "Timestamp('2022-04-06 23:01:00+0000', tz='UTC')"
      ]
     },
     "metadata": {},
     "output_type": "display_data"
    }
   ],
   "source": [
    "display(df.index.min())\n",
    "display(df.index.max())"
   ]
  },
  {
   "cell_type": "code",
   "execution_count": 7,
   "metadata": {},
   "outputs": [
    {
     "name": "stdout",
     "output_type": "stream",
     "text": [
      "<class 'pandas.core.frame.DataFrame'>\n",
      "DatetimeIndex: 17204 entries, 2020-04-06 23:00:00+00:00 to 2022-04-06 23:01:00+00:00\n",
      "Data columns (total 10 columns):\n",
      " #   Column    Non-Null Count  Dtype  \n",
      "---  ------    --------------  -----  \n",
      " 0   XRP-USD   17204 non-null  float64\n",
      " 1   TRX-USD   17204 non-null  float64\n",
      " 2   ETC-USD   17204 non-null  float64\n",
      " 3   BCH-USD   17204 non-null  float64\n",
      " 4   EOS-USD   17204 non-null  float64\n",
      " 5   ADA-USD   17204 non-null  float64\n",
      " 6   BNT-USD   17204 non-null  float64\n",
      " 7   LTC-USD   17204 non-null  float64\n",
      " 8   DOGE-USD  17204 non-null  float64\n",
      " 9   BAT-USD   17204 non-null  float64\n",
      "dtypes: float64(10)\n",
      "memory usage: 1.4 MB\n"
     ]
    }
   ],
   "source": [
    "df.info()"
   ]
  },
  {
   "cell_type": "markdown",
   "metadata": {},
   "source": [
    "### Save data"
   ]
  },
  {
   "cell_type": "code",
   "execution_count": 8,
   "metadata": {},
   "outputs": [],
   "source": [
    "from pathlib import Path  \n",
    "filepath = Path('./csv/crypto_close_price.csv')"
   ]
  },
  {
   "cell_type": "code",
   "execution_count": 9,
   "metadata": {},
   "outputs": [
    {
     "ename": "FileNotFoundError",
     "evalue": "[Errno 2] No such file or directory: 'csv/crypto_close_price.csv'",
     "output_type": "error",
     "traceback": [
      "\u001b[0;31m---------------------------------------------------------------------------\u001b[0m",
      "\u001b[0;31mFileNotFoundError\u001b[0m                         Traceback (most recent call last)",
      "\u001b[0;32m<ipython-input-9-45bf8f70b45c>\u001b[0m in \u001b[0;36m<module>\u001b[0;34m\u001b[0m\n\u001b[0;32m----> 1\u001b[0;31m \u001b[0mdf\u001b[0m\u001b[0;34m.\u001b[0m\u001b[0mto_csv\u001b[0m\u001b[0;34m(\u001b[0m\u001b[0mfilepath\u001b[0m\u001b[0;34m)\u001b[0m\u001b[0;34m\u001b[0m\u001b[0;34m\u001b[0m\u001b[0m\n\u001b[0m",
      "\u001b[0;32m/opt/anaconda3/lib/python3.7/site-packages/pandas/core/generic.py\u001b[0m in \u001b[0;36mto_csv\u001b[0;34m(self, path_or_buf, sep, na_rep, float_format, columns, header, index, index_label, mode, encoding, compression, quoting, quotechar, line_terminator, chunksize, date_format, doublequote, escapechar, decimal, errors, storage_options)\u001b[0m\n\u001b[1;32m   3480\u001b[0m             \u001b[0mdoublequote\u001b[0m\u001b[0;34m=\u001b[0m\u001b[0mdoublequote\u001b[0m\u001b[0;34m,\u001b[0m\u001b[0;34m\u001b[0m\u001b[0;34m\u001b[0m\u001b[0m\n\u001b[1;32m   3481\u001b[0m             \u001b[0mescapechar\u001b[0m\u001b[0;34m=\u001b[0m\u001b[0mescapechar\u001b[0m\u001b[0;34m,\u001b[0m\u001b[0;34m\u001b[0m\u001b[0;34m\u001b[0m\u001b[0m\n\u001b[0;32m-> 3482\u001b[0;31m             \u001b[0mstorage_options\u001b[0m\u001b[0;34m=\u001b[0m\u001b[0mstorage_options\u001b[0m\u001b[0;34m,\u001b[0m\u001b[0;34m\u001b[0m\u001b[0;34m\u001b[0m\u001b[0m\n\u001b[0m\u001b[1;32m   3483\u001b[0m         )\n\u001b[1;32m   3484\u001b[0m \u001b[0;34m\u001b[0m\u001b[0m\n",
      "\u001b[0;32m/opt/anaconda3/lib/python3.7/site-packages/pandas/io/formats/format.py\u001b[0m in \u001b[0;36mto_csv\u001b[0;34m(self, path_or_buf, encoding, sep, columns, index_label, mode, compression, quoting, quotechar, line_terminator, chunksize, date_format, doublequote, escapechar, errors, storage_options)\u001b[0m\n\u001b[1;32m   1103\u001b[0m             \u001b[0mformatter\u001b[0m\u001b[0;34m=\u001b[0m\u001b[0mself\u001b[0m\u001b[0;34m.\u001b[0m\u001b[0mfmt\u001b[0m\u001b[0;34m,\u001b[0m\u001b[0;34m\u001b[0m\u001b[0;34m\u001b[0m\u001b[0m\n\u001b[1;32m   1104\u001b[0m         )\n\u001b[0;32m-> 1105\u001b[0;31m         \u001b[0mcsv_formatter\u001b[0m\u001b[0;34m.\u001b[0m\u001b[0msave\u001b[0m\u001b[0;34m(\u001b[0m\u001b[0;34m)\u001b[0m\u001b[0;34m\u001b[0m\u001b[0;34m\u001b[0m\u001b[0m\n\u001b[0m\u001b[1;32m   1106\u001b[0m \u001b[0;34m\u001b[0m\u001b[0m\n\u001b[1;32m   1107\u001b[0m         \u001b[0;32mif\u001b[0m \u001b[0mcreated_buffer\u001b[0m\u001b[0;34m:\u001b[0m\u001b[0;34m\u001b[0m\u001b[0;34m\u001b[0m\u001b[0m\n",
      "\u001b[0;32m/opt/anaconda3/lib/python3.7/site-packages/pandas/io/formats/csvs.py\u001b[0m in \u001b[0;36msave\u001b[0;34m(self)\u001b[0m\n\u001b[1;32m    241\u001b[0m             \u001b[0merrors\u001b[0m\u001b[0;34m=\u001b[0m\u001b[0mself\u001b[0m\u001b[0;34m.\u001b[0m\u001b[0merrors\u001b[0m\u001b[0;34m,\u001b[0m\u001b[0;34m\u001b[0m\u001b[0;34m\u001b[0m\u001b[0m\n\u001b[1;32m    242\u001b[0m             \u001b[0mcompression\u001b[0m\u001b[0;34m=\u001b[0m\u001b[0mself\u001b[0m\u001b[0;34m.\u001b[0m\u001b[0mcompression\u001b[0m\u001b[0;34m,\u001b[0m\u001b[0;34m\u001b[0m\u001b[0;34m\u001b[0m\u001b[0m\n\u001b[0;32m--> 243\u001b[0;31m             \u001b[0mstorage_options\u001b[0m\u001b[0;34m=\u001b[0m\u001b[0mself\u001b[0m\u001b[0;34m.\u001b[0m\u001b[0mstorage_options\u001b[0m\u001b[0;34m,\u001b[0m\u001b[0;34m\u001b[0m\u001b[0;34m\u001b[0m\u001b[0m\n\u001b[0m\u001b[1;32m    244\u001b[0m         ) as handles:\n\u001b[1;32m    245\u001b[0m \u001b[0;34m\u001b[0m\u001b[0m\n",
      "\u001b[0;32m/opt/anaconda3/lib/python3.7/site-packages/pandas/io/common.py\u001b[0m in \u001b[0;36mget_handle\u001b[0;34m(path_or_buf, mode, encoding, compression, memory_map, is_text, errors, storage_options)\u001b[0m\n\u001b[1;32m    705\u001b[0m                 \u001b[0mencoding\u001b[0m\u001b[0;34m=\u001b[0m\u001b[0mioargs\u001b[0m\u001b[0;34m.\u001b[0m\u001b[0mencoding\u001b[0m\u001b[0;34m,\u001b[0m\u001b[0;34m\u001b[0m\u001b[0;34m\u001b[0m\u001b[0m\n\u001b[1;32m    706\u001b[0m                 \u001b[0merrors\u001b[0m\u001b[0;34m=\u001b[0m\u001b[0merrors\u001b[0m\u001b[0;34m,\u001b[0m\u001b[0;34m\u001b[0m\u001b[0;34m\u001b[0m\u001b[0m\n\u001b[0;32m--> 707\u001b[0;31m                 \u001b[0mnewline\u001b[0m\u001b[0;34m=\u001b[0m\u001b[0;34m\"\"\u001b[0m\u001b[0;34m,\u001b[0m\u001b[0;34m\u001b[0m\u001b[0;34m\u001b[0m\u001b[0m\n\u001b[0m\u001b[1;32m    708\u001b[0m             )\n\u001b[1;32m    709\u001b[0m         \u001b[0;32melse\u001b[0m\u001b[0;34m:\u001b[0m\u001b[0;34m\u001b[0m\u001b[0;34m\u001b[0m\u001b[0m\n",
      "\u001b[0;31mFileNotFoundError\u001b[0m: [Errno 2] No such file or directory: 'csv/crypto_close_price.csv'"
     ]
    }
   ],
   "source": [
    "df.to_csv(filepath)"
   ]
  },
  {
   "cell_type": "code",
   "execution_count": null,
   "metadata": {},
   "outputs": [],
   "source": []
  }
 ],
 "metadata": {
  "kernelspec": {
   "display_name": "Python 3",
   "language": "python",
   "name": "python3"
  },
  "language_info": {
   "codemirror_mode": {
    "name": "ipython",
    "version": 3
   },
   "file_extension": ".py",
   "mimetype": "text/x-python",
   "name": "python",
   "nbconvert_exporter": "python",
   "pygments_lexer": "ipython3",
   "version": "3.7.4"
  }
 },
 "nbformat": 4,
 "nbformat_minor": 2
}
