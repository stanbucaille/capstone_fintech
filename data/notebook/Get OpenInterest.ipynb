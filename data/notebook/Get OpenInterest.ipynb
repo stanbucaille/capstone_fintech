{
 "cells": [
  {
   "cell_type": "markdown",
   "source": [
    "# Import"
   ],
   "metadata": {
    "collapsed": false,
    "pycharm": {
     "name": "#%% md\n"
    }
   }
  },
  {
   "cell_type": "code",
   "execution_count": 26,
   "outputs": [],
   "source": [
    "import requests\n",
    "import pandas as pd\n",
    "import json\n",
    "from datetime import datetime"
   ],
   "metadata": {
    "collapsed": false,
    "pycharm": {
     "name": "#%%\n"
    }
   }
  },
  {
   "cell_type": "markdown",
   "source": [
    "## Get Data from Coinglass"
   ],
   "metadata": {
    "collapsed": false,
    "pycharm": {
     "name": "#%% md\n"
    }
   }
  },
  {
   "cell_type": "code",
   "execution_count": 6,
   "outputs": [],
   "source": [
    "url = \"https://open-api.coinglass.com/api/pro/v1/futures/openInterest/chart?symbol=BTC&interval=0\"\n",
    "params = {}\n",
    "headers = {\n",
    "  'coinglassSecret': 'ADD_API_KEY'\n",
    "}\n",
    "response = requests.request(\"GET\", url, headers=headers, data = params)\n",
    "data = json.loads(response.text)"
   ],
   "metadata": {
    "collapsed": false,
    "pycharm": {
     "name": "#%%\n"
    }
   }
  },
  {
   "cell_type": "markdown",
   "source": [
    "## Create Dict"
   ],
   "metadata": {
    "collapsed": false,
    "pycharm": {
     "name": "#%% md\n"
    }
   }
  },
  {
   "cell_type": "code",
   "execution_count": 21,
   "outputs": [],
   "source": [
    "data_dict = pd.DataFrame(data[\"data\"][\"dataMap\"],data[\"data\"][\"dateList\"])"
   ],
   "metadata": {
    "collapsed": false,
    "pycharm": {
     "name": "#%%\n"
    }
   }
  },
  {
   "cell_type": "code",
   "execution_count": 23,
   "outputs": [],
   "source": [
    "data_dict[\"date\"] = data_dict.index"
   ],
   "metadata": {
    "collapsed": false,
    "pycharm": {
     "name": "#%%\n"
    }
   }
  },
  {
   "cell_type": "markdown",
   "source": [
    "Change it from UNIX to Date"
   ],
   "metadata": {
    "collapsed": false,
    "pycharm": {
     "name": "#%% md\n"
    }
   }
  },
  {
   "cell_type": "code",
   "execution_count": 37,
   "outputs": [],
   "source": [
    "data_dict['date__'] = pd.to_datetime(data_dict['date'],unit=\"ms\")"
   ],
   "metadata": {
    "collapsed": false,
    "pycharm": {
     "name": "#%%\n"
    }
   }
  },
  {
   "cell_type": "code",
   "execution_count": 41,
   "outputs": [],
   "source": [
    "data_dict['Total']= data_dict.iloc[:, 0:12].sum(axis=1)"
   ],
   "metadata": {
    "collapsed": false,
    "pycharm": {
     "name": "#%%\n"
    }
   }
  },
  {
   "cell_type": "code",
   "execution_count": 44,
   "outputs": [],
   "source": [
    "data_dict.reset_index(inplace=True)"
   ],
   "metadata": {
    "collapsed": false,
    "pycharm": {
     "name": "#%%\n"
    }
   }
  },
  {
   "cell_type": "code",
   "execution_count": 47,
   "outputs": [],
   "source": [
    "data_dict = data_dict[[\"date__\",\"Total\"]]"
   ],
   "metadata": {
    "collapsed": false,
    "pycharm": {
     "name": "#%%\n"
    }
   }
  },
  {
   "cell_type": "code",
   "execution_count": 48,
   "outputs": [
    {
     "data": {
      "text/plain": "        date__         Total\n0   2020-02-28  3.456691e+09\n1   2020-02-29  3.025446e+09\n2   2020-03-01  2.998977e+09\n3   2020-03-02  3.068168e+09\n4   2020-03-03  3.033681e+09\n..         ...           ...\n770 2022-04-14  1.828348e+10\n771 2022-04-15  1.768058e+10\n772 2022-04-16  1.741297e+10\n773 2022-04-17  1.750890e+10\n774 2022-04-18  1.761881e+10\n\n[775 rows x 2 columns]",
      "text/html": "<div>\n<style scoped>\n    .dataframe tbody tr th:only-of-type {\n        vertical-align: middle;\n    }\n\n    .dataframe tbody tr th {\n        vertical-align: top;\n    }\n\n    .dataframe thead th {\n        text-align: right;\n    }\n</style>\n<table border=\"1\" class=\"dataframe\">\n  <thead>\n    <tr style=\"text-align: right;\">\n      <th></th>\n      <th>date__</th>\n      <th>Total</th>\n    </tr>\n  </thead>\n  <tbody>\n    <tr>\n      <th>0</th>\n      <td>2020-02-28</td>\n      <td>3.456691e+09</td>\n    </tr>\n    <tr>\n      <th>1</th>\n      <td>2020-02-29</td>\n      <td>3.025446e+09</td>\n    </tr>\n    <tr>\n      <th>2</th>\n      <td>2020-03-01</td>\n      <td>2.998977e+09</td>\n    </tr>\n    <tr>\n      <th>3</th>\n      <td>2020-03-02</td>\n      <td>3.068168e+09</td>\n    </tr>\n    <tr>\n      <th>4</th>\n      <td>2020-03-03</td>\n      <td>3.033681e+09</td>\n    </tr>\n    <tr>\n      <th>...</th>\n      <td>...</td>\n      <td>...</td>\n    </tr>\n    <tr>\n      <th>770</th>\n      <td>2022-04-14</td>\n      <td>1.828348e+10</td>\n    </tr>\n    <tr>\n      <th>771</th>\n      <td>2022-04-15</td>\n      <td>1.768058e+10</td>\n    </tr>\n    <tr>\n      <th>772</th>\n      <td>2022-04-16</td>\n      <td>1.741297e+10</td>\n    </tr>\n    <tr>\n      <th>773</th>\n      <td>2022-04-17</td>\n      <td>1.750890e+10</td>\n    </tr>\n    <tr>\n      <th>774</th>\n      <td>2022-04-18</td>\n      <td>1.761881e+10</td>\n    </tr>\n  </tbody>\n</table>\n<p>775 rows × 2 columns</p>\n</div>"
     },
     "execution_count": 48,
     "metadata": {},
     "output_type": "execute_result"
    }
   ],
   "source": [
    "data_dict"
   ],
   "metadata": {
    "collapsed": false,
    "pycharm": {
     "name": "#%%\n"
    }
   }
  },
  {
   "cell_type": "markdown",
   "source": [
    "Save"
   ],
   "metadata": {
    "collapsed": false,
    "pycharm": {
     "name": "#%% md\n"
    }
   }
  },
  {
   "cell_type": "code",
   "execution_count": 50,
   "outputs": [],
   "source": [
    "data_dict.to_csv('../csv/OpenInterest.csv')"
   ],
   "metadata": {
    "collapsed": false,
    "pycharm": {
     "name": "#%%\n"
    }
   }
  }
 ],
 "metadata": {
  "kernelspec": {
   "display_name": "Python 3",
   "language": "python",
   "name": "python3"
  },
  "language_info": {
   "codemirror_mode": {
    "name": "ipython",
    "version": 2
   },
   "file_extension": ".py",
   "mimetype": "text/x-python",
   "name": "python",
   "nbconvert_exporter": "python",
   "pygments_lexer": "ipython2",
   "version": "2.7.6"
  }
 },
 "nbformat": 4,
 "nbformat_minor": 0
}