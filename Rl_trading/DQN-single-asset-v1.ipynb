{
 "cells": [
  {
   "cell_type": "markdown",
   "metadata": {},
   "source": [
    "# DQN single asset : BTC"
   ]
  },
  {
   "cell_type": "markdown",
   "metadata": {},
   "source": [
    "### Settings"
   ]
  },
  {
   "cell_type": "code",
   "execution_count": 1,
   "metadata": {},
   "outputs": [],
   "source": [
    "import sys\n",
    "external_pkgs_paths = [r\".\\external_pkgs\\gym-0.18.3\\gym-0.18.3\"]\n",
    "for path in external_pkgs_paths:\n",
    "    if path not in sys.path:\n",
    "        sys.path.insert(0, path) \n",
    "import warnings\n",
    "warnings.simplefilter(action='ignore', category=FutureWarning)"
   ]
  },
  {
   "cell_type": "markdown",
   "metadata": {},
   "source": [
    "### Import (if not yet)"
   ]
  },
  {
   "cell_type": "code",
   "execution_count": 2,
   "metadata": {},
   "outputs": [],
   "source": [
    "# !pip install datatable\n",
    "# !pip install sympy\n",
    "# !pip install pyyaml\n",
    "# !pip install tqdm\n",
    "# !pip install tensorflow"
   ]
  },
  {
   "cell_type": "code",
   "execution_count": 2,
   "metadata": {},
   "outputs": [
    {
     "data": {
      "text/html": [
       "<style type='text/css'>\n",
       ".datatable table.frame { margin-bottom: 0; }\n",
       ".datatable table.frame thead { border-bottom: none; }\n",
       ".datatable table.frame tr.coltypes td {  color: #FFFFFF;  line-height: 6px;  padding: 0 0.5em;}\n",
       ".datatable .bool    { background: #DDDD99; }\n",
       ".datatable .object  { background: #565656; }\n",
       ".datatable .int     { background: #5D9E5D; }\n",
       ".datatable .float   { background: #4040CC; }\n",
       ".datatable .str     { background: #CC4040; }\n",
       ".datatable .time    { background: #40CC40; }\n",
       ".datatable .row_index {  background: var(--jp-border-color3);  border-right: 1px solid var(--jp-border-color0);  color: var(--jp-ui-font-color3);  font-size: 9px;}\n",
       ".datatable .frame tbody td { text-align: left; }\n",
       ".datatable .frame tr.coltypes .row_index {  background: var(--jp-border-color0);}\n",
       ".datatable th:nth-child(2) { padding-left: 12px; }\n",
       ".datatable .hellipsis {  color: var(--jp-cell-editor-border-color);}\n",
       ".datatable .vellipsis {  background: var(--jp-layout-color0);  color: var(--jp-cell-editor-border-color);}\n",
       ".datatable .na {  color: var(--jp-cell-editor-border-color);  font-size: 80%;}\n",
       ".datatable .sp {  opacity: 0.25;}\n",
       ".datatable .footer { font-size: 9px; }\n",
       ".datatable .frame_dimensions {  background: var(--jp-border-color3);  border-top: 1px solid var(--jp-border-color0);  color: var(--jp-ui-font-color3);  display: inline-block;  opacity: 0.6;  padding: 1px 10px 1px 5px;}\n",
       "</style>\n"
      ],
      "text/plain": [
       "<IPython.core.display.HTML object>"
      ]
     },
     "metadata": {},
     "output_type": "display_data"
    }
   ],
   "source": [
    "# import necessary modules\n",
    "import ta\n",
    "from functools import reduce\n",
    "import pandas as pd\n",
    "import gc\n",
    "import pickle\n",
    "import tensortrade as td\n",
    "from pathlib import Path \n",
    "import datatable as dt\n",
    "\n",
    "from tensortrade.exchanges import Exchange\n",
    "from tensortrade.instruments import Instrument, CNY, USD\n",
    "from tensortrade.wallets import Wallet, Portfolio\n",
    "from tensortrade.exchanges.services.execution.simulated import execute_order\n",
    "from tensortrade.data import Stream, Module, DataFeed\n",
    "from tensortrade.data import DataFeed, Module\n",
    "\n",
    "# In[deploy network api]:\n",
    "import tensorflow as tf\n",
    "# In[deploy action schemes]:\n",
    "from MoneyPositionScheme import * \n",
    "# In[deploy reward schemes]:\n",
    "from RelativeReturnReward import RelativeReturnReward\n",
    "# In[create environment]:\n",
    "from tensortrade.environments import TradingEnvironment\n",
    "# In[import agent]:\n",
    "from tensortrade.agents import DQNAgent"
   ]
  },
  {
   "cell_type": "markdown",
   "metadata": {},
   "source": [
    "## Get data"
   ]
  },
  {
   "cell_type": "markdown",
   "metadata": {},
   "source": [
    "### 1. Get signals "
   ]
  },
  {
   "cell_type": "code",
   "execution_count": 3,
   "metadata": {},
   "outputs": [
    {
     "data": {
      "text/html": [
       "<div>\n",
       "<style scoped>\n",
       "    .dataframe tbody tr th:only-of-type {\n",
       "        vertical-align: middle;\n",
       "    }\n",
       "\n",
       "    .dataframe tbody tr th {\n",
       "        vertical-align: top;\n",
       "    }\n",
       "\n",
       "    .dataframe thead th {\n",
       "        text-align: right;\n",
       "    }\n",
       "</style>\n",
       "<table border=\"1\" class=\"dataframe\">\n",
       "  <thead>\n",
       "    <tr style=\"text-align: right;\">\n",
       "      <th></th>\n",
       "      <th>fng_value</th>\n",
       "      <th>fng_classification</th>\n",
       "    </tr>\n",
       "    <tr>\n",
       "      <th>date</th>\n",
       "      <th></th>\n",
       "      <th></th>\n",
       "    </tr>\n",
       "  </thead>\n",
       "  <tbody>\n",
       "    <tr>\n",
       "      <th>2022-04-05 22:00:00</th>\n",
       "      <td>53</td>\n",
       "      <td>0</td>\n",
       "    </tr>\n",
       "    <tr>\n",
       "      <th>2022-04-05 23:00:00</th>\n",
       "      <td>53</td>\n",
       "      <td>0</td>\n",
       "    </tr>\n",
       "    <tr>\n",
       "      <th>2022-04-06 00:00:00</th>\n",
       "      <td>48</td>\n",
       "      <td>0</td>\n",
       "    </tr>\n",
       "  </tbody>\n",
       "</table>\n",
       "</div>"
      ],
      "text/plain": [
       "                     fng_value  fng_classification\n",
       "date                                              \n",
       "2022-04-05 22:00:00         53                   0\n",
       "2022-04-05 23:00:00         53                   0\n",
       "2022-04-06 00:00:00         48                   0"
      ]
     },
     "metadata": {},
     "output_type": "display_data"
    },
    {
     "data": {
      "text/html": [
       "<div>\n",
       "<style scoped>\n",
       "    .dataframe tbody tr th:only-of-type {\n",
       "        vertical-align: middle;\n",
       "    }\n",
       "\n",
       "    .dataframe tbody tr th {\n",
       "        vertical-align: top;\n",
       "    }\n",
       "\n",
       "    .dataframe thead th {\n",
       "        text-align: right;\n",
       "    }\n",
       "</style>\n",
       "<table border=\"1\" class=\"dataframe\">\n",
       "  <thead>\n",
       "    <tr style=\"text-align: right;\">\n",
       "      <th></th>\n",
       "      <th>condition_BBW</th>\n",
       "      <th>condition_Vol</th>\n",
       "      <th>strat_BB</th>\n",
       "      <th>strat_MACD</th>\n",
       "      <th>strat_HH_LL</th>\n",
       "      <th>combine_strat_cond</th>\n",
       "    </tr>\n",
       "    <tr>\n",
       "      <th>date</th>\n",
       "      <th></th>\n",
       "      <th></th>\n",
       "      <th></th>\n",
       "      <th></th>\n",
       "      <th></th>\n",
       "      <th></th>\n",
       "    </tr>\n",
       "  </thead>\n",
       "  <tbody>\n",
       "    <tr>\n",
       "      <th>2022-04-07 00:52:00</th>\n",
       "      <td>True</td>\n",
       "      <td>True</td>\n",
       "      <td>0</td>\n",
       "      <td>-1</td>\n",
       "      <td>False</td>\n",
       "      <td>False</td>\n",
       "    </tr>\n",
       "    <tr>\n",
       "      <th>2022-04-07 00:54:00</th>\n",
       "      <td>True</td>\n",
       "      <td>True</td>\n",
       "      <td>0</td>\n",
       "      <td>-1</td>\n",
       "      <td>False</td>\n",
       "      <td>False</td>\n",
       "    </tr>\n",
       "    <tr>\n",
       "      <th>2022-04-07 00:55:00</th>\n",
       "      <td>True</td>\n",
       "      <td>True</td>\n",
       "      <td>0</td>\n",
       "      <td>-1</td>\n",
       "      <td>False</td>\n",
       "      <td>False</td>\n",
       "    </tr>\n",
       "  </tbody>\n",
       "</table>\n",
       "</div>"
      ],
      "text/plain": [
       "                     condition_BBW  condition_Vol  strat_BB  strat_MACD  \\\n",
       "date                                                                      \n",
       "2022-04-07 00:52:00           True           True         0          -1   \n",
       "2022-04-07 00:54:00           True           True         0          -1   \n",
       "2022-04-07 00:55:00           True           True         0          -1   \n",
       "\n",
       "                     strat_HH_LL  combine_strat_cond  \n",
       "date                                                  \n",
       "2022-04-07 00:52:00        False               False  \n",
       "2022-04-07 00:54:00        False               False  \n",
       "2022-04-07 00:55:00        False               False  "
      ]
     },
     "metadata": {},
     "output_type": "display_data"
    },
    {
     "data": {
      "text/html": [
       "<div>\n",
       "<style scoped>\n",
       "    .dataframe tbody tr th:only-of-type {\n",
       "        vertical-align: middle;\n",
       "    }\n",
       "\n",
       "    .dataframe tbody tr th {\n",
       "        vertical-align: top;\n",
       "    }\n",
       "\n",
       "    .dataframe thead th {\n",
       "        text-align: right;\n",
       "    }\n",
       "</style>\n",
       "<table border=\"1\" class=\"dataframe\">\n",
       "  <thead>\n",
       "    <tr style=\"text-align: right;\">\n",
       "      <th></th>\n",
       "      <th>glassnode_f1</th>\n",
       "      <th>glassnode_f2</th>\n",
       "      <th>glassnode_f3</th>\n",
       "      <th>glassnode_f4</th>\n",
       "      <th>glassnode_f5</th>\n",
       "    </tr>\n",
       "    <tr>\n",
       "      <th>date</th>\n",
       "      <th></th>\n",
       "      <th></th>\n",
       "      <th></th>\n",
       "      <th></th>\n",
       "      <th></th>\n",
       "    </tr>\n",
       "  </thead>\n",
       "  <tbody>\n",
       "    <tr>\n",
       "      <th>2022-04-04 22:00:00</th>\n",
       "      <td>6.099674</td>\n",
       "      <td>6.561470</td>\n",
       "      <td>4.737371</td>\n",
       "      <td>0.0</td>\n",
       "      <td>14.345889</td>\n",
       "    </tr>\n",
       "    <tr>\n",
       "      <th>2022-04-04 23:00:00</th>\n",
       "      <td>6.099674</td>\n",
       "      <td>6.561470</td>\n",
       "      <td>4.737371</td>\n",
       "      <td>0.0</td>\n",
       "      <td>14.345889</td>\n",
       "    </tr>\n",
       "    <tr>\n",
       "      <th>2022-04-05 00:00:00</th>\n",
       "      <td>6.792104</td>\n",
       "      <td>2.989913</td>\n",
       "      <td>4.855690</td>\n",
       "      <td>0.0</td>\n",
       "      <td>10.875053</td>\n",
       "    </tr>\n",
       "  </tbody>\n",
       "</table>\n",
       "</div>"
      ],
      "text/plain": [
       "                     glassnode_f1  glassnode_f2  glassnode_f3  glassnode_f4  \\\n",
       "date                                                                          \n",
       "2022-04-04 22:00:00      6.099674      6.561470      4.737371           0.0   \n",
       "2022-04-04 23:00:00      6.099674      6.561470      4.737371           0.0   \n",
       "2022-04-05 00:00:00      6.792104      2.989913      4.855690           0.0   \n",
       "\n",
       "                     glassnode_f5  \n",
       "date                               \n",
       "2022-04-04 22:00:00     14.345889  \n",
       "2022-04-04 23:00:00     14.345889  \n",
       "2022-04-05 00:00:00     10.875053  "
      ]
     },
     "metadata": {},
     "output_type": "display_data"
    },
    {
     "data": {
      "text/html": [
       "<div>\n",
       "<style scoped>\n",
       "    .dataframe tbody tr th:only-of-type {\n",
       "        vertical-align: middle;\n",
       "    }\n",
       "\n",
       "    .dataframe tbody tr th {\n",
       "        vertical-align: top;\n",
       "    }\n",
       "\n",
       "    .dataframe thead th {\n",
       "        text-align: right;\n",
       "    }\n",
       "</style>\n",
       "<table border=\"1\" class=\"dataframe\">\n",
       "  <thead>\n",
       "    <tr style=\"text-align: right;\">\n",
       "      <th></th>\n",
       "      <th>wavelet_smoothing</th>\n",
       "      <th>wavelet_clf</th>\n",
       "    </tr>\n",
       "    <tr>\n",
       "      <th>date</th>\n",
       "      <th></th>\n",
       "      <th></th>\n",
       "    </tr>\n",
       "  </thead>\n",
       "  <tbody>\n",
       "    <tr>\n",
       "      <th>2022-04-07 00:52:00</th>\n",
       "      <td>41796.938114</td>\n",
       "      <td>True</td>\n",
       "    </tr>\n",
       "    <tr>\n",
       "      <th>2022-04-07 00:54:00</th>\n",
       "      <td>41789.281319</td>\n",
       "      <td>True</td>\n",
       "    </tr>\n",
       "    <tr>\n",
       "      <th>2022-04-07 00:55:00</th>\n",
       "      <td>41771.958831</td>\n",
       "      <td>True</td>\n",
       "    </tr>\n",
       "  </tbody>\n",
       "</table>\n",
       "</div>"
      ],
      "text/plain": [
       "                     wavelet_smoothing  wavelet_clf\n",
       "date                                               \n",
       "2022-04-07 00:52:00       41796.938114         True\n",
       "2022-04-07 00:54:00       41789.281319         True\n",
       "2022-04-07 00:55:00       41771.958831         True"
      ]
     },
     "metadata": {},
     "output_type": "display_data"
    }
   ],
   "source": [
    "filepath = Path('../signals/csv/signals_crypto_fear&greed_index.csv')\n",
    "df_index = dt.fread(filepath).to_pandas() \n",
    "df_index = df_index.set_index('date')\n",
    "df_index = df_index.resample('H').ffill()\n",
    "df_index.index = pd.to_datetime(df_index.index).strftime('%Y-%m-%d %H:%M:%S')\n",
    "display(df_index.tail(3))\n",
    "\n",
    "filepath = Path('../signals/csv/signals_btc_strat.csv')\n",
    "df_ta = dt.fread(filepath).to_pandas() \n",
    "df_ta = df_ta.set_index('date')\n",
    "df_ta.index = pd.to_datetime(df_ta.index).strftime('%Y-%m-%d %H:%M:%S')\n",
    "display(df_ta.tail(3))\n",
    "\n",
    "filepath = Path('../signals/csv/signals_glassnode.csv')\n",
    "df_glassnode = dt.fread(filepath).to_pandas() \n",
    "df_glassnode = df_glassnode.set_index('date')\n",
    "df_glassnode = df_glassnode.resample('H').ffill()\n",
    "df_glassnode.index = pd.to_datetime(df_glassnode.index).strftime('%Y-%m-%d %H:%M:%S')\n",
    "display(df_glassnode.tail(3))\n",
    "\n",
    "filepath = Path('../signals/csv/signals_wavelets.csv')\n",
    "df_wavelet = dt.fread(filepath).to_pandas() \n",
    "df_wavelet = df_wavelet.set_index('date')\n",
    "df_wavelet.index = pd.to_datetime(df_wavelet.index).strftime('%Y-%m-%d %H:%M:%S')\n",
    "display(df_wavelet.tail(3))"
   ]
  },
  {
   "cell_type": "markdown",
   "metadata": {},
   "source": [
    "### 2. Get BTC close price"
   ]
  },
  {
   "cell_type": "code",
   "execution_count": 4,
   "metadata": {},
   "outputs": [
    {
     "data": {
      "text/html": [
       "<div>\n",
       "<style scoped>\n",
       "    .dataframe tbody tr th:only-of-type {\n",
       "        vertical-align: middle;\n",
       "    }\n",
       "\n",
       "    .dataframe tbody tr th {\n",
       "        vertical-align: top;\n",
       "    }\n",
       "\n",
       "    .dataframe thead th {\n",
       "        text-align: right;\n",
       "    }\n",
       "</style>\n",
       "<table border=\"1\" class=\"dataframe\">\n",
       "  <thead>\n",
       "    <tr style=\"text-align: right;\">\n",
       "      <th></th>\n",
       "      <th>BTC-USD</th>\n",
       "    </tr>\n",
       "  </thead>\n",
       "  <tbody>\n",
       "    <tr>\n",
       "      <th>2022-04-04 00:00:00</th>\n",
       "      <td>46615.023438</td>\n",
       "    </tr>\n",
       "    <tr>\n",
       "      <th>2022-04-05 00:00:00</th>\n",
       "      <td>45553.027344</td>\n",
       "    </tr>\n",
       "    <tr>\n",
       "      <th>2022-04-06 00:00:00</th>\n",
       "      <td>43193.953125</td>\n",
       "    </tr>\n",
       "  </tbody>\n",
       "</table>\n",
       "</div>"
      ],
      "text/plain": [
       "                          BTC-USD\n",
       "2022-04-04 00:00:00  46615.023438\n",
       "2022-04-05 00:00:00  45553.027344\n",
       "2022-04-06 00:00:00  43193.953125"
      ]
     },
     "metadata": {},
     "output_type": "display_data"
    }
   ],
   "source": [
    "filepath = Path('../data/csv/crypto_market_data.csv')\n",
    "# Get crypto data\n",
    "df_crypto = dt.fread(filepath).to_pandas() \n",
    "df_crypto = df_crypto.T.set_index([0, 1]).T\n",
    "df_crypto = df_crypto.set_index('')\n",
    "df_crypto = df_crypto.astype(float)\n",
    "df_crypto.index.names = ['date']\n",
    "# Get the daily return (on the close price of the BTC)\n",
    "df_close = df_crypto.T.swaplevel(0, 1).T['Close']['BTC-USD']\n",
    "df_close.index = pd.to_datetime(df_close.index)\n",
    "df_close = df_close[df_close.index.hour == 23]\n",
    "df_close.index = df_close.index.date\n",
    "df_close.index = pd.to_datetime(df_close.index).strftime('%Y-%m-%d %H:%M:%S')\n",
    "df_close = pd.DataFrame(df_close, index=df_close.index, columns=['BTC-USD'])\n",
    "display(df_close.tail(3))"
   ]
  },
  {
   "cell_type": "markdown",
   "metadata": {},
   "source": [
    "## Get data ready for RL model"
   ]
  },
  {
   "cell_type": "code",
   "execution_count": 5,
   "metadata": {},
   "outputs": [],
   "source": [
    "df = df_wavelet.join(df_index).join(df_glassnode).join(df_ta).join(df_close).dropna(axis=0)*1\n",
    "df.index = pd.to_datetime(df.index)"
   ]
  },
  {
   "cell_type": "code",
   "execution_count": 6,
   "metadata": {},
   "outputs": [
    {
     "data": {
      "text/plain": [
       "(452, 16)"
      ]
     },
     "metadata": {},
     "output_type": "display_data"
    },
    {
     "data": {
      "text/plain": [
       "Timestamp('2020-04-15 00:00:00')"
      ]
     },
     "metadata": {},
     "output_type": "display_data"
    },
    {
     "data": {
      "text/plain": [
       "Timestamp('2022-04-05 00:00:00')"
      ]
     },
     "metadata": {},
     "output_type": "display_data"
    },
    {
     "data": {
      "text/html": [
       "<div>\n",
       "<style scoped>\n",
       "    .dataframe tbody tr th:only-of-type {\n",
       "        vertical-align: middle;\n",
       "    }\n",
       "\n",
       "    .dataframe tbody tr th {\n",
       "        vertical-align: top;\n",
       "    }\n",
       "\n",
       "    .dataframe thead th {\n",
       "        text-align: right;\n",
       "    }\n",
       "</style>\n",
       "<table border=\"1\" class=\"dataframe\">\n",
       "  <thead>\n",
       "    <tr style=\"text-align: right;\">\n",
       "      <th></th>\n",
       "      <th>wavelet_smoothing</th>\n",
       "      <th>wavelet_clf</th>\n",
       "      <th>fng_value</th>\n",
       "      <th>fng_classification</th>\n",
       "      <th>glassnode_f1</th>\n",
       "      <th>glassnode_f2</th>\n",
       "      <th>glassnode_f3</th>\n",
       "      <th>glassnode_f4</th>\n",
       "      <th>glassnode_f5</th>\n",
       "      <th>condition_BBW</th>\n",
       "      <th>condition_Vol</th>\n",
       "      <th>strat_BB</th>\n",
       "      <th>strat_MACD</th>\n",
       "      <th>strat_HH_LL</th>\n",
       "      <th>combine_strat_cond</th>\n",
       "      <th>BTC-USD</th>\n",
       "    </tr>\n",
       "    <tr>\n",
       "      <th>date</th>\n",
       "      <th></th>\n",
       "      <th></th>\n",
       "      <th></th>\n",
       "      <th></th>\n",
       "      <th></th>\n",
       "      <th></th>\n",
       "      <th></th>\n",
       "      <th></th>\n",
       "      <th></th>\n",
       "      <th></th>\n",
       "      <th></th>\n",
       "      <th></th>\n",
       "      <th></th>\n",
       "      <th></th>\n",
       "      <th></th>\n",
       "      <th></th>\n",
       "    </tr>\n",
       "  </thead>\n",
       "  <tbody>\n",
       "    <tr>\n",
       "      <th>2020-04-15</th>\n",
       "      <td>7108.619077</td>\n",
       "      <td>0</td>\n",
       "      <td>18.0</td>\n",
       "      <td>-2.0</td>\n",
       "      <td>4.165846</td>\n",
       "      <td>9.186098</td>\n",
       "      <td>10.781787</td>\n",
       "      <td>0.0</td>\n",
       "      <td>17.062986</td>\n",
       "      <td>0</td>\n",
       "      <td>0</td>\n",
       "      <td>0</td>\n",
       "      <td>-1</td>\n",
       "      <td>0</td>\n",
       "      <td>0</td>\n",
       "      <td>6642.109863</td>\n",
       "    </tr>\n",
       "    <tr>\n",
       "      <th>2020-04-23</th>\n",
       "      <td>7233.598506</td>\n",
       "      <td>0</td>\n",
       "      <td>19.0</td>\n",
       "      <td>-2.0</td>\n",
       "      <td>3.959871</td>\n",
       "      <td>8.574373</td>\n",
       "      <td>10.370236</td>\n",
       "      <td>0.0</td>\n",
       "      <td>17.690790</td>\n",
       "      <td>1</td>\n",
       "      <td>1</td>\n",
       "      <td>0</td>\n",
       "      <td>0</td>\n",
       "      <td>0</td>\n",
       "      <td>0</td>\n",
       "      <td>7429.724609</td>\n",
       "    </tr>\n",
       "    <tr>\n",
       "      <th>2020-04-25</th>\n",
       "      <td>7474.446751</td>\n",
       "      <td>1</td>\n",
       "      <td>24.0</td>\n",
       "      <td>-2.0</td>\n",
       "      <td>4.645470</td>\n",
       "      <td>10.297437</td>\n",
       "      <td>9.963661</td>\n",
       "      <td>0.0</td>\n",
       "      <td>14.971171</td>\n",
       "      <td>0</td>\n",
       "      <td>0</td>\n",
       "      <td>0</td>\n",
       "      <td>-1</td>\n",
       "      <td>0</td>\n",
       "      <td>0</td>\n",
       "      <td>7554.173828</td>\n",
       "    </tr>\n",
       "  </tbody>\n",
       "</table>\n",
       "</div>"
      ],
      "text/plain": [
       "            wavelet_smoothing  wavelet_clf  fng_value  fng_classification  \\\n",
       "date                                                                        \n",
       "2020-04-15        7108.619077            0       18.0                -2.0   \n",
       "2020-04-23        7233.598506            0       19.0                -2.0   \n",
       "2020-04-25        7474.446751            1       24.0                -2.0   \n",
       "\n",
       "            glassnode_f1  glassnode_f2  glassnode_f3  glassnode_f4  \\\n",
       "date                                                                 \n",
       "2020-04-15      4.165846      9.186098     10.781787           0.0   \n",
       "2020-04-23      3.959871      8.574373     10.370236           0.0   \n",
       "2020-04-25      4.645470     10.297437      9.963661           0.0   \n",
       "\n",
       "            glassnode_f5  condition_BBW  condition_Vol  strat_BB  strat_MACD  \\\n",
       "date                                                                           \n",
       "2020-04-15     17.062986              0              0         0          -1   \n",
       "2020-04-23     17.690790              1              1         0           0   \n",
       "2020-04-25     14.971171              0              0         0          -1   \n",
       "\n",
       "            strat_HH_LL  combine_strat_cond      BTC-USD  \n",
       "date                                                      \n",
       "2020-04-15            0                   0  6642.109863  \n",
       "2020-04-23            0                   0  7429.724609  \n",
       "2020-04-25            0                   0  7554.173828  "
      ]
     },
     "execution_count": 6,
     "metadata": {},
     "output_type": "execute_result"
    }
   ],
   "source": [
    "display(df.shape, df.index.min(), df.index.max())\n",
    "df.head(3)"
   ]
  },
  {
   "cell_type": "markdown",
   "metadata": {},
   "source": [
    "#### Split data"
   ]
  },
  {
   "cell_type": "code",
   "execution_count": 7,
   "metadata": {},
   "outputs": [],
   "source": [
    "train_data = df[df.index < \"20210630\"]\n",
    "test_data = df[df.index >= \"20210630\"]"
   ]
  },
  {
   "cell_type": "markdown",
   "metadata": {},
   "source": [
    "## Reinforcement Learning Setup"
   ]
  },
  {
   "cell_type": "markdown",
   "metadata": {},
   "source": [
    "### 1. Create Exchanges"
   ]
  },
  {
   "cell_type": "code",
   "execution_count": 8,
   "metadata": {
    "id": "64nfgdEndi3J"
   },
   "outputs": [
    {
     "name": "stdout",
     "output_type": "stream",
     "text": [
      "{'BTC/USD': <Node: name=BTC-USD, type=forward>}\n",
      "{'BTC/USD': <Node: name=BTC-USD, type=forward>}\n"
     ]
    }
   ],
   "source": [
    "BTC = Instrument('BTC', 2, 'Bintcoin')\n",
    "\n",
    "config = {\n",
    "    \"base_instrument\": USD,\n",
    "    \"instruments\": [BTC]\n",
    "}\n",
    "\n",
    "with td.TradingContext(**config):\n",
    "    exchange_name = 'train_data_exchange'\n",
    "    train_data_exchange = Exchange(exchange_name, service=execute_order, timestamps=train_data.index.tolist())(\n",
    "        Stream(\"-\".join([BTC.symbol, USD.symbol]), list(train_data['BTC-USD']))\n",
    "    )\n",
    "train_data_exchange.build()\n",
    "print(train_data_exchange._prices)\n",
    "\n",
    "with td.TradingContext(**config):\n",
    "    exchange_name = 'test_data_exchange'\n",
    "    test_data_exchange = Exchange(exchange_name, service=execute_order, timestamps=test_data.index.tolist())(\n",
    "        Stream(\"-\".join([BTC.symbol, USD.symbol]), list(test_data['BTC-USD']))\n",
    "    )\n",
    "test_data_exchange.build()\n",
    "print(test_data_exchange._prices)"
   ]
  },
  {
   "cell_type": "markdown",
   "metadata": {},
   "source": [
    "### 2. Create the data feed"
   ]
  },
  {
   "cell_type": "code",
   "execution_count": 9,
   "metadata": {},
   "outputs": [],
   "source": [
    "def create_feed(raw_data, module_name, colprefix=\"BTC\", drop_raw=False, feature_list=None):\n",
    "    \n",
    "    feature_data = raw_data.copy(deep=True)\n",
    "    colprefix = colprefix + \"_\"\n",
    "\n",
    "    if drop_raw:\n",
    "        num_raw_cols = feature_data.shape[1]\n",
    "        feature_data = feature_data.iloc[:, num_raw_cols:]\n",
    "\n",
    "    if feature_list is None:\n",
    "        feature_list = feature_data.columns.tolist()\n",
    "    else:\n",
    "        feature_list = [colprefix + x for x in feature_list]\n",
    "\n",
    "    with Module(module_name) as ns:\n",
    "        for col in feature_list:\n",
    "            ns = ns(Stream(col, list(feature_data[col])))\n",
    "    feed = DataFeed([ns])\n",
    "    return feed"
   ]
  },
  {
   "cell_type": "code",
   "execution_count": 10,
   "metadata": {
    "id": "s_48-3ewdd-y"
   },
   "outputs": [],
   "source": [
    "#wavelet_feed = create_feed(raw_data=df_wavelet, module_name=\"wavelet\", colprefix=\"BTC\", drop_raw=False, feature_list=None)\n",
    "#index_feed = create_feed(raw_data=df_index, module_name=\"index\", colprefix=\"BTC\", drop_raw=False, feature_list=None)\n",
    "#glassnode_feed = create_feed(raw_data=df_glassnode, module_name=\"glassnode\", colprefix=\"BTC\", drop_raw=False, feature_list=None)\n",
    "#ta_feed = create_feed(raw_data=df_ta, module_name=\"ta\", colprefix=\"BTC\", drop_raw=False, feature_list=None)\n",
    "\n",
    "#train_feed = wavelet_feed + index_feed + glassnode_feed + ta_feed"
   ]
  },
  {
   "cell_type": "code",
   "execution_count": 11,
   "metadata": {},
   "outputs": [],
   "source": [
    "train_close = train_data['BTC-USD']\n",
    "test_close = test_data['BTC-USD']\n",
    "\n",
    "train_data = train_data.drop(columns=['BTC-USD'])\n",
    "test_data = test_data.drop(columns=['BTC-USD'])"
   ]
  },
  {
   "cell_type": "code",
   "execution_count": 12,
   "metadata": {},
   "outputs": [],
   "source": [
    "train_feed = create_feed(raw_data=train_data, module_name=\"train\", colprefix=\"BTC\", drop_raw=False, feature_list=None)\n",
    "test_feed = create_feed(raw_data=test_data, module_name=\"test\", colprefix=\"BTC\", drop_raw=False, feature_list=None)"
   ]
  },
  {
   "cell_type": "code",
   "execution_count": 13,
   "metadata": {},
   "outputs": [
    {
     "data": {
      "text/plain": [
       "{'train:/wavelet_smoothing': 7108.619077124501,\n",
       " 'train:/wavelet_clf': 0,\n",
       " 'train:/fng_value': 18.0,\n",
       " 'train:/fng_classification': -2.0,\n",
       " 'train:/glassnode_f1': 4.165846,\n",
       " 'train:/glassnode_f2': 9.186098,\n",
       " 'train:/glassnode_f3': 10.781787,\n",
       " 'train:/glassnode_f4': 0.0,\n",
       " 'train:/glassnode_f5': 17.062986,\n",
       " 'train:/condition_BBW': 0,\n",
       " 'train:/condition_Vol': 0,\n",
       " 'train:/strat_BB': 0,\n",
       " 'train:/strat_MACD': -1,\n",
       " 'train:/strat_HH_LL': 0,\n",
       " 'train:/combine_strat_cond': 0}"
      ]
     },
     "execution_count": 13,
     "metadata": {},
     "output_type": "execute_result"
    }
   ],
   "source": [
    "train_feed.next()"
   ]
  },
  {
   "cell_type": "code",
   "execution_count": 14,
   "metadata": {},
   "outputs": [
    {
     "data": {
      "text/plain": [
       "{'test:/wavelet_smoothing': 35421.38633832649,\n",
       " 'test:/wavelet_clf': 0,\n",
       " 'test:/fng_value': 29.0,\n",
       " 'test:/fng_classification': -1.0,\n",
       " 'test:/glassnode_f1': 6.524730000000001,\n",
       " 'test:/glassnode_f2': 11.788288,\n",
       " 'test:/glassnode_f3': 4.3401647,\n",
       " 'test:/glassnode_f4': 0.0,\n",
       " 'test:/glassnode_f5': 10.2067,\n",
       " 'test:/condition_BBW': 1,\n",
       " 'test:/condition_Vol': 0,\n",
       " 'test:/strat_BB': -1,\n",
       " 'test:/strat_MACD': -1,\n",
       " 'test:/strat_HH_LL': 0,\n",
       " 'test:/combine_strat_cond': 0}"
      ]
     },
     "execution_count": 14,
     "metadata": {},
     "output_type": "execute_result"
    }
   ],
   "source": [
    "test_feed.next()"
   ]
  },
  {
   "cell_type": "code",
   "execution_count": 15,
   "metadata": {},
   "outputs": [
    {
     "name": "stdout",
     "output_type": "stream",
     "text": [
      "# signals : 15\n"
     ]
    }
   ],
   "source": [
    "print(f'# signals : {len(train_feed.next())}')"
   ]
  },
  {
   "cell_type": "code",
   "execution_count": 16,
   "metadata": {},
   "outputs": [
    {
     "name": "stdout",
     "output_type": "stream",
     "text": [
      "# signals : 15\n"
     ]
    }
   ],
   "source": [
    "print(f'# signals : {len(test_feed.next())}')"
   ]
  },
  {
   "cell_type": "markdown",
   "metadata": {},
   "source": [
    "### 3. Create portfolio"
   ]
  },
  {
   "cell_type": "code",
   "execution_count": 17,
   "metadata": {
    "id": "Ue3_wSD6fCZW"
   },
   "outputs": [],
   "source": [
    "with td.TradingContext(**config):\n",
    "    train_portfolio = Portfolio(USD, [\n",
    "        Wallet(train_data_exchange, 100000 * USD),\n",
    "        Wallet(train_data_exchange, 0 * BTC)\n",
    "    ])\n",
    "\n",
    "with td.TradingContext(**config):\n",
    "    test_portfolio = Portfolio(USD, [\n",
    "        Wallet(test_data_exchange, 100000 * USD),\n",
    "        Wallet(test_data_exchange, 0 * BTC)\n",
    "    ])"
   ]
  },
  {
   "cell_type": "markdown",
   "metadata": {},
   "source": [
    "### 4. Create Environments for RL"
   ]
  },
  {
   "cell_type": "code",
   "execution_count": 18,
   "metadata": {},
   "outputs": [],
   "source": [
    "train_Action = DiscretePositionScheme(positionList=np.arange(0, 0.91, 0.1).tolist())\n",
    "test_Action = DiscretePositionScheme(positionList=np.arange(0, 0.91, 0.1).tolist())\n",
    "relativeReward = RelativeReturnReward()\n",
    "window_size = 10\n",
    "max_episode_timesteps = 40\n",
    "stochastic_reset = True\n",
    "\n",
    "with td.TradingContext(**config):\n",
    "    train_env = TradingEnvironment(portfolio=train_portfolio,\n",
    "                                   reward_scheme=relativeReward,\n",
    "                                   action_scheme=train_Action,\n",
    "                                   max_episode_timesteps=max_episode_timesteps,\n",
    "                                   external_feed=train_feed,\n",
    "                                   window_size=window_size,\n",
    "                                   observe_internal_feed=False,\n",
    "                                   on_execute_verbose=False,\n",
    "                                   stochastic_reset=stochastic_reset,\n",
    "                                   clock_map=train_data.index.tolist())\n",
    "\n",
    "    test_env = TradingEnvironment(portfolio=test_portfolio,\n",
    "                                  reward_scheme=relativeReward,\n",
    "                                  action_scheme=test_Action,\n",
    "                                  max_episode_timesteps=max_episode_timesteps,\n",
    "                                  external_feed=test_feed,\n",
    "                                  window_size=window_size,\n",
    "                                  observe_internal_feed=False,\n",
    "                                  on_execute_verbose=False,\n",
    "                                  stochastic_reset=stochastic_reset,\n",
    "                                  clock_map=test_data.index.tolist())\n",
    "\n",
    "# env.reset() "
   ]
  },
  {
   "cell_type": "markdown",
   "metadata": {
    "tags": []
   },
   "source": [
    "### 4. Config network structure"
   ]
  },
  {
   "cell_type": "code",
   "execution_count": 19,
   "metadata": {
    "id": "wFFlIw3XqIqS"
   },
   "outputs": [],
   "source": [
    "# tf.reset_default_graph()\n",
    "with tf.device(\n",
    "        '/CPU:0'):  # tf2.3.will raise error if there are other tf GPU processes running on this device(maybe Chrome)\n",
    "    network = tf.keras.Sequential([\n",
    "        tf.keras.layers.InputLayer(input_shape=train_env.observation_space.shape),\n",
    "        tf.keras.layers.Conv1D(filters=5, kernel_size=5, padding=\"valid\", activation=\"tanh\"),  # horizontal filter\n",
    "        # tf.keras.layers.MaxPooling1D(pool_size=3),\n",
    "        tf.keras.layers.Conv1D(filters=4, kernel_size=5, padding=\"valid\", activation=\"tanh\"),\n",
    "        # tf.keras.layers.MaxPooling1D(pool_size=2),\n",
    "        tf.keras.layers.Flatten(),\n",
    "        # tf.keras.layers.Dense(128, activation=\"relu\"),\n",
    "        # tf.keras.layers.Dense(64, activation=\"relu\"),\n",
    "        tf.keras.layers.Dense(len(train_env.action_space), activation=\"relu\")\n",
    "    ])\n"
   ]
  },
  {
   "cell_type": "code",
   "execution_count": 20,
   "metadata": {},
   "outputs": [
    {
     "data": {
      "text/plain": [
       "(10, 15)"
      ]
     },
     "execution_count": 20,
     "metadata": {},
     "output_type": "execute_result"
    }
   ],
   "source": [
    "train_env.observation_space.shape"
   ]
  },
  {
   "cell_type": "code",
   "execution_count": 21,
   "metadata": {},
   "outputs": [
    {
     "name": "stdout",
     "output_type": "stream",
     "text": [
      "Model: \"sequential\"\n",
      "_________________________________________________________________\n",
      " Layer (type)                Output Shape              Param #   \n",
      "=================================================================\n",
      " conv1d (Conv1D)             (None, 6, 5)              380       \n",
      "                                                                 \n",
      " conv1d_1 (Conv1D)           (None, 2, 4)              104       \n",
      "                                                                 \n",
      " flatten (Flatten)           (None, 8)                 0         \n",
      "                                                                 \n",
      " dense (Dense)               (None, 11)                99        \n",
      "                                                                 \n",
      "=================================================================\n",
      "Total params: 583\n",
      "Trainable params: 583\n",
      "Non-trainable params: 0\n",
      "_________________________________________________________________\n"
     ]
    }
   ],
   "source": [
    "network.summary()"
   ]
  },
  {
   "cell_type": "code",
   "execution_count": 22,
   "metadata": {
    "id": "ApYbPCGJmYgD"
   },
   "outputs": [],
   "source": [
    "agent_spec = {\n",
    "    'discount_factor': 0.5,\n",
    "    'learning_rate': 0.0001,\n",
    "    'batch_size': 32,\n",
    "    'eps_start': 1,\n",
    "    'eps_end': 0.05,\n",
    "    'eps_decay_steps': 20,\n",
    "    'update_target_every': 100,\n",
    "    'memory_capacity': 10000,\n",
    "    \"ini_steps\": 512,\n",
    "    \"max_episode_timesteps\": train_env.max_episode_timesteps}\n",
    "save_path = r'.\\models\\train'\n",
    "step_verbose = False\n",
    "episode_verbose = False\n",
    "n_episodes = 50\n",
    "save_every = 5\n",
    "evaluate_every_n_episode = 5\n",
    "save_episodic_performance = False"
   ]
  },
  {
   "cell_type": "markdown",
   "metadata": {},
   "source": [
    "## Train-Test model"
   ]
  },
  {
   "cell_type": "markdown",
   "metadata": {},
   "source": [
    "### 1. Baseline: buy and hold"
   ]
  },
  {
   "cell_type": "code",
   "execution_count": 23,
   "metadata": {
    "colab": {
     "base_uri": "https://localhost:8080/",
     "height": 626
    },
    "executionInfo": {
     "elapsed": 1889,
     "status": "ok",
     "timestamp": 1619488013062,
     "user": {
      "displayName": "Jianmin Mao",
      "photoUrl": "",
      "userId": "02924546745424929897"
     },
     "user_tz": -480
    },
    "id": "3lUK77Snnasg",
    "outputId": "55c5becb-8a66-4e96-e429-fc362e715b12",
    "tags": []
   },
   "outputs": [
    {
     "data": {
      "text/plain": [
       "<AxesSubplot:xlabel='date'>"
      ]
     },
     "execution_count": 23,
     "metadata": {},
     "output_type": "execute_result"
    },
    {
     "data": {
      "image/png": "[encoded data removed]",
      "text/plain": [
       "<Figure size 1080x576 with 1 Axes>"
      ]
     },
     "metadata": {},
     "output_type": "display_data"
    }
   ],
   "source": [
    "train_close.plot(figsize=(15,8))"
   ]
  },
  {
   "cell_type": "markdown",
   "metadata": {},
   "source": [
    "### 2. Train RL agent"
   ]
  },
  {
   "cell_type": "code",
   "execution_count": null,
   "metadata": {
    "colab": {
     "base_uri": "https://localhost:8080/",
     "height": 626
    },
    "executionInfo": {
     "elapsed": 2068,
     "status": "ok",
     "timestamp": 1619488016733,
     "user": {
      "displayName": "Jianmin Mao",
      "photoUrl": "",
      "userId": "02924546745424929897"
     },
     "user_tz": -480
    },
    "id": "VDwQ7qGqvRHS",
    "outputId": "d6eeba2f-6eb3-4cf1-d852-44089b5df60b",
    "pycharm": {
     "is_executing": true
    },
    "tags": []
   },
   "outputs": [],
   "source": [
    "with tf.device('/CPU:0'):\n",
    "    myAgent = DQNAgent(train_env, policy_network=network)\n",
    "    myAgent.train(n_episodes=n_episodes,\n",
    "                  save_every=save_every,\n",
    "                  save_path=save_path,\n",
    "                  step_verbose=step_verbose,\n",
    "                  episode_verbose=episode_verbose,\n",
    "                  evaluate_every_n_episode=evaluate_every_n_episode,\n",
    "                  save_episodic_performance=save_episodic_performance,\n",
    "                  **agent_spec)"
   ]
  },
  {
   "cell_type": "markdown",
   "metadata": {},
   "source": [
    "### 3. Restore RL agent"
   ]
  },
  {
   "cell_type": "code",
   "execution_count": 25,
   "metadata": {},
   "outputs": [],
   "source": [
    "with tf.device('/CPU:0'):\n",
    "    myAgent = DQNAgent(train_env, policy_network=network)"
   ]
  },
  {
   "cell_type": "code",
   "execution_count": null,
   "metadata": {
    "tags": []
   },
   "outputs": [],
   "source": [
    "# the last number for the .h5 is the number of epsiode trained (you need to make sure the following path exists!!)\n",
    "myAgent.restore(\"./models/train/policy_network__a13bf913-f3f2-4077-8620-bda9693b0899__35.h5\")  "
   ]
  },
  {
   "cell_type": "markdown",
   "metadata": {
    "tags": []
   },
   "source": [
    "### 4. Test over different data sets (environments)"
   ]
  },
  {
   "cell_type": "code",
   "execution_count": 27,
   "metadata": {},
   "outputs": [
    {
     "name": "stderr",
     "output_type": "stream",
     "text": [
      "100%|███████████████████████████████████████████████████████████████████████████████████████████████████████████| 200/200 [00:10<00:00, 18.76it/s]\n"
     ]
    },
    {
     "data": {
      "image/png": "[encoded data removed]",
      "text/plain": [
       "<Figure size 432x288 with 1 Axes>"
      ]
     },
     "metadata": {},
     "output_type": "display_data"
    },
    {
     "name": "stdout",
     "output_type": "stream",
     "text": [
      "Annual Sharpe: -2.174828193783415\n",
      "Maximum drop down: 1.4265873047177728\n",
      "Cumulative return(single-rate): -0.9957254669616022\n",
      "Cumulative return(compound-rate) : 1.3880236908203134\n"
     ]
    }
   ],
   "source": [
    "with tf.device('/CPU:0'):\n",
    "    myAgent.env = train_env  # set the environment you want to test\n",
    "    myAgent.test(start_step = 10, n_steps=200) # make sure you won't exceed the maximum length of the data feed in the envirnoment"
   ]
  },
  {
   "cell_type": "code",
   "execution_count": 28,
   "metadata": {},
   "outputs": [
    {
     "name": "stderr",
     "output_type": "stream",
     "text": [
      "100%|███████████████████████████████████████████████████████████████████████████████████████████████████████████| 200/200 [00:10<00:00, 18.25it/s]\n"
     ]
    },
    {
     "data": {
      "image/png": "[encoded data removed]",
      "text/plain": [
       "<Figure size 432x288 with 1 Axes>"
      ]
     },
     "metadata": {},
     "output_type": "display_data"
    },
    {
     "name": "stdout",
     "output_type": "stream",
     "text": [
      "Annual Sharpe: -0.64103356978805\n",
      "Maximum drop down: 0.45997316259155063\n",
      "Cumulative return(single-rate): -0.2429742800156456\n",
      "Cumulative return(compound-rate) : 0.17135077929687514\n"
     ]
    }
   ],
   "source": [
    "with tf.device('/CPU:0'):\n",
    "    myAgent.env = test_env  # set the environment you want to test\n",
    "    myAgent.test(start_step = 10, n_steps=200)  # make sure you won't exceed the maximum length of the data feed in the envirnoment"
   ]
  },
  {
   "cell_type": "markdown",
   "metadata": {},
   "source": [
    "### 5. Compare with baseline performance"
   ]
  },
  {
   "cell_type": "code",
   "execution_count": 27,
   "metadata": {},
   "outputs": [],
   "source": [
    "def max_dropdown(series):\n",
    "    _acc = series.cumsum().tolist()\n",
    "    _max = -np.inf\n",
    "    max_dd = 0\n",
    "\n",
    "    for _val in _acc:\n",
    "        _max = max(_max, _val)\n",
    "        max_dd = max(max_dd, _max - _val)\n",
    "    return max_dd\n",
    "\n",
    "import matplotlib.pyplot as plt\n",
    "def get_baseline_metrics(price):\n",
    "    \n",
    "    price.plot(figsize=(15,8), title=\"BTC(test set)\")\n",
    "    plt.show()\n",
    "    ret = price.diff(-1) / price\n",
    "    sharpe = np.sqrt(252) * ret.mean() / ret.std()\n",
    "    mdd = max_dropdown(ret)\n",
    "    cum_ret = ret.sum()\n",
    "\n",
    "    print(\"Annual Sharpe: {}\".format(sharpe))\n",
    "    print(\"Maximum drop down: {}\".format(mdd))\n",
    "    print(\"Cumulative return(single-rate): {}\".format(cum_ret))\n",
    "    print(\"Cumulative return(compound-rate) : {}\".format(price.iloc[-1]/price.iloc[0] - 1))"
   ]
  },
  {
   "cell_type": "code",
   "execution_count": 28,
   "metadata": {
    "tags": []
   },
   "outputs": [
    {
     "data": {
      "image/png": "[encoded data removed]",
      "text/plain": [
       "<Figure size 1080x576 with 1 Axes>"
      ]
     },
     "metadata": {},
     "output_type": "display_data"
    },
    {
     "name": "stdout",
     "output_type": "stream",
     "text": [
      "Annual Sharpe: -1.0259611779522402\n",
      "Maximum drop down: 0.9165702181607617\n",
      "Cumulative return(single-rate): -0.5698038022078159\n",
      "Cumulative return(compound-rate) : 0.4758713077351915\n"
     ]
    }
   ],
   "source": [
    "price = test_close.iloc[10:]\n",
    "get_baseline_metrics(price)"
   ]
  },
  {
   "cell_type": "markdown",
   "metadata": {},
   "source": [
    "### 6. Show the action history while testing"
   ]
  },
  {
   "cell_type": "code",
   "execution_count": 40,
   "metadata": {},
   "outputs": [
    {
     "data": {
      "text/plain": [
       "<AxesSubplot:title={'center':'Cash Held'}, xlabel='timestamp'>"
      ]
     },
     "execution_count": 40,
     "metadata": {},
     "output_type": "execute_result"
    },
    {
     "data": {
      "image/png": "[encoded data removed]",
      "text/plain": [
       "<Figure size 432x288 with 1 Axes>"
      ]
     },
     "metadata": {},
     "output_type": "display_data"
    }
   ],
   "source": [
    "test_env.portfolio.performance[\"test_data_exchange:/USD:/free\"].iloc[10:].plot(title=\"Cash Held\")"
   ]
  },
  {
   "cell_type": "code",
   "execution_count": 44,
   "metadata": {},
   "outputs": [
    {
     "data": {
      "text/plain": [
       "<AxesSubplot:title={'center':'cash held'}, xlabel='timestamp'>"
      ]
     },
     "execution_count": 44,
     "metadata": {},
     "output_type": "execute_result"
    },
    {
     "data": {
      "image/png": "[encoded data removed]",
      "text/plain": [
       "<Figure size 432x288 with 1 Axes>"
      ]
     },
     "metadata": {},
     "output_type": "display_data"
    }
   ],
   "source": [
    "train_env.portfolio.performance[\"train_data_exchange:/USD:/free\"].plot(title=\"cash held\")"
   ]
  }
 ],
 "metadata": {
  "colab": {
   "authorship_tag": "ABX9TyNkIMN7S8o+IQiqU07glH14",
   "collapsed_sections": [],
   "name": "DQN-Strategies-Test.ipynb",
   "provenance": []
  },
  "kernelspec": {
   "display_name": "Python 3 (ipykernel)",
   "language": "python",
   "name": "python3"
  },
  "language_info": {
   "codemirror_mode": {
    "name": "ipython",
    "version": 3
   },
   "file_extension": ".py",
   "mimetype": "text/x-python",
   "name": "python",
   "nbconvert_exporter": "python",
   "pygments_lexer": "ipython3",
   "version": "3.9.7"
  },
  "toc-autonumbering": false,
  "toc-showcode": false,
  "toc-showmarkdowntxt": false,
  "toc-showtags": false
 },
 "nbformat": 4,
 "nbformat_minor": 4
}
