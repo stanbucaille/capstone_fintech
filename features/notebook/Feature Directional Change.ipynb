{
 "cells": [
  {
   "cell_type": "markdown",
   "metadata": {},
   "source": [
    "# Directional change indicator"
   ]
  },
  {
   "cell_type": "markdown",
   "metadata": {},
   "source": [
    "### Import"
   ]
  },
  {
   "cell_type": "code",
   "execution_count": 5,
   "metadata": {},
   "outputs": [],
   "source": [
    "import numpy as np\n",
    "import pandas as pd\n",
    "from pathlib import Path \n",
    "import datatable as dt\n",
    "\n",
    "from matplotlib import pyplot as plt\n",
    "from collections import defaultdict"
   ]
  },
  {
   "cell_type": "code",
   "execution_count": 6,
   "metadata": {},
   "outputs": [],
   "source": [
    "filepath = Path('../../data/csv/crypto_market_data.csv')"
   ]
  },
  {
   "cell_type": "markdown",
   "metadata": {},
   "source": [
    "### Get data"
   ]
  },
  {
   "cell_type": "code",
   "execution_count": 7,
   "metadata": {},
   "outputs": [
    {
     "data": {
      "text/html": [
       "<div>\n",
       "<style scoped>\n",
       "    .dataframe tbody tr th:only-of-type {\n",
       "        vertical-align: middle;\n",
       "    }\n",
       "\n",
       "    .dataframe tbody tr th {\n",
       "        vertical-align: top;\n",
       "    }\n",
       "\n",
       "    .dataframe thead tr th {\n",
       "        text-align: left;\n",
       "    }\n",
       "\n",
       "    .dataframe thead tr:last-of-type th {\n",
       "        text-align: right;\n",
       "    }\n",
       "</style>\n",
       "<table border=\"1\" class=\"dataframe\">\n",
       "  <thead>\n",
       "    <tr>\n",
       "      <th></th>\n",
       "      <th colspan=\"5\" halign=\"left\">USDT-USD</th>\n",
       "      <th colspan=\"5\" halign=\"left\">BTC-USD</th>\n",
       "      <th>...</th>\n",
       "      <th colspan=\"5\" halign=\"left\">ADA-USD</th>\n",
       "      <th colspan=\"5\" halign=\"left\">BNT-USD</th>\n",
       "    </tr>\n",
       "    <tr>\n",
       "      <th>1</th>\n",
       "      <th>Close</th>\n",
       "      <th>High</th>\n",
       "      <th>Low</th>\n",
       "      <th>Open</th>\n",
       "      <th>Volume</th>\n",
       "      <th>Close</th>\n",
       "      <th>High</th>\n",
       "      <th>Low</th>\n",
       "      <th>Open</th>\n",
       "      <th>Volume</th>\n",
       "      <th>...</th>\n",
       "      <th>Close</th>\n",
       "      <th>High</th>\n",
       "      <th>Low</th>\n",
       "      <th>Open</th>\n",
       "      <th>Volume</th>\n",
       "      <th>Close</th>\n",
       "      <th>High</th>\n",
       "      <th>Low</th>\n",
       "      <th>Open</th>\n",
       "      <th>Volume</th>\n",
       "    </tr>\n",
       "    <tr>\n",
       "      <th>date</th>\n",
       "      <th></th>\n",
       "      <th></th>\n",
       "      <th></th>\n",
       "      <th></th>\n",
       "      <th></th>\n",
       "      <th></th>\n",
       "      <th></th>\n",
       "      <th></th>\n",
       "      <th></th>\n",
       "      <th></th>\n",
       "      <th></th>\n",
       "      <th></th>\n",
       "      <th></th>\n",
       "      <th></th>\n",
       "      <th></th>\n",
       "      <th></th>\n",
       "      <th></th>\n",
       "      <th></th>\n",
       "      <th></th>\n",
       "      <th></th>\n",
       "      <th></th>\n",
       "    </tr>\n",
       "  </thead>\n",
       "  <tbody>\n",
       "    <tr>\n",
       "      <th>2020-04-07 09:00:00+00:00</th>\n",
       "      <td>1.000498</td>\n",
       "      <td>1.002541</td>\n",
       "      <td>1.000122</td>\n",
       "      <td>1.001162</td>\n",
       "      <td>0.0</td>\n",
       "      <td>7376.598145</td>\n",
       "      <td>7376.598145</td>\n",
       "      <td>7340.555176</td>\n",
       "      <td>7354.051270</td>\n",
       "      <td>0.0</td>\n",
       "      <td>...</td>\n",
       "      <td>0.036377</td>\n",
       "      <td>0.036377</td>\n",
       "      <td>0.036196</td>\n",
       "      <td>0.036260</td>\n",
       "      <td>0.0</td>\n",
       "      <td>0.198263</td>\n",
       "      <td>0.198263</td>\n",
       "      <td>0.197084</td>\n",
       "      <td>0.197758</td>\n",
       "      <td>0.0</td>\n",
       "    </tr>\n",
       "    <tr>\n",
       "      <th>2020-04-07 10:00:00+00:00</th>\n",
       "      <td>1.001372</td>\n",
       "      <td>1.003510</td>\n",
       "      <td>0.999029</td>\n",
       "      <td>1.000605</td>\n",
       "      <td>574005248.0</td>\n",
       "      <td>7420.056152</td>\n",
       "      <td>7427.939453</td>\n",
       "      <td>7360.825684</td>\n",
       "      <td>7377.067871</td>\n",
       "      <td>268472320.0</td>\n",
       "      <td>...</td>\n",
       "      <td>0.036766</td>\n",
       "      <td>0.036869</td>\n",
       "      <td>0.036326</td>\n",
       "      <td>0.036408</td>\n",
       "      <td>113320.0</td>\n",
       "      <td>0.199927</td>\n",
       "      <td>0.200089</td>\n",
       "      <td>0.198244</td>\n",
       "      <td>0.198244</td>\n",
       "      <td>64615.0</td>\n",
       "    </tr>\n",
       "    <tr>\n",
       "      <th>2020-04-07 11:00:00+00:00</th>\n",
       "      <td>1.001356</td>\n",
       "      <td>1.003241</td>\n",
       "      <td>0.999101</td>\n",
       "      <td>1.001339</td>\n",
       "      <td>35094528.0</td>\n",
       "      <td>7370.503418</td>\n",
       "      <td>7419.238770</td>\n",
       "      <td>7370.503418</td>\n",
       "      <td>7419.238770</td>\n",
       "      <td>0.0</td>\n",
       "      <td>...</td>\n",
       "      <td>0.036246</td>\n",
       "      <td>0.036799</td>\n",
       "      <td>0.036246</td>\n",
       "      <td>0.036799</td>\n",
       "      <td>0.0</td>\n",
       "      <td>0.197452</td>\n",
       "      <td>0.199911</td>\n",
       "      <td>0.197452</td>\n",
       "      <td>0.199911</td>\n",
       "      <td>0.0</td>\n",
       "    </tr>\n",
       "  </tbody>\n",
       "</table>\n",
       "<p>3 rows × 50 columns</p>\n",
       "</div>"
      ],
      "text/plain": [
       "0                          USDT-USD                                \\\n",
       "1                             Close      High       Low      Open   \n",
       "date                                                                \n",
       "2020-04-07 09:00:00+00:00  1.000498  1.002541  1.000122  1.001162   \n",
       "2020-04-07 10:00:00+00:00  1.001372  1.003510  0.999029  1.000605   \n",
       "2020-04-07 11:00:00+00:00  1.001356  1.003241  0.999101  1.001339   \n",
       "\n",
       "0                                           BTC-USD                            \\\n",
       "1                               Volume        Close         High          Low   \n",
       "date                                                                            \n",
       "2020-04-07 09:00:00+00:00          0.0  7376.598145  7376.598145  7340.555176   \n",
       "2020-04-07 10:00:00+00:00  574005248.0  7420.056152  7427.939453  7360.825684   \n",
       "2020-04-07 11:00:00+00:00   35094528.0  7370.503418  7419.238770  7370.503418   \n",
       "\n",
       "0                                                    ...   ADA-USD            \\\n",
       "1                                 Open       Volume  ...     Close      High   \n",
       "date                                                 ...                       \n",
       "2020-04-07 09:00:00+00:00  7354.051270          0.0  ...  0.036377  0.036377   \n",
       "2020-04-07 10:00:00+00:00  7377.067871  268472320.0  ...  0.036766  0.036869   \n",
       "2020-04-07 11:00:00+00:00  7419.238770          0.0  ...  0.036246  0.036799   \n",
       "\n",
       "0                                                         BNT-USD            \\\n",
       "1                               Low      Open    Volume     Close      High   \n",
       "date                                                                          \n",
       "2020-04-07 09:00:00+00:00  0.036196  0.036260       0.0  0.198263  0.198263   \n",
       "2020-04-07 10:00:00+00:00  0.036326  0.036408  113320.0  0.199927  0.200089   \n",
       "2020-04-07 11:00:00+00:00  0.036246  0.036799       0.0  0.197452  0.199911   \n",
       "\n",
       "0                                                       \n",
       "1                               Low      Open   Volume  \n",
       "date                                                    \n",
       "2020-04-07 09:00:00+00:00  0.197084  0.197758      0.0  \n",
       "2020-04-07 10:00:00+00:00  0.198244  0.198244  64615.0  \n",
       "2020-04-07 11:00:00+00:00  0.197452  0.199911      0.0  \n",
       "\n",
       "[3 rows x 50 columns]"
      ]
     },
     "execution_count": 7,
     "metadata": {},
     "output_type": "execute_result"
    }
   ],
   "source": [
    "df = dt.fread(filepath).to_pandas() \n",
    "df = df.T.set_index([0, 1]).T\n",
    "df = df.set_index('')\n",
    "df = df.astype(float)\n",
    "df.index.names = ['date']\n",
    "df.head(3)"
   ]
  },
  {
   "cell_type": "code",
   "execution_count": 12,
   "metadata": {},
   "outputs": [
    {
     "data": {
      "text/plain": [
       "date\n",
       "2020-04-07 09:00:00+00:00    7376.598145\n",
       "2020-04-07 10:00:00+00:00    7420.056152\n",
       "2020-04-07 11:00:00+00:00    7370.503418\n",
       "Name: Close, dtype: float64"
      ]
     },
     "metadata": {},
     "output_type": "display_data"
    }
   ],
   "source": [
    "df_btc = df['BTC-USD']['Close']\n",
    "display(df_btc.head(3))"
   ]
  },
  {
   "cell_type": "markdown",
   "metadata": {},
   "source": [
    "## Class DC_transform\n",
    "\n",
    "Goal : have everything inside a well designed class\n",
    "- load the data in the __init__() method\n",
    "- define a method transform() that returns a new dataframe with the detected events\n",
    "    - need more work for the moment --> I wanna be sure that my detected events are ok\n",
    "- define a method hmm() that learns how to detect regimes based on the Time Adjusted Return (as defined in the reference book)"
   ]
  },
  {
   "cell_type": "code",
   "execution_count": 61,
   "metadata": {},
   "outputs": [],
   "source": [
    "df_btc = df_btc.head(1000)"
   ]
  },
  {
   "cell_type": "code",
   "execution_count": 68,
   "metadata": {},
   "outputs": [],
   "source": [
    "init_date, init_price = df_btc.index[0], df_btc.values[0]"
   ]
  },
  {
   "cell_type": "code",
   "execution_count": 69,
   "metadata": {},
   "outputs": [],
   "source": [
    "alpha = 0.1"
   ]
  },
  {
   "cell_type": "code",
   "execution_count": 91,
   "metadata": {},
   "outputs": [
    {
     "name": "stdout",
     "output_type": "stream",
     "text": [
      "{'event': 'up', 'price_event': 7260.4013671875, 'date_event': '2020-04-18 22:00:00+00:00'}\n",
      "{'event': 'down', 'price_event': 7270.87158203125, 'date_event': '2020-04-19 00:00:00+00:00'}\n",
      "{'event': 'up', 'price_event': 7522.20458984375, 'date_event': '2020-04-24 00:00:00+00:00'}\n",
      "{'event': 'down', 'price_event': 7519.31982421875, 'date_event': '2020-04-24 01:00:00+00:00'}\n",
      "{'event': 'up', 'price_event': 8326.83203125, 'date_event': '2020-04-29 13:00:00+00:00'}\n",
      "{'event': 'down', 'price_event': 8368.9345703125, 'date_event': '2020-04-29 14:00:00+00:00'}\n",
      "{'event': 'up', 'price_event': 9370.3642578125, 'date_event': '2020-04-30 05:00:00+00:00'}\n",
      "{'event': 'down', 'price_event': 9318.2685546875, 'date_event': '2020-04-30 06:00:00+00:00'}\n",
      "{'event': 'up', 'price_event': 9540.9697265625, 'date_event': '2020-05-07 16:00:00+00:00'}\n",
      "{'event': 'down', 'price_event': 9797.6591796875, 'date_event': '2020-05-07 17:00:00+00:00'}\n",
      "{'event': 'up', 'price_event': 9290.416015625, 'date_event': '2020-05-13 21:00:00+00:00'}\n",
      "{'event': 'down', 'price_event': 9269.1416015625, 'date_event': '2020-05-13 22:00:00+00:00'}\n"
     ]
    }
   ],
   "source": [
    "state_market = {\n",
    "    'ext_price': init_price,\n",
    "    'ext_date': init_date\n",
    "}\n",
    "\n",
    "state_event = { \n",
    "    'event':['down'],\n",
    "    'price_event':[init_price],\n",
    "    'date_event':[init_date]\n",
    "}\n",
    "\n",
    "for (date, price) in df_btc.items():\n",
    "    if state_event['event'][-1] == 'up':\n",
    "        if price > state_market['ext_price']:\n",
    "            state_market['ext_price'] = price\n",
    "            state_market['ext_date'] = date\n",
    "        \n",
    "        r = (price - state_market['ext_price'])/state_market['ext_price']\n",
    "        if r < alpha:\n",
    "            state_event['event'].append('down')\n",
    "            state_event['price_event'].append(state_market['ext_price'])\n",
    "            state_event['date_event'].append(state_market['ext_date'])\n",
    "            \n",
    "            state_market['ext_price'] = price\n",
    "            state_market['ext_date'] = date\n",
    "            \n",
    "            #print(date, price)\n",
    "            print({'event':'down','price_event':state_market['ext_price'],'date_event':state_market['ext_date']})\n",
    "            \n",
    "    else:\n",
    "        if price < state_market['ext_price']:\n",
    "            state_market['ext_price'] = price\n",
    "            state_market['ext_date'] = date\n",
    "        \n",
    "        r = (price - state_market['ext_price'])/state_market['ext_price']\n",
    "        if r > alpha:\n",
    "            state_event['event'].append('up')\n",
    "            state_event['price_event'].append(state_market['ext_price'])\n",
    "            state_event['date_event'].append(state_market['ext_date'])\n",
    "            \n",
    "            state_market['ext_price'] = price\n",
    "            state_market['ext_date'] = date\n",
    "            \n",
    "            #print(date, price)\n",
    "            print({'event':'up','price_event':state_market['ext_price'],'date_event':state_market['ext_date']})"
   ]
  },
  {
   "cell_type": "code",
   "execution_count": 92,
   "metadata": {},
   "outputs": [
    {
     "data": {
      "text/plain": [
       "<matplotlib.collections.PathCollection at 0x7fe97d730810>"
      ]
     },
     "execution_count": 92,
     "metadata": {},
     "output_type": "execute_result"
    },
    {
     "data": {
      "image/png": "[encoded data removed]",
      "text/plain": [
       "<Figure size 432x288 with 1 Axes>"
      ]
     },
     "metadata": {
      "needs_background": "light"
     },
     "output_type": "display_data"
    }
   ],
   "source": [
    "up_trend = np.array(state_event['event']) == 'up'\n",
    "down_trend = np.array(state_event['event']) == 'down'\n",
    "\n",
    "up_price = np.array(state_event['price_event'])[up_trend]\n",
    "down_price = np.array(state_event['price_event'])[down_trend]\n",
    "\n",
    "up_date = np.array(state_event['date_event'])[up_trend]\n",
    "down_date = np.array(state_event['date_event'])[down_trend]\n",
    "\n",
    "plt.plot(df_btc.index, df_btc.values)\n",
    "plt.scatter(up_date, up_price, c='r', marker='+')\n",
    "plt.scatter(down_date, down_price, c='y', marker='x')"
   ]
  },
  {
   "cell_type": "markdown",
   "metadata": {},
   "source": [
    "### Save features"
   ]
  },
  {
   "cell_type": "code",
   "execution_count": 10,
   "metadata": {},
   "outputs": [],
   "source": [
    "filepath = Path('../csv/features_btc_ta.csv')"
   ]
  },
  {
   "cell_type": "code",
   "execution_count": 11,
   "metadata": {},
   "outputs": [],
   "source": [
    "#df_btc_ta.to_csv(filepath)"
   ]
  }
 ],
 "metadata": {
  "kernelspec": {
   "display_name": "Python 3",
   "language": "python",
   "name": "python3"
  },
  "language_info": {
   "codemirror_mode": {
    "name": "ipython",
    "version": 3
   },
   "file_extension": ".py",
   "mimetype": "text/x-python",
   "name": "python",
   "nbconvert_exporter": "python",
   "pygments_lexer": "ipython3",
   "version": "3.7.4"
  }
 },
 "nbformat": 4,
 "nbformat_minor": 5
}
