{
 "cells": [
  {
   "cell_type": "markdown",
   "metadata": {},
   "source": [
    "# Glassnode - onchain data"
   ]
  },
  {
   "cell_type": "markdown",
   "metadata": {},
   "source": [
    "### Import"
   ]
  },
  {
   "cell_type": "code",
   "execution_count": 1,
   "metadata": {},
   "outputs": [
    {
     "data": {
      "text/html": [
       "<style type='text/css'>\n",
       ".datatable table.frame { margin-bottom: 0; }\n",
       ".datatable table.frame thead { border-bottom: none; }\n",
       ".datatable table.frame tr.coltypes td {  color: #FFFFFF;  line-height: 6px;  padding: 0 0.5em;}\n",
       ".datatable .bool    { background: #DDDD99; }\n",
       ".datatable .object  { background: #565656; }\n",
       ".datatable .int     { background: #5D9E5D; }\n",
       ".datatable .float   { background: #4040CC; }\n",
       ".datatable .str     { background: #CC4040; }\n",
       ".datatable .time    { background: #40CC40; }\n",
       ".datatable .row_index {  background: var(--jp-border-color3);  border-right: 1px solid var(--jp-border-color0);  color: var(--jp-ui-font-color3);  font-size: 9px;}\n",
       ".datatable .frame tbody td { text-align: left; }\n",
       ".datatable .frame tr.coltypes .row_index {  background: var(--jp-border-color0);}\n",
       ".datatable th:nth-child(2) { padding-left: 12px; }\n",
       ".datatable .hellipsis {  color: var(--jp-cell-editor-border-color);}\n",
       ".datatable .vellipsis {  background: var(--jp-layout-color0);  color: var(--jp-cell-editor-border-color);}\n",
       ".datatable .na {  color: var(--jp-cell-editor-border-color);  font-size: 80%;}\n",
       ".datatable .sp {  opacity: 0.25;}\n",
       ".datatable .footer { font-size: 9px; }\n",
       ".datatable .frame_dimensions {  background: var(--jp-border-color3);  border-top: 1px solid var(--jp-border-color0);  color: var(--jp-ui-font-color3);  display: inline-block;  opacity: 0.6;  padding: 1px 10px 1px 5px;}\n",
       "</style>\n"
      ],
      "text/plain": [
       "<IPython.core.display.HTML object>"
      ]
     },
     "metadata": {},
     "output_type": "display_data"
    }
   ],
   "source": [
    "import numpy as np\n",
    "import pandas as pd\n",
    "from pathlib import Path \n",
    "import datatable as dt"
   ]
  },
  {
   "cell_type": "markdown",
   "metadata": {},
   "source": [
    "### Get data"
   ]
  },
  {
   "cell_type": "code",
   "execution_count": 5,
   "metadata": {},
   "outputs": [],
   "source": [
    "filepath = Path('../../data/csv/glassnode_onchain_data.csv')"
   ]
  },
  {
   "cell_type": "code",
   "execution_count": 8,
   "metadata": {},
   "outputs": [
    {
     "data": {
      "text/html": [
       "<div>\n",
       "<style scoped>\n",
       "    .dataframe tbody tr th:only-of-type {\n",
       "        vertical-align: middle;\n",
       "    }\n",
       "\n",
       "    .dataframe tbody tr th {\n",
       "        vertical-align: top;\n",
       "    }\n",
       "\n",
       "    .dataframe thead th {\n",
       "        text-align: right;\n",
       "    }\n",
       "</style>\n",
       "<table border=\"1\" class=\"dataframe\">\n",
       "  <thead>\n",
       "    <tr style=\"text-align: right;\">\n",
       "      <th></th>\n",
       "      <th>addresses/count</th>\n",
       "      <th>addresses/sending_count</th>\n",
       "      <th>addresses/receiving_count</th>\n",
       "      <th>addresses/active_count</th>\n",
       "      <th>addresses/new_non_zero_count</th>\n",
       "      <th>transactions/count</th>\n",
       "      <th>transactions/rate</th>\n",
       "      <th>transactions/transfers_volume_sum</th>\n",
       "      <th>transactions/transfers_volume_mean</th>\n",
       "      <th>transactions/transfers_volume_median</th>\n",
       "      <th>...</th>\n",
       "      <th>fees/volume_mean</th>\n",
       "      <th>fees/volume_median</th>\n",
       "      <th>blockchain/utxo_created_count</th>\n",
       "      <th>blockchain/utxo_spent_count</th>\n",
       "      <th>blockchain/utxo_created_value_sum</th>\n",
       "      <th>blockchain/utxo_spent_value_sum</th>\n",
       "      <th>blockchain/utxo_created_value_mean</th>\n",
       "      <th>blockchain/utxo_spent_value_mean</th>\n",
       "      <th>blockchain/utxo_created_value_median</th>\n",
       "      <th>blockchain/utxo_spent_value_median</th>\n",
       "    </tr>\n",
       "    <tr>\n",
       "      <th>date</th>\n",
       "      <th></th>\n",
       "      <th></th>\n",
       "      <th></th>\n",
       "      <th></th>\n",
       "      <th></th>\n",
       "      <th></th>\n",
       "      <th></th>\n",
       "      <th></th>\n",
       "      <th></th>\n",
       "      <th></th>\n",
       "      <th></th>\n",
       "      <th></th>\n",
       "      <th></th>\n",
       "      <th></th>\n",
       "      <th></th>\n",
       "      <th></th>\n",
       "      <th></th>\n",
       "      <th></th>\n",
       "      <th></th>\n",
       "      <th></th>\n",
       "      <th></th>\n",
       "    </tr>\n",
       "  </thead>\n",
       "  <tbody>\n",
       "    <tr>\n",
       "      <th>2009-01-03</th>\n",
       "      <td>1.0</td>\n",
       "      <td>0.0</td>\n",
       "      <td>0.0</td>\n",
       "      <td>0.0</td>\n",
       "      <td>1.0</td>\n",
       "      <td>0.0</td>\n",
       "      <td>0.0</td>\n",
       "      <td>0.0</td>\n",
       "      <td>0.0</td>\n",
       "      <td>0.0</td>\n",
       "      <td>...</td>\n",
       "      <td>0.0</td>\n",
       "      <td>0.0</td>\n",
       "      <td>1.0</td>\n",
       "      <td>0.0</td>\n",
       "      <td>50.0</td>\n",
       "      <td>0.0</td>\n",
       "      <td>50.0</td>\n",
       "      <td>0.0</td>\n",
       "      <td>50.0</td>\n",
       "      <td>0.0</td>\n",
       "    </tr>\n",
       "    <tr>\n",
       "      <th>2009-01-04</th>\n",
       "      <td>1.0</td>\n",
       "      <td>0.0</td>\n",
       "      <td>0.0</td>\n",
       "      <td>0.0</td>\n",
       "      <td>0.0</td>\n",
       "      <td>0.0</td>\n",
       "      <td>0.0</td>\n",
       "      <td>0.0</td>\n",
       "      <td>0.0</td>\n",
       "      <td>0.0</td>\n",
       "      <td>...</td>\n",
       "      <td>0.0</td>\n",
       "      <td>0.0</td>\n",
       "      <td>0.0</td>\n",
       "      <td>0.0</td>\n",
       "      <td>0.0</td>\n",
       "      <td>0.0</td>\n",
       "      <td>0.0</td>\n",
       "      <td>0.0</td>\n",
       "      <td>0.0</td>\n",
       "      <td>0.0</td>\n",
       "    </tr>\n",
       "    <tr>\n",
       "      <th>2009-01-05</th>\n",
       "      <td>1.0</td>\n",
       "      <td>0.0</td>\n",
       "      <td>0.0</td>\n",
       "      <td>0.0</td>\n",
       "      <td>0.0</td>\n",
       "      <td>0.0</td>\n",
       "      <td>0.0</td>\n",
       "      <td>0.0</td>\n",
       "      <td>0.0</td>\n",
       "      <td>0.0</td>\n",
       "      <td>...</td>\n",
       "      <td>0.0</td>\n",
       "      <td>0.0</td>\n",
       "      <td>0.0</td>\n",
       "      <td>0.0</td>\n",
       "      <td>0.0</td>\n",
       "      <td>0.0</td>\n",
       "      <td>0.0</td>\n",
       "      <td>0.0</td>\n",
       "      <td>0.0</td>\n",
       "      <td>0.0</td>\n",
       "    </tr>\n",
       "  </tbody>\n",
       "</table>\n",
       "<p>3 rows × 21 columns</p>\n",
       "</div>"
      ],
      "text/plain": [
       "            addresses/count  addresses/sending_count  \\\n",
       "date                                                   \n",
       "2009-01-03              1.0                      0.0   \n",
       "2009-01-04              1.0                      0.0   \n",
       "2009-01-05              1.0                      0.0   \n",
       "\n",
       "            addresses/receiving_count  addresses/active_count  \\\n",
       "date                                                            \n",
       "2009-01-03                        0.0                     0.0   \n",
       "2009-01-04                        0.0                     0.0   \n",
       "2009-01-05                        0.0                     0.0   \n",
       "\n",
       "            addresses/new_non_zero_count  transactions/count  \\\n",
       "date                                                           \n",
       "2009-01-03                           1.0                 0.0   \n",
       "2009-01-04                           0.0                 0.0   \n",
       "2009-01-05                           0.0                 0.0   \n",
       "\n",
       "            transactions/rate  transactions/transfers_volume_sum  \\\n",
       "date                                                               \n",
       "2009-01-03                0.0                                0.0   \n",
       "2009-01-04                0.0                                0.0   \n",
       "2009-01-05                0.0                                0.0   \n",
       "\n",
       "            transactions/transfers_volume_mean  \\\n",
       "date                                             \n",
       "2009-01-03                                 0.0   \n",
       "2009-01-04                                 0.0   \n",
       "2009-01-05                                 0.0   \n",
       "\n",
       "            transactions/transfers_volume_median  ...  fees/volume_mean  \\\n",
       "date                                              ...                     \n",
       "2009-01-03                                   0.0  ...               0.0   \n",
       "2009-01-04                                   0.0  ...               0.0   \n",
       "2009-01-05                                   0.0  ...               0.0   \n",
       "\n",
       "            fees/volume_median  blockchain/utxo_created_count  \\\n",
       "date                                                            \n",
       "2009-01-03                 0.0                            1.0   \n",
       "2009-01-04                 0.0                            0.0   \n",
       "2009-01-05                 0.0                            0.0   \n",
       "\n",
       "            blockchain/utxo_spent_count  blockchain/utxo_created_value_sum  \\\n",
       "date                                                                         \n",
       "2009-01-03                          0.0                               50.0   \n",
       "2009-01-04                          0.0                                0.0   \n",
       "2009-01-05                          0.0                                0.0   \n",
       "\n",
       "            blockchain/utxo_spent_value_sum  \\\n",
       "date                                          \n",
       "2009-01-03                              0.0   \n",
       "2009-01-04                              0.0   \n",
       "2009-01-05                              0.0   \n",
       "\n",
       "            blockchain/utxo_created_value_mean  \\\n",
       "date                                             \n",
       "2009-01-03                                50.0   \n",
       "2009-01-04                                 0.0   \n",
       "2009-01-05                                 0.0   \n",
       "\n",
       "            blockchain/utxo_spent_value_mean  \\\n",
       "date                                           \n",
       "2009-01-03                               0.0   \n",
       "2009-01-04                               0.0   \n",
       "2009-01-05                               0.0   \n",
       "\n",
       "            blockchain/utxo_created_value_median  \\\n",
       "date                                               \n",
       "2009-01-03                                  50.0   \n",
       "2009-01-04                                   0.0   \n",
       "2009-01-05                                   0.0   \n",
       "\n",
       "            blockchain/utxo_spent_value_median  \n",
       "date                                            \n",
       "2009-01-03                                 0.0  \n",
       "2009-01-04                                 0.0  \n",
       "2009-01-05                                 0.0  \n",
       "\n",
       "[3 rows x 21 columns]"
      ]
     },
     "execution_count": 8,
     "metadata": {},
     "output_type": "execute_result"
    }
   ],
   "source": [
    "df = dt.fread(filepath).to_pandas() \n",
    "df = df.set_index('t')\n",
    "df.index.names = ['date']\n",
    "df.head(3)"
   ]
  },
  {
   "cell_type": "markdown",
   "metadata": {},
   "source": [
    "### Computes features"
   ]
  },
  {
   "cell_type": "code",
   "execution_count": 9,
   "metadata": {},
   "outputs": [],
   "source": [
    "df_features = df"
   ]
  },
  {
   "cell_type": "markdown",
   "metadata": {},
   "source": [
    "### Save features"
   ]
  },
  {
   "cell_type": "code",
   "execution_count": 10,
   "metadata": {},
   "outputs": [],
   "source": [
    "filepath = Path('../csv/features_glassnode.csv')"
   ]
  },
  {
   "cell_type": "code",
   "execution_count": 11,
   "metadata": {},
   "outputs": [],
   "source": [
    "df_features.to_csv(filepath)"
   ]
  }
 ],
 "metadata": {
  "kernelspec": {
   "display_name": "Python 3",
   "language": "python",
   "name": "python3"
  },
  "language_info": {
   "codemirror_mode": {
    "name": "ipython",
    "version": 3
   },
   "file_extension": ".py",
   "mimetype": "text/x-python",
   "name": "python",
   "nbconvert_exporter": "python",
   "pygments_lexer": "ipython3",
   "version": "3.7.4"
  }
 },
 "nbformat": 4,
 "nbformat_minor": 2
}
